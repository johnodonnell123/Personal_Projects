{
 "cells": [
  {
   "cell_type": "markdown",
   "id": "eb8de3e3-70c8-429b-a4c1-b2b1b6aee38f",
   "metadata": {},
   "source": [
    "# <center> Difference In Differences"
   ]
  },
  {
   "cell_type": "code",
   "execution_count": 1,
   "id": "252d1760-bbd4-4fb7-b424-fc7c7e17dcf3",
   "metadata": {},
   "outputs": [],
   "source": [
    "import numpy as np\n",
    "import pandas as pd\n",
    "from scipy import stats"
   ]
  },
  {
   "cell_type": "code",
   "execution_count": 2,
   "id": "8ec9d0aa-2ce0-49c6-b291-ef29ff8b6bd1",
   "metadata": {},
   "outputs": [
    {
     "data": {
      "text/html": [
       "<div>\n",
       "<style scoped>\n",
       "    .dataframe tbody tr th:only-of-type {\n",
       "        vertical-align: middle;\n",
       "    }\n",
       "\n",
       "    .dataframe tbody tr th {\n",
       "        vertical-align: top;\n",
       "    }\n",
       "\n",
       "    .dataframe thead th {\n",
       "        text-align: right;\n",
       "    }\n",
       "</style>\n",
       "<table border=\"1\" class=\"dataframe\">\n",
       "  <thead>\n",
       "    <tr style=\"text-align: right;\">\n",
       "      <th></th>\n",
       "      <th>date</th>\n",
       "      <th>n_trialers</th>\n",
       "      <th>cvr</th>\n",
       "    </tr>\n",
       "  </thead>\n",
       "  <tbody>\n",
       "    <tr>\n",
       "      <th>0</th>\n",
       "      <td>2021-01-01</td>\n",
       "      <td>44</td>\n",
       "      <td>0.454545</td>\n",
       "    </tr>\n",
       "    <tr>\n",
       "      <th>1</th>\n",
       "      <td>2021-01-02</td>\n",
       "      <td>51</td>\n",
       "      <td>0.392157</td>\n",
       "    </tr>\n",
       "    <tr>\n",
       "      <th>2</th>\n",
       "      <td>2021-01-03</td>\n",
       "      <td>56</td>\n",
       "      <td>0.500000</td>\n",
       "    </tr>\n",
       "    <tr>\n",
       "      <th>3</th>\n",
       "      <td>2021-01-04</td>\n",
       "      <td>71</td>\n",
       "      <td>0.450704</td>\n",
       "    </tr>\n",
       "    <tr>\n",
       "      <th>4</th>\n",
       "      <td>2021-01-05</td>\n",
       "      <td>56</td>\n",
       "      <td>0.428571</td>\n",
       "    </tr>\n",
       "  </tbody>\n",
       "</table>\n",
       "</div>"
      ],
      "text/plain": [
       "         date  n_trialers       cvr\n",
       "0  2021-01-01          44  0.454545\n",
       "1  2021-01-02          51  0.392157\n",
       "2  2021-01-03          56  0.500000\n",
       "3  2021-01-04          71  0.450704\n",
       "4  2021-01-05          56  0.428571"
      ]
     },
     "execution_count": 2,
     "metadata": {},
     "output_type": "execute_result"
    }
   ],
   "source": [
    "df = pd.read_csv(r'daily_data.csv')\n",
    "df.head()"
   ]
  },
  {
   "cell_type": "markdown",
   "id": "b1d77aa5-a76e-4a98-97ff-3739e054e2dd",
   "metadata": {},
   "source": [
    "### Create synthetic test set"
   ]
  },
  {
   "cell_type": "code",
   "execution_count": 3,
   "id": "e54fb80b-1b88-44f5-b96c-a204ad4b428c",
   "metadata": {},
   "outputs": [],
   "source": [
    "# Create test set from control with some level of noise\n",
    "df['cvr_synthetic'] = df['cvr'] + np.random.normal(0,0.04, len(df))\n",
    "\n",
    "# Label the last 30 days test data\n",
    "test_start_date = '2022-06-01'\n",
    "df['is_test'] = 0\n",
    "df.loc[df['date'] >= test_start_date, 'is_test'] = 1"
   ]
  },
  {
   "cell_type": "code",
   "execution_count": 4,
   "id": "7840d435-d535-40e0-8ad5-72308c6d561d",
   "metadata": {},
   "outputs": [
    {
     "data": {
      "text/html": [
       "<div>\n",
       "<style scoped>\n",
       "    .dataframe tbody tr th:only-of-type {\n",
       "        vertical-align: middle;\n",
       "    }\n",
       "\n",
       "    .dataframe tbody tr th {\n",
       "        vertical-align: top;\n",
       "    }\n",
       "\n",
       "    .dataframe thead th {\n",
       "        text-align: right;\n",
       "    }\n",
       "</style>\n",
       "<table border=\"1\" class=\"dataframe\">\n",
       "  <thead>\n",
       "    <tr style=\"text-align: right;\">\n",
       "      <th></th>\n",
       "      <th>date</th>\n",
       "      <th>n_trialers</th>\n",
       "      <th>cvr</th>\n",
       "      <th>cvr_synthetic</th>\n",
       "      <th>is_test</th>\n",
       "    </tr>\n",
       "  </thead>\n",
       "  <tbody>\n",
       "    <tr>\n",
       "      <th>0</th>\n",
       "      <td>2021-01-01</td>\n",
       "      <td>44</td>\n",
       "      <td>0.454545</td>\n",
       "      <td>0.423053</td>\n",
       "      <td>0</td>\n",
       "    </tr>\n",
       "    <tr>\n",
       "      <th>1</th>\n",
       "      <td>2021-01-02</td>\n",
       "      <td>51</td>\n",
       "      <td>0.392157</td>\n",
       "      <td>0.367575</td>\n",
       "      <td>0</td>\n",
       "    </tr>\n",
       "    <tr>\n",
       "      <th>2</th>\n",
       "      <td>2021-01-03</td>\n",
       "      <td>56</td>\n",
       "      <td>0.500000</td>\n",
       "      <td>0.465146</td>\n",
       "      <td>0</td>\n",
       "    </tr>\n",
       "    <tr>\n",
       "      <th>3</th>\n",
       "      <td>2021-01-04</td>\n",
       "      <td>71</td>\n",
       "      <td>0.450704</td>\n",
       "      <td>0.513398</td>\n",
       "      <td>0</td>\n",
       "    </tr>\n",
       "    <tr>\n",
       "      <th>4</th>\n",
       "      <td>2021-01-05</td>\n",
       "      <td>56</td>\n",
       "      <td>0.428571</td>\n",
       "      <td>0.414102</td>\n",
       "      <td>0</td>\n",
       "    </tr>\n",
       "  </tbody>\n",
       "</table>\n",
       "</div>"
      ],
      "text/plain": [
       "         date  n_trialers       cvr  cvr_synthetic  is_test\n",
       "0  2021-01-01          44  0.454545       0.423053        0\n",
       "1  2021-01-02          51  0.392157       0.367575        0\n",
       "2  2021-01-03          56  0.500000       0.465146        0\n",
       "3  2021-01-04          71  0.450704       0.513398        0\n",
       "4  2021-01-05          56  0.428571       0.414102        0"
      ]
     },
     "execution_count": 4,
     "metadata": {},
     "output_type": "execute_result"
    }
   ],
   "source": [
    "# View DataFrame\n",
    "df.head()"
   ]
  },
  {
   "cell_type": "code",
   "execution_count": 5,
   "id": "722efda5-eb35-4b80-9bbc-23b0069b980e",
   "metadata": {},
   "outputs": [
    {
     "data": {
      "text/plain": [
       "0    516\n",
       "1     30\n",
       "Name: is_test, dtype: int64"
      ]
     },
     "execution_count": 5,
     "metadata": {},
     "output_type": "execute_result"
    }
   ],
   "source": [
    "# View how many days the test has been running\n",
    "df['is_test'].value_counts()"
   ]
  },
  {
   "cell_type": "code",
   "execution_count": 6,
   "id": "90ddc1c7-04fe-4882-b1e5-97fc4ca45573",
   "metadata": {},
   "outputs": [
    {
     "data": {
      "text/html": [
       "<div>\n",
       "<style scoped>\n",
       "    .dataframe tbody tr th:only-of-type {\n",
       "        vertical-align: middle;\n",
       "    }\n",
       "\n",
       "    .dataframe tbody tr th {\n",
       "        vertical-align: top;\n",
       "    }\n",
       "\n",
       "    .dataframe thead th {\n",
       "        text-align: right;\n",
       "    }\n",
       "</style>\n",
       "<table border=\"1\" class=\"dataframe\">\n",
       "  <thead>\n",
       "    <tr style=\"text-align: right;\">\n",
       "      <th></th>\n",
       "      <th>cvr</th>\n",
       "      <th>cvr_synthetic</th>\n",
       "    </tr>\n",
       "  </thead>\n",
       "  <tbody>\n",
       "    <tr>\n",
       "      <th>cvr</th>\n",
       "      <td>1.00</td>\n",
       "      <td>0.82</td>\n",
       "    </tr>\n",
       "    <tr>\n",
       "      <th>cvr_synthetic</th>\n",
       "      <td>0.82</td>\n",
       "      <td>1.00</td>\n",
       "    </tr>\n",
       "  </tbody>\n",
       "</table>\n",
       "</div>"
      ],
      "text/plain": [
       "                cvr  cvr_synthetic\n",
       "cvr            1.00           0.82\n",
       "cvr_synthetic  0.82           1.00"
      ]
     },
     "execution_count": 6,
     "metadata": {},
     "output_type": "execute_result"
    }
   ],
   "source": [
    "# Check correlation of test and control cvr\n",
    "round(df[['cvr','cvr_synthetic']].corr(),2)"
   ]
  },
  {
   "cell_type": "code",
   "execution_count": 7,
   "id": "41c2e03e-b34d-4408-8b03-8c06a43e7708",
   "metadata": {},
   "outputs": [],
   "source": [
    "# Create uplift in test dataset\n",
    "uplift = 0.02\n",
    "df.loc[df['is_test'] == 1, 'cvr_synthetic'] = df.loc[df['is_test'] == 1, 'cvr_synthetic'] + uplift"
   ]
  },
  {
   "cell_type": "markdown",
   "id": "ee369863-194e-4fd3-83a8-acf3d51b5abf",
   "metadata": {},
   "source": [
    "### Calculate Rolling Average (for plotting)"
   ]
  },
  {
   "cell_type": "code",
   "execution_count": 8,
   "id": "a43f7060-5708-459e-bfcb-f00adbaa8300",
   "metadata": {},
   "outputs": [],
   "source": [
    "df['cvr_r7'] = df.groupby(['is_test'])['cvr'].rolling(7).mean().reset_index(level=0, drop=True)\n",
    "df['cvr_synthetic_r7'] = df.groupby(['is_test'])['cvr_synthetic'].rolling(7).mean().reset_index(level=0, drop=True)"
   ]
  },
  {
   "cell_type": "code",
   "execution_count": 9,
   "id": "179ed24c-676c-448a-8b29-af847c7fe185",
   "metadata": {},
   "outputs": [
    {
     "data": {
      "image/png": "[encoded data removed]",
      "text/plain": [
       "<Figure size 1080x360 with 1 Axes>"
      ]
     },
     "metadata": {
      "needs_background": "light"
     },
     "output_type": "display_data"
    }
   ],
   "source": [
    "df.plot(x=\"date\", y=[\"cvr_r7\", \"cvr_synthetic_r7\"], figsize=(15,5), ylim=(0,1));"
   ]
  },
  {
   "cell_type": "code",
   "execution_count": 10,
   "id": "0cbbbc06-136c-4b96-b67f-4b8a637ec8b8",
   "metadata": {},
   "outputs": [],
   "source": [
    "df['delta'] = df['cvr_synthetic'] - df['cvr']"
   ]
  },
  {
   "cell_type": "code",
   "execution_count": 11,
   "id": "7757e233-561c-4f96-bf93-dc34b8f0e31b",
   "metadata": {},
   "outputs": [
    {
     "data": {
      "image/png": "[encoded data removed]",
      "text/plain": [
       "<Figure size 432x288 with 1 Axes>"
      ]
     },
     "metadata": {
      "needs_background": "light"
     },
     "output_type": "display_data"
    }
   ],
   "source": [
    "df.boxplot('delta',by='is_test');"
   ]
  },
  {
   "cell_type": "code",
   "execution_count": 12,
   "id": "c8798606-b3c0-4c58-9fbb-890b1dd49c53",
   "metadata": {},
   "outputs": [],
   "source": [
    "a = df.loc[df['is_test'] == 0, 'delta']\n",
    "b = df.loc[df['is_test'] == 1, 'delta']"
   ]
  },
  {
   "cell_type": "code",
   "execution_count": 13,
   "id": "9b6becb1-e194-43b4-bf59-fd9c94592031",
   "metadata": {},
   "outputs": [
    {
     "data": {
      "text/plain": [
       "Ttest_indResult(statistic=-0.9984742452790422, pvalue=0.318493363104388)"
      ]
     },
     "execution_count": 13,
     "metadata": {},
     "output_type": "execute_result"
    }
   ],
   "source": [
    "stats.ttest_ind(a, b)"
   ]
  },
  {
   "cell_type": "markdown",
   "id": "dc2d23c5-02c2-443f-a965-9fba2278297e",
   "metadata": {},
   "source": [
    "# <center> Iterate and Test"
   ]
  },
  {
   "cell_type": "code",
   "execution_count": 14,
   "id": "29ab7859-05db-4db4-8f7e-5315e115b9c2",
   "metadata": {},
   "outputs": [],
   "source": [
    "iterations = 100\n",
    "noises = np.arange(0,0.11,0.01)\n",
    "effect_sizes = np.arange(0,0.11,0.01)\n",
    "r2_list = []"
   ]
  },
  {
   "cell_type": "code",
   "execution_count": 15,
   "id": "b4ed1e6d-feff-4d0c-ae6b-842158d8737c",
   "metadata": {},
   "outputs": [],
   "source": [
    "df_results = pd.DataFrame(index=effect_sizes, columns=noises)\n",
    "df_results.index.name = 'effect_size'\n",
    "df_results.columns.name = 'r2'"
   ]
  },
  {
   "cell_type": "code",
   "execution_count": 16,
   "id": "180b4255-6927-4d0c-b221-352dd993a3da",
   "metadata": {},
   "outputs": [],
   "source": [
    "for n in noises:\n",
    "    \n",
    "    for e in effect_sizes:\n",
    "        \n",
    "        rejections = []\n",
    "        r2s = []\n",
    "        \n",
    "        for i in range(iterations):\n",
    "            \n",
    "            df_temp = pd.read_csv(r'daily_data.csv')\n",
    "\n",
    "            df_temp['cvr_synthetic'] = df_temp['cvr'] + np.random.normal(0,n, len(df_temp))\n",
    "            test_start_date = '2022-06-01'\n",
    "            df_temp['is_test'] = 0\n",
    "            df_temp.loc[df_temp['date'] >= test_start_date, 'is_test'] = 1\n",
    "\n",
    "            r2 = round(df_temp[['cvr','cvr_synthetic']].corr(),2)['cvr'][1]\n",
    "            r2s.append(r2)\n",
    "            df_temp.loc[df_temp['is_test'] == 1, 'cvr_synthetic'] = df_temp.loc[df_temp['is_test'] == 1, 'cvr_synthetic'] + e\n",
    "\n",
    "            df_temp['delta'] = df_temp['cvr_synthetic'] - df_temp['cvr']\n",
    "\n",
    "            a = df_temp.loc[df_temp['is_test'] == 0, 'delta']\n",
    "            b = df_temp.loc[df_temp['is_test'] == 1, 'delta']\n",
    "\n",
    "            p_val = round(stats.ttest_ind(a, b)[1],2)\n",
    "\n",
    "            reject_null = 1 if p_val <= 0.05 else 0\n",
    "            rejections.append(reject_null)\n",
    "\n",
    "        df_results.loc[e,n] = np.mean(rejections)\n",
    "        \n",
    "    r2_list.append(np.mean(r2s))"
   ]
  },
  {
   "cell_type": "code",
   "execution_count": 17,
   "id": "e766ca09-49f9-4718-8f08-f1a2cd57845e",
   "metadata": {},
   "outputs": [],
   "source": [
    "r2_list = [round(i,3) for i in r2_list]\n",
    "df_results.columns = r2_list"
   ]
  },
  {
   "cell_type": "code",
   "execution_count": 18,
   "id": "3f1b7d04-f7da-4b6d-ad1c-56feaaeb3fd2",
   "metadata": {},
   "outputs": [
    {
     "data": {
      "text/html": [
       "<div>\n",
       "<style scoped>\n",
       "    .dataframe tbody tr th:only-of-type {\n",
       "        vertical-align: middle;\n",
       "    }\n",
       "\n",
       "    .dataframe tbody tr th {\n",
       "        vertical-align: top;\n",
       "    }\n",
       "\n",
       "    .dataframe thead th {\n",
       "        text-align: right;\n",
       "    }\n",
       "</style>\n",
       "<table border=\"1\" class=\"dataframe\">\n",
       "  <thead>\n",
       "    <tr style=\"text-align: right;\">\n",
       "      <th></th>\n",
       "      <th>1.000</th>\n",
       "      <th>0.980</th>\n",
       "      <th>0.936</th>\n",
       "      <th>0.870</th>\n",
       "      <th>0.798</th>\n",
       "      <th>0.724</th>\n",
       "      <th>0.659</th>\n",
       "      <th>0.601</th>\n",
       "      <th>0.548</th>\n",
       "      <th>0.501</th>\n",
       "      <th>0.465</th>\n",
       "    </tr>\n",
       "    <tr>\n",
       "      <th>effect_size</th>\n",
       "      <th></th>\n",
       "      <th></th>\n",
       "      <th></th>\n",
       "      <th></th>\n",
       "      <th></th>\n",
       "      <th></th>\n",
       "      <th></th>\n",
       "      <th></th>\n",
       "      <th></th>\n",
       "      <th></th>\n",
       "      <th></th>\n",
       "    </tr>\n",
       "  </thead>\n",
       "  <tbody>\n",
       "    <tr>\n",
       "      <th>0.00</th>\n",
       "      <td>0.0</td>\n",
       "      <td>0.05</td>\n",
       "      <td>0.05</td>\n",
       "      <td>0.05</td>\n",
       "      <td>0.08</td>\n",
       "      <td>0.06</td>\n",
       "      <td>0.07</td>\n",
       "      <td>0.04</td>\n",
       "      <td>0.02</td>\n",
       "      <td>0.04</td>\n",
       "      <td>0.06</td>\n",
       "    </tr>\n",
       "    <tr>\n",
       "      <th>0.01</th>\n",
       "      <td>1.0</td>\n",
       "      <td>1.0</td>\n",
       "      <td>0.75</td>\n",
       "      <td>0.41</td>\n",
       "      <td>0.29</td>\n",
       "      <td>0.2</td>\n",
       "      <td>0.08</td>\n",
       "      <td>0.14</td>\n",
       "      <td>0.14</td>\n",
       "      <td>0.13</td>\n",
       "      <td>0.09</td>\n",
       "    </tr>\n",
       "    <tr>\n",
       "      <th>0.02</th>\n",
       "      <td>1.0</td>\n",
       "      <td>1.0</td>\n",
       "      <td>1.0</td>\n",
       "      <td>0.93</td>\n",
       "      <td>0.8</td>\n",
       "      <td>0.66</td>\n",
       "      <td>0.52</td>\n",
       "      <td>0.34</td>\n",
       "      <td>0.31</td>\n",
       "      <td>0.19</td>\n",
       "      <td>0.22</td>\n",
       "    </tr>\n",
       "    <tr>\n",
       "      <th>0.03</th>\n",
       "      <td>1.0</td>\n",
       "      <td>1.0</td>\n",
       "      <td>1.0</td>\n",
       "      <td>1.0</td>\n",
       "      <td>0.97</td>\n",
       "      <td>0.89</td>\n",
       "      <td>0.81</td>\n",
       "      <td>0.69</td>\n",
       "      <td>0.52</td>\n",
       "      <td>0.39</td>\n",
       "      <td>0.4</td>\n",
       "    </tr>\n",
       "    <tr>\n",
       "      <th>0.04</th>\n",
       "      <td>1.0</td>\n",
       "      <td>1.0</td>\n",
       "      <td>1.0</td>\n",
       "      <td>1.0</td>\n",
       "      <td>1.0</td>\n",
       "      <td>0.98</td>\n",
       "      <td>0.94</td>\n",
       "      <td>0.84</td>\n",
       "      <td>0.79</td>\n",
       "      <td>0.69</td>\n",
       "      <td>0.53</td>\n",
       "    </tr>\n",
       "    <tr>\n",
       "      <th>0.05</th>\n",
       "      <td>1.0</td>\n",
       "      <td>1.0</td>\n",
       "      <td>1.0</td>\n",
       "      <td>1.0</td>\n",
       "      <td>1.0</td>\n",
       "      <td>1.0</td>\n",
       "      <td>1.0</td>\n",
       "      <td>0.98</td>\n",
       "      <td>0.91</td>\n",
       "      <td>0.83</td>\n",
       "      <td>0.76</td>\n",
       "    </tr>\n",
       "    <tr>\n",
       "      <th>0.06</th>\n",
       "      <td>1.0</td>\n",
       "      <td>1.0</td>\n",
       "      <td>1.0</td>\n",
       "      <td>1.0</td>\n",
       "      <td>1.0</td>\n",
       "      <td>1.0</td>\n",
       "      <td>1.0</td>\n",
       "      <td>1.0</td>\n",
       "      <td>0.96</td>\n",
       "      <td>0.93</td>\n",
       "      <td>0.88</td>\n",
       "    </tr>\n",
       "    <tr>\n",
       "      <th>0.07</th>\n",
       "      <td>1.0</td>\n",
       "      <td>1.0</td>\n",
       "      <td>1.0</td>\n",
       "      <td>1.0</td>\n",
       "      <td>1.0</td>\n",
       "      <td>1.0</td>\n",
       "      <td>1.0</td>\n",
       "      <td>1.0</td>\n",
       "      <td>1.0</td>\n",
       "      <td>1.0</td>\n",
       "      <td>0.96</td>\n",
       "    </tr>\n",
       "    <tr>\n",
       "      <th>0.08</th>\n",
       "      <td>1.0</td>\n",
       "      <td>1.0</td>\n",
       "      <td>1.0</td>\n",
       "      <td>1.0</td>\n",
       "      <td>1.0</td>\n",
       "      <td>1.0</td>\n",
       "      <td>1.0</td>\n",
       "      <td>1.0</td>\n",
       "      <td>1.0</td>\n",
       "      <td>0.99</td>\n",
       "      <td>1.0</td>\n",
       "    </tr>\n",
       "    <tr>\n",
       "      <th>0.09</th>\n",
       "      <td>1.0</td>\n",
       "      <td>1.0</td>\n",
       "      <td>1.0</td>\n",
       "      <td>1.0</td>\n",
       "      <td>1.0</td>\n",
       "      <td>1.0</td>\n",
       "      <td>1.0</td>\n",
       "      <td>1.0</td>\n",
       "      <td>1.0</td>\n",
       "      <td>1.0</td>\n",
       "      <td>0.99</td>\n",
       "    </tr>\n",
       "    <tr>\n",
       "      <th>0.10</th>\n",
       "      <td>1.0</td>\n",
       "      <td>1.0</td>\n",
       "      <td>1.0</td>\n",
       "      <td>1.0</td>\n",
       "      <td>1.0</td>\n",
       "      <td>1.0</td>\n",
       "      <td>1.0</td>\n",
       "      <td>1.0</td>\n",
       "      <td>1.0</td>\n",
       "      <td>1.0</td>\n",
       "      <td>1.0</td>\n",
       "    </tr>\n",
       "  </tbody>\n",
       "</table>\n",
       "</div>"
      ],
      "text/plain": [
       "            1.000 0.980 0.936 0.870 0.798 0.724 0.659 0.601 0.548 0.501 0.465\n",
       "effect_size                                                                  \n",
       "0.00          0.0  0.05  0.05  0.05  0.08  0.06  0.07  0.04  0.02  0.04  0.06\n",
       "0.01          1.0   1.0  0.75  0.41  0.29   0.2  0.08  0.14  0.14  0.13  0.09\n",
       "0.02          1.0   1.0   1.0  0.93   0.8  0.66  0.52  0.34  0.31  0.19  0.22\n",
       "0.03          1.0   1.0   1.0   1.0  0.97  0.89  0.81  0.69  0.52  0.39   0.4\n",
       "0.04          1.0   1.0   1.0   1.0   1.0  0.98  0.94  0.84  0.79  0.69  0.53\n",
       "0.05          1.0   1.0   1.0   1.0   1.0   1.0   1.0  0.98  0.91  0.83  0.76\n",
       "0.06          1.0   1.0   1.0   1.0   1.0   1.0   1.0   1.0  0.96  0.93  0.88\n",
       "0.07          1.0   1.0   1.0   1.0   1.0   1.0   1.0   1.0   1.0   1.0  0.96\n",
       "0.08          1.0   1.0   1.0   1.0   1.0   1.0   1.0   1.0   1.0  0.99   1.0\n",
       "0.09          1.0   1.0   1.0   1.0   1.0   1.0   1.0   1.0   1.0   1.0  0.99\n",
       "0.10          1.0   1.0   1.0   1.0   1.0   1.0   1.0   1.0   1.0   1.0   1.0"
      ]
     },
     "execution_count": 18,
     "metadata": {},
     "output_type": "execute_result"
    }
   ],
   "source": [
    "df_results"
   ]
  },
  {
   "cell_type": "code",
   "execution_count": null,
   "id": "caf026f0-049a-43e4-802b-0388e427090a",
   "metadata": {},
   "outputs": [],
   "source": []
  }
 ],
 "metadata": {
  "kernelspec": {
   "display_name": "Python 3",
   "language": "python",
   "name": "python3"
  },
  "language_info": {
   "codemirror_mode": {
    "name": "ipython",
    "version": 3
   },
   "file_extension": ".py",
   "mimetype": "text/x-python",
   "name": "python",
   "nbconvert_exporter": "python",
   "pygments_lexer": "ipython3",
   "version": "3.8.8"
  }
 },
 "nbformat": 4,
 "nbformat_minor": 5
}

{
 "cells": [
  {
   "cell_type": "markdown",
   "id": "eb8de3e3-70c8-429b-a4c1-b2b1b6aee38f",
   "metadata": {},
   "source": [
    "# <center> Difference In Differences"
   ]
  },
  {
   "cell_type": "markdown",
   "id": "ebb73bb3-95cf-483c-8621-060801c9e50a",
   "metadata": {},
   "source": [
    "## Overview:\n",
    "- Goal:\n",
    "    - Determine if the difference in primary metric during test period is significantly different than in the pre-test period\n",
    "- Walkthrough:\n",
    "    - Load time series data\n",
    "    - Generate fake time series correlated with the loaded data\n",
    "    - Label the last n days (30) as test\n",
    "    - Provide some level of uplift in the test period\n",
    "    - Test to see if the difference observed is different\n",
    "    \n",
    "- Iteration:\n",
    "    - Across different levels of correlation coefficients and effect size, determine how often we observe errors in tests"
   ]
  },
  {
   "cell_type": "code",
   "execution_count": 1,
   "id": "252d1760-bbd4-4fb7-b424-fc7c7e17dcf3",
   "metadata": {},
   "outputs": [],
   "source": [
    "import numpy as np\n",
    "import pandas as pd\n",
    "from scipy import stats"
   ]
  },
  {
   "cell_type": "code",
   "execution_count": 2,
   "id": "8ec9d0aa-2ce0-49c6-b291-ef29ff8b6bd1",
   "metadata": {},
   "outputs": [
    {
     "data": {
      "text/html": [
       "<div>\n",
       "<style scoped>\n",
       "    .dataframe tbody tr th:only-of-type {\n",
       "        vertical-align: middle;\n",
       "    }\n",
       "\n",
       "    .dataframe tbody tr th {\n",
       "        vertical-align: top;\n",
       "    }\n",
       "\n",
       "    .dataframe thead th {\n",
       "        text-align: right;\n",
       "    }\n",
       "</style>\n",
       "<table border=\"1\" class=\"dataframe\">\n",
       "  <thead>\n",
       "    <tr style=\"text-align: right;\">\n",
       "      <th></th>\n",
       "      <th>date</th>\n",
       "      <th>n_trialers</th>\n",
       "      <th>cvr</th>\n",
       "    </tr>\n",
       "  </thead>\n",
       "  <tbody>\n",
       "    <tr>\n",
       "      <th>0</th>\n",
       "      <td>2021-01-01</td>\n",
       "      <td>44</td>\n",
       "      <td>0.454545</td>\n",
       "    </tr>\n",
       "    <tr>\n",
       "      <th>1</th>\n",
       "      <td>2021-01-02</td>\n",
       "      <td>51</td>\n",
       "      <td>0.392157</td>\n",
       "    </tr>\n",
       "    <tr>\n",
       "      <th>2</th>\n",
       "      <td>2021-01-03</td>\n",
       "      <td>56</td>\n",
       "      <td>0.500000</td>\n",
       "    </tr>\n",
       "    <tr>\n",
       "      <th>3</th>\n",
       "      <td>2021-01-04</td>\n",
       "      <td>71</td>\n",
       "      <td>0.450704</td>\n",
       "    </tr>\n",
       "    <tr>\n",
       "      <th>4</th>\n",
       "      <td>2021-01-05</td>\n",
       "      <td>56</td>\n",
       "      <td>0.428571</td>\n",
       "    </tr>\n",
       "  </tbody>\n",
       "</table>\n",
       "</div>"
      ],
      "text/plain": [
       "         date  n_trialers       cvr\n",
       "0  2021-01-01          44  0.454545\n",
       "1  2021-01-02          51  0.392157\n",
       "2  2021-01-03          56  0.500000\n",
       "3  2021-01-04          71  0.450704\n",
       "4  2021-01-05          56  0.428571"
      ]
     },
     "execution_count": 2,
     "metadata": {},
     "output_type": "execute_result"
    }
   ],
   "source": [
    "# Import data \n",
    "df = pd.read_csv(r'daily_data.csv')\n",
    "df.head()"
   ]
  },
  {
   "cell_type": "markdown",
   "id": "b1d77aa5-a76e-4a98-97ff-3739e054e2dd",
   "metadata": {},
   "source": [
    "### Create synthetic test set"
   ]
  },
  {
   "cell_type": "code",
   "execution_count": 3,
   "id": "e54fb80b-1b88-44f5-b96c-a204ad4b428c",
   "metadata": {},
   "outputs": [],
   "source": [
    "# Create test set from control with some level of noise\n",
    "df['cvr_synthetic'] = df['cvr'] + np.random.normal(0,0.06, len(df))\n",
    "\n",
    "# Label the last 30 days test data\n",
    "test_start_date = '2022-06-01'\n",
    "df['is_test'] = 0\n",
    "df.loc[df['date'] >= test_start_date, 'is_test'] = 1"
   ]
  },
  {
   "cell_type": "code",
   "execution_count": 4,
   "id": "b72fea8b-27dd-451a-9d43-b2cf41808405",
   "metadata": {},
   "outputs": [
    {
     "data": {
      "text/html": [
       "<div>\n",
       "<style scoped>\n",
       "    .dataframe tbody tr th:only-of-type {\n",
       "        vertical-align: middle;\n",
       "    }\n",
       "\n",
       "    .dataframe tbody tr th {\n",
       "        vertical-align: top;\n",
       "    }\n",
       "\n",
       "    .dataframe thead th {\n",
       "        text-align: right;\n",
       "    }\n",
       "</style>\n",
       "<table border=\"1\" class=\"dataframe\">\n",
       "  <thead>\n",
       "    <tr style=\"text-align: right;\">\n",
       "      <th></th>\n",
       "      <th>date</th>\n",
       "      <th>n_trialers</th>\n",
       "      <th>cvr</th>\n",
       "      <th>cvr_synthetic</th>\n",
       "      <th>is_test</th>\n",
       "    </tr>\n",
       "  </thead>\n",
       "  <tbody>\n",
       "    <tr>\n",
       "      <th>0</th>\n",
       "      <td>2021-01-01</td>\n",
       "      <td>44</td>\n",
       "      <td>0.454545</td>\n",
       "      <td>0.334987</td>\n",
       "      <td>0</td>\n",
       "    </tr>\n",
       "    <tr>\n",
       "      <th>1</th>\n",
       "      <td>2021-01-02</td>\n",
       "      <td>51</td>\n",
       "      <td>0.392157</td>\n",
       "      <td>0.298362</td>\n",
       "      <td>0</td>\n",
       "    </tr>\n",
       "    <tr>\n",
       "      <th>2</th>\n",
       "      <td>2021-01-03</td>\n",
       "      <td>56</td>\n",
       "      <td>0.500000</td>\n",
       "      <td>0.524048</td>\n",
       "      <td>0</td>\n",
       "    </tr>\n",
       "    <tr>\n",
       "      <th>3</th>\n",
       "      <td>2021-01-04</td>\n",
       "      <td>71</td>\n",
       "      <td>0.450704</td>\n",
       "      <td>0.420243</td>\n",
       "      <td>0</td>\n",
       "    </tr>\n",
       "    <tr>\n",
       "      <th>4</th>\n",
       "      <td>2021-01-05</td>\n",
       "      <td>56</td>\n",
       "      <td>0.428571</td>\n",
       "      <td>0.454886</td>\n",
       "      <td>0</td>\n",
       "    </tr>\n",
       "  </tbody>\n",
       "</table>\n",
       "</div>"
      ],
      "text/plain": [
       "         date  n_trialers       cvr  cvr_synthetic  is_test\n",
       "0  2021-01-01          44  0.454545       0.334987        0\n",
       "1  2021-01-02          51  0.392157       0.298362        0\n",
       "2  2021-01-03          56  0.500000       0.524048        0\n",
       "3  2021-01-04          71  0.450704       0.420243        0\n",
       "4  2021-01-05          56  0.428571       0.454886        0"
      ]
     },
     "execution_count": 4,
     "metadata": {},
     "output_type": "execute_result"
    }
   ],
   "source": [
    "df.head()"
   ]
  },
  {
   "cell_type": "code",
   "execution_count": 5,
   "id": "722efda5-eb35-4b80-9bbc-23b0069b980e",
   "metadata": {},
   "outputs": [
    {
     "data": {
      "text/plain": [
       "0    516\n",
       "1     30\n",
       "Name: is_test, dtype: int64"
      ]
     },
     "execution_count": 5,
     "metadata": {},
     "output_type": "execute_result"
    }
   ],
   "source": [
    "# View how many days of pre-test and test data we have\n",
    "df['is_test'].value_counts()"
   ]
  },
  {
   "cell_type": "code",
   "execution_count": 6,
   "id": "90ddc1c7-04fe-4882-b1e5-97fc4ca45573",
   "metadata": {},
   "outputs": [
    {
     "data": {
      "text/html": [
       "<div>\n",
       "<style scoped>\n",
       "    .dataframe tbody tr th:only-of-type {\n",
       "        vertical-align: middle;\n",
       "    }\n",
       "\n",
       "    .dataframe tbody tr th {\n",
       "        vertical-align: top;\n",
       "    }\n",
       "\n",
       "    .dataframe thead th {\n",
       "        text-align: right;\n",
       "    }\n",
       "</style>\n",
       "<table border=\"1\" class=\"dataframe\">\n",
       "  <thead>\n",
       "    <tr style=\"text-align: right;\">\n",
       "      <th></th>\n",
       "      <th>cvr</th>\n",
       "      <th>cvr_synthetic</th>\n",
       "    </tr>\n",
       "  </thead>\n",
       "  <tbody>\n",
       "    <tr>\n",
       "      <th>cvr</th>\n",
       "      <td>1.00</td>\n",
       "      <td>0.68</td>\n",
       "    </tr>\n",
       "    <tr>\n",
       "      <th>cvr_synthetic</th>\n",
       "      <td>0.68</td>\n",
       "      <td>1.00</td>\n",
       "    </tr>\n",
       "  </tbody>\n",
       "</table>\n",
       "</div>"
      ],
      "text/plain": [
       "                cvr  cvr_synthetic\n",
       "cvr            1.00           0.68\n",
       "cvr_synthetic  0.68           1.00"
      ]
     },
     "execution_count": 6,
     "metadata": {},
     "output_type": "execute_result"
    }
   ],
   "source": [
    "# Check correlation of test and control cvr\n",
    "round(df[['cvr','cvr_synthetic']].corr(),2)"
   ]
  },
  {
   "cell_type": "code",
   "execution_count": 7,
   "id": "41c2e03e-b34d-4408-8b03-8c06a43e7708",
   "metadata": {},
   "outputs": [],
   "source": [
    "# Create uplift in test dataset\n",
    "uplift = 0.03\n",
    "\n",
    "df.loc[df['is_test'] == 1, 'cvr_synthetic'] = df.loc[df['is_test'] == 1, 'cvr_synthetic'] + uplift"
   ]
  },
  {
   "cell_type": "markdown",
   "id": "ee369863-194e-4fd3-83a8-acf3d51b5abf",
   "metadata": {},
   "source": [
    "### Calculate Rolling Average\n",
    "- Only done for plotting purposes, this data is not used in the t-test"
   ]
  },
  {
   "cell_type": "code",
   "execution_count": 8,
   "id": "a43f7060-5708-459e-bfcb-f00adbaa8300",
   "metadata": {},
   "outputs": [],
   "source": [
    "df['cvr_r7'] = df.groupby(['is_test'])['cvr'].rolling(7).mean().reset_index(level=0, drop=True)\n",
    "df['cvr_synthetic_r7'] = df.groupby(['is_test'])['cvr_synthetic'].rolling(7).mean().reset_index(level=0, drop=True)"
   ]
  },
  {
   "cell_type": "code",
   "execution_count": 9,
   "id": "179ed24c-676c-448a-8b29-af847c7fe185",
   "metadata": {},
   "outputs": [
    {
     "data": {
      "image/png": "[encoded data removed]",
      "text/plain": [
       "<Figure size 1080x360 with 1 Axes>"
      ]
     },
     "metadata": {
      "needs_background": "light"
     },
     "output_type": "display_data"
    }
   ],
   "source": [
    "df.plot(x=\"date\", y=[\"cvr_r7\", \"cvr_synthetic_r7\"], figsize=(15,5), ylim=(0,1));"
   ]
  },
  {
   "cell_type": "code",
   "execution_count": 10,
   "id": "0cbbbc06-136c-4b96-b67f-4b8a637ec8b8",
   "metadata": {},
   "outputs": [],
   "source": [
    "# Calculate the difference between test and control\n",
    "df['delta'] = df['cvr_synthetic'] - df['cvr']"
   ]
  },
  {
   "cell_type": "code",
   "execution_count": 11,
   "id": "7757e233-561c-4f96-bf93-dc34b8f0e31b",
   "metadata": {},
   "outputs": [
    {
     "data": {
      "image/png": "[encoded data removed]",
      "text/plain": [
       "<Figure size 432x288 with 1 Axes>"
      ]
     },
     "metadata": {
      "needs_background": "light"
     },
     "output_type": "display_data"
    }
   ],
   "source": [
    "# View distribution of differences by pre-test and test\n",
    "df.boxplot('delta',by='is_test');"
   ]
  },
  {
   "cell_type": "code",
   "execution_count": 12,
   "id": "c8798606-b3c0-4c58-9fbb-890b1dd49c53",
   "metadata": {},
   "outputs": [],
   "source": [
    "# Perform 2-sample t-test on the data\n",
    "a = df.loc[df['is_test'] == 0, 'delta']\n",
    "b = df.loc[df['is_test'] == 1, 'delta']"
   ]
  },
  {
   "cell_type": "code",
   "execution_count": 13,
   "id": "9b6becb1-e194-43b4-bf59-fd9c94592031",
   "metadata": {},
   "outputs": [
    {
     "data": {
      "text/plain": [
       "Ttest_indResult(statistic=-3.1842191711569368, pvalue=0.0015345141599512402)"
      ]
     },
     "execution_count": 13,
     "metadata": {},
     "output_type": "execute_result"
    }
   ],
   "source": [
    "stats.ttest_ind(a, b)"
   ]
  },
  {
   "cell_type": "markdown",
   "id": "dc2d23c5-02c2-443f-a965-9fba2278297e",
   "metadata": {},
   "source": [
    "# <center> Iterate and Test"
   ]
  },
  {
   "cell_type": "code",
   "execution_count": 14,
   "id": "29ab7859-05db-4db4-8f7e-5315e115b9c2",
   "metadata": {},
   "outputs": [],
   "source": [
    "iterations = 100\n",
    "noises = np.arange(0,0.11,0.01)\n",
    "effect_sizes = np.arange(0,0.11,0.01)\n",
    "r2_list = []"
   ]
  },
  {
   "cell_type": "code",
   "execution_count": 15,
   "id": "b4ed1e6d-feff-4d0c-ae6b-842158d8737c",
   "metadata": {},
   "outputs": [],
   "source": [
    "df_results = pd.DataFrame(index=effect_sizes, columns=noises)\n",
    "df_results.index.name = 'effect_size'\n",
    "df_results.columns.name = 'r2'"
   ]
  },
  {
   "cell_type": "code",
   "execution_count": 16,
   "id": "180b4255-6927-4d0c-b221-352dd993a3da",
   "metadata": {},
   "outputs": [],
   "source": [
    "for n in noises:\n",
    "    \n",
    "    for e in effect_sizes:\n",
    "        \n",
    "        rejections = []\n",
    "        r2s = []\n",
    "        \n",
    "        for i in range(iterations):\n",
    "            \n",
    "            df_temp = pd.read_csv(r'daily_data.csv')\n",
    "\n",
    "            df_temp['cvr_synthetic'] = df_temp['cvr'] + np.random.normal(0,n, len(df_temp))\n",
    "            test_start_date = '2022-06-01'\n",
    "            df_temp['is_test'] = 0\n",
    "            df_temp.loc[df_temp['date'] >= test_start_date, 'is_test'] = 1\n",
    "\n",
    "            r2 = round(df_temp[['cvr','cvr_synthetic']].corr(),2)['cvr'][1]\n",
    "            r2s.append(r2)\n",
    "            df_temp.loc[df_temp['is_test'] == 1, 'cvr_synthetic'] = df_temp.loc[df_temp['is_test'] == 1, 'cvr_synthetic'] + e\n",
    "\n",
    "            df_temp['delta'] = df_temp['cvr_synthetic'] - df_temp['cvr']\n",
    "\n",
    "            a = df_temp.loc[df_temp['is_test'] == 0, 'delta']\n",
    "            b = df_temp.loc[df_temp['is_test'] == 1, 'delta']\n",
    "\n",
    "            p_val = round(stats.ttest_ind(a, b)[1],2)\n",
    "\n",
    "            reject_null = 1 if p_val <= 0.05 else 0\n",
    "            rejections.append(reject_null)\n",
    "\n",
    "        df_results.loc[e,n] = np.mean(rejections)\n",
    "        \n",
    "    r2_list.append(np.mean(r2s))"
   ]
  },
  {
   "cell_type": "code",
   "execution_count": 17,
   "id": "e766ca09-49f9-4718-8f08-f1a2cd57845e",
   "metadata": {},
   "outputs": [],
   "source": [
    "r2_list = [round(i,3) for i in r2_list]\n",
    "df_results.columns = r2_list"
   ]
  },
  {
   "cell_type": "markdown",
   "id": "b8d12fe0-7270-467f-bdd9-a778e3a20fdb",
   "metadata": {},
   "source": [
    "### Results:\n",
    "- Values here indicate the percentage of iterations in which a stat-sig effect was found\n",
    "- For example:\n",
    "    - When the time series data is 60% correlated, and the effect size is 4%, we detected a significant effect 89% of the time"
   ]
  },
  {
   "cell_type": "code",
   "execution_count": 18,
   "id": "3f1b7d04-f7da-4b6d-ad1c-56feaaeb3fd2",
   "metadata": {},
   "outputs": [
    {
     "data": {
      "text/html": [
       "<div>\n",
       "<style scoped>\n",
       "    .dataframe tbody tr th:only-of-type {\n",
       "        vertical-align: middle;\n",
       "    }\n",
       "\n",
       "    .dataframe tbody tr th {\n",
       "        vertical-align: top;\n",
       "    }\n",
       "\n",
       "    .dataframe thead th {\n",
       "        text-align: right;\n",
       "    }\n",
       "</style>\n",
       "<table border=\"1\" class=\"dataframe\">\n",
       "  <thead>\n",
       "    <tr style=\"text-align: right;\">\n",
       "      <th></th>\n",
       "      <th>1.000</th>\n",
       "      <th>0.980</th>\n",
       "      <th>0.935</th>\n",
       "      <th>0.870</th>\n",
       "      <th>0.794</th>\n",
       "      <th>0.726</th>\n",
       "      <th>0.657</th>\n",
       "      <th>0.601</th>\n",
       "      <th>0.549</th>\n",
       "      <th>0.511</th>\n",
       "      <th>0.467</th>\n",
       "    </tr>\n",
       "    <tr>\n",
       "      <th>effect_size</th>\n",
       "      <th></th>\n",
       "      <th></th>\n",
       "      <th></th>\n",
       "      <th></th>\n",
       "      <th></th>\n",
       "      <th></th>\n",
       "      <th></th>\n",
       "      <th></th>\n",
       "      <th></th>\n",
       "      <th></th>\n",
       "      <th></th>\n",
       "    </tr>\n",
       "  </thead>\n",
       "  <tbody>\n",
       "    <tr>\n",
       "      <th>0.00</th>\n",
       "      <td>0.0</td>\n",
       "      <td>0.07</td>\n",
       "      <td>0.05</td>\n",
       "      <td>0.04</td>\n",
       "      <td>0.04</td>\n",
       "      <td>0.04</td>\n",
       "      <td>0.06</td>\n",
       "      <td>0.04</td>\n",
       "      <td>0.06</td>\n",
       "      <td>0.05</td>\n",
       "      <td>0.06</td>\n",
       "    </tr>\n",
       "    <tr>\n",
       "      <th>0.01</th>\n",
       "      <td>1.0</td>\n",
       "      <td>1.0</td>\n",
       "      <td>0.72</td>\n",
       "      <td>0.44</td>\n",
       "      <td>0.26</td>\n",
       "      <td>0.21</td>\n",
       "      <td>0.16</td>\n",
       "      <td>0.13</td>\n",
       "      <td>0.09</td>\n",
       "      <td>0.07</td>\n",
       "      <td>0.1</td>\n",
       "    </tr>\n",
       "    <tr>\n",
       "      <th>0.02</th>\n",
       "      <td>1.0</td>\n",
       "      <td>1.0</td>\n",
       "      <td>1.0</td>\n",
       "      <td>0.93</td>\n",
       "      <td>0.78</td>\n",
       "      <td>0.68</td>\n",
       "      <td>0.44</td>\n",
       "      <td>0.36</td>\n",
       "      <td>0.3</td>\n",
       "      <td>0.25</td>\n",
       "      <td>0.19</td>\n",
       "    </tr>\n",
       "    <tr>\n",
       "      <th>0.03</th>\n",
       "      <td>1.0</td>\n",
       "      <td>1.0</td>\n",
       "      <td>1.0</td>\n",
       "      <td>1.0</td>\n",
       "      <td>0.98</td>\n",
       "      <td>0.94</td>\n",
       "      <td>0.8</td>\n",
       "      <td>0.61</td>\n",
       "      <td>0.51</td>\n",
       "      <td>0.48</td>\n",
       "      <td>0.27</td>\n",
       "    </tr>\n",
       "    <tr>\n",
       "      <th>0.04</th>\n",
       "      <td>1.0</td>\n",
       "      <td>1.0</td>\n",
       "      <td>1.0</td>\n",
       "      <td>1.0</td>\n",
       "      <td>1.0</td>\n",
       "      <td>0.96</td>\n",
       "      <td>0.93</td>\n",
       "      <td>0.89</td>\n",
       "      <td>0.71</td>\n",
       "      <td>0.69</td>\n",
       "      <td>0.63</td>\n",
       "    </tr>\n",
       "    <tr>\n",
       "      <th>0.05</th>\n",
       "      <td>1.0</td>\n",
       "      <td>1.0</td>\n",
       "      <td>1.0</td>\n",
       "      <td>1.0</td>\n",
       "      <td>1.0</td>\n",
       "      <td>1.0</td>\n",
       "      <td>1.0</td>\n",
       "      <td>1.0</td>\n",
       "      <td>0.92</td>\n",
       "      <td>0.82</td>\n",
       "      <td>0.74</td>\n",
       "    </tr>\n",
       "    <tr>\n",
       "      <th>0.06</th>\n",
       "      <td>1.0</td>\n",
       "      <td>1.0</td>\n",
       "      <td>1.0</td>\n",
       "      <td>1.0</td>\n",
       "      <td>1.0</td>\n",
       "      <td>1.0</td>\n",
       "      <td>0.99</td>\n",
       "      <td>1.0</td>\n",
       "      <td>0.98</td>\n",
       "      <td>0.97</td>\n",
       "      <td>0.93</td>\n",
       "    </tr>\n",
       "    <tr>\n",
       "      <th>0.07</th>\n",
       "      <td>1.0</td>\n",
       "      <td>1.0</td>\n",
       "      <td>1.0</td>\n",
       "      <td>1.0</td>\n",
       "      <td>1.0</td>\n",
       "      <td>1.0</td>\n",
       "      <td>1.0</td>\n",
       "      <td>1.0</td>\n",
       "      <td>0.99</td>\n",
       "      <td>0.99</td>\n",
       "      <td>0.96</td>\n",
       "    </tr>\n",
       "    <tr>\n",
       "      <th>0.08</th>\n",
       "      <td>1.0</td>\n",
       "      <td>1.0</td>\n",
       "      <td>1.0</td>\n",
       "      <td>1.0</td>\n",
       "      <td>1.0</td>\n",
       "      <td>1.0</td>\n",
       "      <td>1.0</td>\n",
       "      <td>1.0</td>\n",
       "      <td>1.0</td>\n",
       "      <td>1.0</td>\n",
       "      <td>0.97</td>\n",
       "    </tr>\n",
       "    <tr>\n",
       "      <th>0.09</th>\n",
       "      <td>1.0</td>\n",
       "      <td>1.0</td>\n",
       "      <td>1.0</td>\n",
       "      <td>1.0</td>\n",
       "      <td>1.0</td>\n",
       "      <td>1.0</td>\n",
       "      <td>1.0</td>\n",
       "      <td>1.0</td>\n",
       "      <td>1.0</td>\n",
       "      <td>1.0</td>\n",
       "      <td>1.0</td>\n",
       "    </tr>\n",
       "    <tr>\n",
       "      <th>0.10</th>\n",
       "      <td>1.0</td>\n",
       "      <td>1.0</td>\n",
       "      <td>1.0</td>\n",
       "      <td>1.0</td>\n",
       "      <td>1.0</td>\n",
       "      <td>1.0</td>\n",
       "      <td>1.0</td>\n",
       "      <td>1.0</td>\n",
       "      <td>1.0</td>\n",
       "      <td>1.0</td>\n",
       "      <td>1.0</td>\n",
       "    </tr>\n",
       "  </tbody>\n",
       "</table>\n",
       "</div>"
      ],
      "text/plain": [
       "            1.000 0.980 0.935 0.870 0.794 0.726 0.657 0.601 0.549 0.511 0.467\n",
       "effect_size                                                                  \n",
       "0.00          0.0  0.07  0.05  0.04  0.04  0.04  0.06  0.04  0.06  0.05  0.06\n",
       "0.01          1.0   1.0  0.72  0.44  0.26  0.21  0.16  0.13  0.09  0.07   0.1\n",
       "0.02          1.0   1.0   1.0  0.93  0.78  0.68  0.44  0.36   0.3  0.25  0.19\n",
       "0.03          1.0   1.0   1.0   1.0  0.98  0.94   0.8  0.61  0.51  0.48  0.27\n",
       "0.04          1.0   1.0   1.0   1.0   1.0  0.96  0.93  0.89  0.71  0.69  0.63\n",
       "0.05          1.0   1.0   1.0   1.0   1.0   1.0   1.0   1.0  0.92  0.82  0.74\n",
       "0.06          1.0   1.0   1.0   1.0   1.0   1.0  0.99   1.0  0.98  0.97  0.93\n",
       "0.07          1.0   1.0   1.0   1.0   1.0   1.0   1.0   1.0  0.99  0.99  0.96\n",
       "0.08          1.0   1.0   1.0   1.0   1.0   1.0   1.0   1.0   1.0   1.0  0.97\n",
       "0.09          1.0   1.0   1.0   1.0   1.0   1.0   1.0   1.0   1.0   1.0   1.0\n",
       "0.10          1.0   1.0   1.0   1.0   1.0   1.0   1.0   1.0   1.0   1.0   1.0"
      ]
     },
     "execution_count": 18,
     "metadata": {},
     "output_type": "execute_result"
    }
   ],
   "source": [
    "df_results"
   ]
  }
 ],
 "metadata": {
  "kernelspec": {
   "display_name": "Python 3",
   "language": "python",
   "name": "python3"
  },
  "language_info": {
   "codemirror_mode": {
    "name": "ipython",
    "version": 3
   },
   "file_extension": ".py",
   "mimetype": "text/x-python",
   "name": "python",
   "nbconvert_exporter": "python",
   "pygments_lexer": "ipython3",
   "version": "3.8.8"
  }
 },
 "nbformat": 4,
 "nbformat_minor": 5
}

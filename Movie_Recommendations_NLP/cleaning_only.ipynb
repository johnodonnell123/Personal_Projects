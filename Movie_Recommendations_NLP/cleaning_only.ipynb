{
 "cells": [
  {
   "cell_type": "markdown",
   "id": "86ca1f39-09d2-43c7-8a1c-d56b5cffce91",
   "metadata": {},
   "source": [
    "# <center> Data Cleaning </center>"
   ]
  },
  {
   "cell_type": "code",
   "execution_count": 1,
   "id": "cdfcf5fa-ac8c-4eed-a0b4-015ed8626c33",
   "metadata": {},
   "outputs": [],
   "source": [
    "import numpy as np\n",
    "import pandas as pd\n",
    "from datetime import datetime"
   ]
  },
  {
   "cell_type": "markdown",
   "id": "d03884a0-521a-4f1e-9d53-868f02aff210",
   "metadata": {},
   "source": [
    "# Movies"
   ]
  },
  {
   "cell_type": "markdown",
   "id": "10cfe5d1-d8fd-4f6f-9a59-4a145af40b24",
   "metadata": {},
   "source": [
    "### Read "
   ]
  },
  {
   "cell_type": "code",
   "execution_count": 2,
   "id": "33b77b18-cb80-40a9-9890-2bf41c044adc",
   "metadata": {},
   "outputs": [],
   "source": [
    "movies = pd.read_csv(r\"data/top_movies.csv\")"
   ]
  },
  {
   "cell_type": "code",
   "execution_count": 3,
   "id": "67635e15-5e09-45d4-ad20-4fb32bf639dd",
   "metadata": {},
   "outputs": [],
   "source": [
    "movies = movies.dropna()"
   ]
  },
  {
   "cell_type": "markdown",
   "id": "e6c9d51b-c418-4776-8edf-58bf9449bfe2",
   "metadata": {},
   "source": [
    "### Order"
   ]
  },
  {
   "cell_type": "code",
   "execution_count": 4,
   "id": "4d74c29f-62c8-4fbd-904a-8ce5b4c23bc1",
   "metadata": {},
   "outputs": [],
   "source": [
    "movies = movies[['movie_url','title','rating','date','genres','total_ratings',\n",
    "                 'num_user_reviews','top_cast','director','writers',\n",
    "                 'plot_tags','language','summaries']]"
   ]
  },
  {
   "cell_type": "code",
   "execution_count": 5,
   "id": "3c3d32a7-d7b6-4db2-95ee-e555f26df5c8",
   "metadata": {},
   "outputs": [],
   "source": [
    "# Get movie_id\n",
    "movies['id'] = movies['movie_url'].apply(lambda x: x.split(\"/\")[4])\n",
    "\n",
    "# Drop url\n",
    "movies = movies.drop(columns='movie_url')"
   ]
  },
  {
   "cell_type": "code",
   "execution_count": 6,
   "id": "f03c58cf-f5af-499e-9099-7ba86aaa4eee",
   "metadata": {},
   "outputs": [],
   "source": [
    "movies['date'] = movies['date'].astype(int)"
   ]
  },
  {
   "cell_type": "code",
   "execution_count": 7,
   "id": "3a3a353d-4c61-4e00-8796-8980bfb26caa",
   "metadata": {},
   "outputs": [],
   "source": [
    "movies['genres'] = movies['genres'].apply(lambda x: x.split(\",\")).apply(list)"
   ]
  },
  {
   "cell_type": "code",
   "execution_count": 8,
   "id": "f956e0c8-1950-404a-bbbc-e3020de3239b",
   "metadata": {},
   "outputs": [],
   "source": [
    "movies['top_cast'] = movies['top_cast'].apply(lambda x: x.split(\",\")).apply(list)"
   ]
  },
  {
   "cell_type": "code",
   "execution_count": 9,
   "id": "02a01ec8-e86a-4d36-8df6-28a8b7efb70f",
   "metadata": {},
   "outputs": [],
   "source": [
    "movies['writers'] = movies['writers'].apply(lambda x: x.split(\",\")).apply(list)"
   ]
  },
  {
   "cell_type": "code",
   "execution_count": 10,
   "id": "78a17609-9edd-4936-8320-be4b6b027cf4",
   "metadata": {},
   "outputs": [],
   "source": [
    "movies['plot_tags'] = movies['plot_tags'].apply(lambda x: x.split(\",\")).apply(list)"
   ]
  },
  {
   "cell_type": "code",
   "execution_count": 11,
   "id": "82fdeb99-858d-4561-bdb9-d0c43ade487f",
   "metadata": {},
   "outputs": [],
   "source": [
    "def clean_ratings_reviews(input_string):\n",
    "    if 'M' in input_string:\n",
    "        number = int(float(input_string[:-1]))\n",
    "        return number * 1000000\n",
    "    if 'K' in input_string:\n",
    "        number = int(float(input_string[:-1]))\n",
    "        return number * 1000\n",
    "    else:\n",
    "        return int(float(input_string))"
   ]
  },
  {
   "cell_type": "code",
   "execution_count": 12,
   "id": "fe24cf41-4d05-40e1-bff9-f36e3bdd35ef",
   "metadata": {},
   "outputs": [],
   "source": [
    "movies['total_ratings'] = movies['total_ratings'].apply(clean_ratings_reviews)\n",
    "movies['num_user_reviews'] = movies['num_user_reviews'].apply(clean_ratings_reviews)"
   ]
  },
  {
   "cell_type": "code",
   "execution_count": 13,
   "id": "7d75f7a5-48eb-4291-a50c-c0f5878fb7a8",
   "metadata": {},
   "outputs": [],
   "source": [
    "movies['summaries'] = movies['summaries'].apply(lambda x: x[3:-4])"
   ]
  },
  {
   "cell_type": "code",
   "execution_count": 14,
   "id": "51a6547e-682e-400e-8efe-74f529c4659b",
   "metadata": {},
   "outputs": [
    {
     "data": {
      "text/html": [
       "<div>\n",
       "<style scoped>\n",
       "    .dataframe tbody tr th:only-of-type {\n",
       "        vertical-align: middle;\n",
       "    }\n",
       "\n",
       "    .dataframe tbody tr th {\n",
       "        vertical-align: top;\n",
       "    }\n",
       "\n",
       "    .dataframe thead th {\n",
       "        text-align: right;\n",
       "    }\n",
       "</style>\n",
       "<table border=\"1\" class=\"dataframe\">\n",
       "  <thead>\n",
       "    <tr style=\"text-align: right;\">\n",
       "      <th></th>\n",
       "      <th>title</th>\n",
       "      <th>rating</th>\n",
       "      <th>date</th>\n",
       "      <th>genres</th>\n",
       "      <th>total_ratings</th>\n",
       "      <th>num_user_reviews</th>\n",
       "      <th>top_cast</th>\n",
       "      <th>director</th>\n",
       "      <th>writers</th>\n",
       "      <th>plot_tags</th>\n",
       "      <th>language</th>\n",
       "      <th>summaries</th>\n",
       "      <th>id</th>\n",
       "    </tr>\n",
       "  </thead>\n",
       "  <tbody>\n",
       "    <tr>\n",
       "      <th>4873</th>\n",
       "      <td>Truth</td>\n",
       "      <td>6.8</td>\n",
       "      <td>2015</td>\n",
       "      <td>[Biography, Drama, History, Thriller]</td>\n",
       "      <td>20000</td>\n",
       "      <td>121</td>\n",
       "      <td>[Cate Blanchett, Robert Redford, Dennis Quaid,...</td>\n",
       "      <td>James Vanderbilt</td>\n",
       "      <td>[James Vanderbilt, Mary Mapes]</td>\n",
       "      <td>[laptop computer, timeframe 2000s, timeframe 2...</td>\n",
       "      <td>English</td>\n",
       "      <td>Newsroom drama detailing the 2004 CBS 60 Minut...</td>\n",
       "      <td>tt3859076</td>\n",
       "    </tr>\n",
       "    <tr>\n",
       "      <th>6031</th>\n",
       "      <td>Life or Something Like It</td>\n",
       "      <td>5.8</td>\n",
       "      <td>2002</td>\n",
       "      <td>[Comedy, Romance]</td>\n",
       "      <td>26000</td>\n",
       "      <td>133</td>\n",
       "      <td>[Angelina Jolie, Edward Burns, Tony Shalhoub, ...</td>\n",
       "      <td>Stephen Herek</td>\n",
       "      <td>[John Scott Shepherd, Dana Stevens]</td>\n",
       "      <td>[homeless man, alternative reality, prophecy, ...</td>\n",
       "      <td>English</td>\n",
       "      <td>A reporter interviews a psychic, who tells her...</td>\n",
       "      <td>tt0282687</td>\n",
       "    </tr>\n",
       "    <tr>\n",
       "      <th>9285</th>\n",
       "      <td>Hoodlum</td>\n",
       "      <td>6.3</td>\n",
       "      <td>1997</td>\n",
       "      <td>[Crime, Drama]</td>\n",
       "      <td>11000</td>\n",
       "      <td>62</td>\n",
       "      <td>[Laurence Fishburne, Tim Roth, Vanessa William...</td>\n",
       "      <td>Bill Duke</td>\n",
       "      <td>[Chris Brancato]</td>\n",
       "      <td>[1930s, gangster, great depression, street sho...</td>\n",
       "      <td>English</td>\n",
       "      <td>Black gangsters in 1930 Harlem fights Dutch Sc...</td>\n",
       "      <td>tt0119311</td>\n",
       "    </tr>\n",
       "    <tr>\n",
       "      <th>9826</th>\n",
       "      <td>Before the Rain</td>\n",
       "      <td>8.0</td>\n",
       "      <td>1994</td>\n",
       "      <td>[Drama, Romance, War]</td>\n",
       "      <td>15000</td>\n",
       "      <td>76</td>\n",
       "      <td>[Katrin Cartlidge, Rade Serbedzija, Grégoire C...</td>\n",
       "      <td>Milcho Manchevski</td>\n",
       "      <td>[Milcho Manchevski]</td>\n",
       "      <td>[endless loop, brother brother incest, violenc...</td>\n",
       "      <td>Macedonian,English,Albanian,French</td>\n",
       "      <td>Three interconnected stories of love under the...</td>\n",
       "      <td>tt0110882</td>\n",
       "    </tr>\n",
       "    <tr>\n",
       "      <th>7187</th>\n",
       "      <td>Smoke</td>\n",
       "      <td>7.4</td>\n",
       "      <td>1995</td>\n",
       "      <td>[Comedy, Drama]</td>\n",
       "      <td>36000</td>\n",
       "      <td>83</td>\n",
       "      <td>[Harvey Keitel, William Hurt, Giancarlo Esposi...</td>\n",
       "      <td>Wayne Wang</td>\n",
       "      <td>[Paul Auster]</td>\n",
       "      <td>[smoke, cigarette smoking, death of wife, year...</td>\n",
       "      <td>English</td>\n",
       "      <td>A Brooklyn smoke shop is the center of neighbo...</td>\n",
       "      <td>tt0114478</td>\n",
       "    </tr>\n",
       "  </tbody>\n",
       "</table>\n",
       "</div>"
      ],
      "text/plain": [
       "                          title  rating  date  \\\n",
       "4873                      Truth     6.8  2015   \n",
       "6031  Life or Something Like It     5.8  2002   \n",
       "9285                    Hoodlum     6.3  1997   \n",
       "9826            Before the Rain     8.0  1994   \n",
       "7187                      Smoke     7.4  1995   \n",
       "\n",
       "                                     genres  total_ratings  num_user_reviews  \\\n",
       "4873  [Biography, Drama, History, Thriller]          20000               121   \n",
       "6031                      [Comedy, Romance]          26000               133   \n",
       "9285                         [Crime, Drama]          11000                62   \n",
       "9826                  [Drama, Romance, War]          15000                76   \n",
       "7187                        [Comedy, Drama]          36000                83   \n",
       "\n",
       "                                               top_cast           director  \\\n",
       "4873  [Cate Blanchett, Robert Redford, Dennis Quaid,...   James Vanderbilt   \n",
       "6031  [Angelina Jolie, Edward Burns, Tony Shalhoub, ...      Stephen Herek   \n",
       "9285  [Laurence Fishburne, Tim Roth, Vanessa William...          Bill Duke   \n",
       "9826  [Katrin Cartlidge, Rade Serbedzija, Grégoire C...  Milcho Manchevski   \n",
       "7187  [Harvey Keitel, William Hurt, Giancarlo Esposi...         Wayne Wang   \n",
       "\n",
       "                                  writers  \\\n",
       "4873       [James Vanderbilt, Mary Mapes]   \n",
       "6031  [John Scott Shepherd, Dana Stevens]   \n",
       "9285                     [Chris Brancato]   \n",
       "9826                  [Milcho Manchevski]   \n",
       "7187                        [Paul Auster]   \n",
       "\n",
       "                                              plot_tags  \\\n",
       "4873  [laptop computer, timeframe 2000s, timeframe 2...   \n",
       "6031  [homeless man, alternative reality, prophecy, ...   \n",
       "9285  [1930s, gangster, great depression, street sho...   \n",
       "9826  [endless loop, brother brother incest, violenc...   \n",
       "7187  [smoke, cigarette smoking, death of wife, year...   \n",
       "\n",
       "                                language  \\\n",
       "4873                             English   \n",
       "6031                             English   \n",
       "9285                             English   \n",
       "9826  Macedonian,English,Albanian,French   \n",
       "7187                             English   \n",
       "\n",
       "                                              summaries         id  \n",
       "4873  Newsroom drama detailing the 2004 CBS 60 Minut...  tt3859076  \n",
       "6031  A reporter interviews a psychic, who tells her...  tt0282687  \n",
       "9285  Black gangsters in 1930 Harlem fights Dutch Sc...  tt0119311  \n",
       "9826  Three interconnected stories of love under the...  tt0110882  \n",
       "7187  A Brooklyn smoke shop is the center of neighbo...  tt0114478  "
      ]
     },
     "execution_count": 14,
     "metadata": {},
     "output_type": "execute_result"
    }
   ],
   "source": [
    "movies.sample(5)"
   ]
  },
  {
   "cell_type": "code",
   "execution_count": 15,
   "id": "9e9fd667-c787-44c0-bada-671986f0fd71",
   "metadata": {},
   "outputs": [],
   "source": [
    "movies.to_csv(r\"data/top_movies_clean.csv\",index = False)"
   ]
  },
  {
   "cell_type": "markdown",
   "id": "36c570ea-4840-41bc-a183-b4de5fb6642e",
   "metadata": {},
   "source": [
    "# <center> -------------------------------------------------------------------- </center>"
   ]
  },
  {
   "cell_type": "markdown",
   "id": "0fd91d70-fa44-4eb2-a0cb-bd171fe1ae91",
   "metadata": {},
   "source": [
    "# Ratings"
   ]
  },
  {
   "cell_type": "code",
   "execution_count": 16,
   "id": "fc3a7d3b-0da4-43cc-bb2e-fdb2e784f9be",
   "metadata": {},
   "outputs": [
    {
     "data": {
      "text/plain": [
       "(9742, 3)"
      ]
     },
     "metadata": {},
     "output_type": "display_data"
    },
    {
     "data": {
      "text/html": [
       "<div>\n",
       "<style scoped>\n",
       "    .dataframe tbody tr th:only-of-type {\n",
       "        vertical-align: middle;\n",
       "    }\n",
       "\n",
       "    .dataframe tbody tr th {\n",
       "        vertical-align: top;\n",
       "    }\n",
       "\n",
       "    .dataframe thead th {\n",
       "        text-align: right;\n",
       "    }\n",
       "</style>\n",
       "<table border=\"1\" class=\"dataframe\">\n",
       "  <thead>\n",
       "    <tr style=\"text-align: right;\">\n",
       "      <th></th>\n",
       "      <th>movieId</th>\n",
       "      <th>imdbId</th>\n",
       "      <th>tmdbId</th>\n",
       "    </tr>\n",
       "  </thead>\n",
       "  <tbody>\n",
       "    <tr>\n",
       "      <th>0</th>\n",
       "      <td>1</td>\n",
       "      <td>0114709</td>\n",
       "      <td>862.0</td>\n",
       "    </tr>\n",
       "    <tr>\n",
       "      <th>1</th>\n",
       "      <td>2</td>\n",
       "      <td>0113497</td>\n",
       "      <td>8844.0</td>\n",
       "    </tr>\n",
       "  </tbody>\n",
       "</table>\n",
       "</div>"
      ],
      "text/plain": [
       "   movieId   imdbId  tmdbId\n",
       "0        1  0114709   862.0\n",
       "1        2  0113497  8844.0"
      ]
     },
     "execution_count": 16,
     "metadata": {},
     "output_type": "execute_result"
    }
   ],
   "source": [
    "links_df = pd.read_csv(r\"data/links.csv\", dtype={'imdbId': object})\n",
    "display(links_df.shape)\n",
    "links_df.head(2)"
   ]
  },
  {
   "cell_type": "code",
   "execution_count": 17,
   "id": "2fad51af-14d9-484c-853b-4ad94f2cdfb3",
   "metadata": {},
   "outputs": [
    {
     "data": {
      "text/html": [
       "<div>\n",
       "<style scoped>\n",
       "    .dataframe tbody tr th:only-of-type {\n",
       "        vertical-align: middle;\n",
       "    }\n",
       "\n",
       "    .dataframe tbody tr th {\n",
       "        vertical-align: top;\n",
       "    }\n",
       "\n",
       "    .dataframe thead th {\n",
       "        text-align: right;\n",
       "    }\n",
       "</style>\n",
       "<table border=\"1\" class=\"dataframe\">\n",
       "  <thead>\n",
       "    <tr style=\"text-align: right;\">\n",
       "      <th></th>\n",
       "      <th>userId</th>\n",
       "      <th>movieId</th>\n",
       "      <th>rating</th>\n",
       "      <th>timestamp</th>\n",
       "    </tr>\n",
       "  </thead>\n",
       "  <tbody>\n",
       "    <tr>\n",
       "      <th>0</th>\n",
       "      <td>1</td>\n",
       "      <td>1</td>\n",
       "      <td>4.0</td>\n",
       "      <td>964982703</td>\n",
       "    </tr>\n",
       "    <tr>\n",
       "      <th>1</th>\n",
       "      <td>1</td>\n",
       "      <td>3</td>\n",
       "      <td>4.0</td>\n",
       "      <td>964981247</td>\n",
       "    </tr>\n",
       "  </tbody>\n",
       "</table>\n",
       "</div>"
      ],
      "text/plain": [
       "   userId  movieId  rating  timestamp\n",
       "0       1        1     4.0  964982703\n",
       "1       1        3     4.0  964981247"
      ]
     },
     "execution_count": 17,
     "metadata": {},
     "output_type": "execute_result"
    }
   ],
   "source": [
    "ratings_df = pd.read_csv(r\"data/ratings.csv\")\n",
    "ratings_df.head(2)"
   ]
  },
  {
   "cell_type": "code",
   "execution_count": 18,
   "id": "a046a459-01d0-414f-af26-ff670b431a86",
   "metadata": {},
   "outputs": [],
   "source": [
    "ratings_df['timestamp'] = pd.to_datetime(ratings_df['timestamp'], unit='s')\n",
    "ratings_df['timestamp'] = ratings_df['timestamp'].dt.date"
   ]
  },
  {
   "cell_type": "code",
   "execution_count": 19,
   "id": "bcc10924-41ca-4661-9905-f8c445816819",
   "metadata": {},
   "outputs": [],
   "source": [
    "user_ratings = pd.merge(ratings_df, links_df[['movieId','imdbId']], left_on='movieId', right_on='movieId')"
   ]
  },
  {
   "cell_type": "code",
   "execution_count": 20,
   "id": "7f0cca24-18ee-45c5-9cf4-9bbfdb2d480b",
   "metadata": {},
   "outputs": [],
   "source": [
    "user_ratings = user_ratings.dropna()"
   ]
  },
  {
   "cell_type": "code",
   "execution_count": 21,
   "id": "b7418d86-e964-494f-a45d-ceb53a22d699",
   "metadata": {},
   "outputs": [],
   "source": [
    "user_ratings['imdbId'] = user_ratings['imdbId'].astype(str).apply(lambda x: \"tt\" + x)"
   ]
  },
  {
   "cell_type": "code",
   "execution_count": 22,
   "id": "51709550-a0b8-4115-96f0-8108afe00e0a",
   "metadata": {},
   "outputs": [
    {
     "data": {
      "text/html": [
       "<div>\n",
       "<style scoped>\n",
       "    .dataframe tbody tr th:only-of-type {\n",
       "        vertical-align: middle;\n",
       "    }\n",
       "\n",
       "    .dataframe tbody tr th {\n",
       "        vertical-align: top;\n",
       "    }\n",
       "\n",
       "    .dataframe thead th {\n",
       "        text-align: right;\n",
       "    }\n",
       "</style>\n",
       "<table border=\"1\" class=\"dataframe\">\n",
       "  <thead>\n",
       "    <tr style=\"text-align: right;\">\n",
       "      <th></th>\n",
       "      <th>userId</th>\n",
       "      <th>movieId</th>\n",
       "      <th>rating</th>\n",
       "      <th>timestamp</th>\n",
       "      <th>imdbId</th>\n",
       "    </tr>\n",
       "  </thead>\n",
       "  <tbody>\n",
       "    <tr>\n",
       "      <th>54759</th>\n",
       "      <td>610</td>\n",
       "      <td>38061</td>\n",
       "      <td>5.0</td>\n",
       "      <td>2016-11-19</td>\n",
       "      <td>tt0373469</td>\n",
       "    </tr>\n",
       "    <tr>\n",
       "      <th>73640</th>\n",
       "      <td>274</td>\n",
       "      <td>54736</td>\n",
       "      <td>4.0</td>\n",
       "      <td>2008-01-18</td>\n",
       "      <td>tt0431197</td>\n",
       "    </tr>\n",
       "    <tr>\n",
       "      <th>98301</th>\n",
       "      <td>414</td>\n",
       "      <td>8587</td>\n",
       "      <td>3.5</td>\n",
       "      <td>2005-03-04</td>\n",
       "      <td>tt0230512</td>\n",
       "    </tr>\n",
       "    <tr>\n",
       "      <th>41188</th>\n",
       "      <td>430</td>\n",
       "      <td>6377</td>\n",
       "      <td>3.5</td>\n",
       "      <td>2003-07-06</td>\n",
       "      <td>tt0266543</td>\n",
       "    </tr>\n",
       "    <tr>\n",
       "      <th>37291</th>\n",
       "      <td>390</td>\n",
       "      <td>5989</td>\n",
       "      <td>2.0</td>\n",
       "      <td>2009-08-15</td>\n",
       "      <td>tt0264464</td>\n",
       "    </tr>\n",
       "  </tbody>\n",
       "</table>\n",
       "</div>"
      ],
      "text/plain": [
       "       userId  movieId  rating   timestamp     imdbId\n",
       "54759     610    38061     5.0  2016-11-19  tt0373469\n",
       "73640     274    54736     4.0  2008-01-18  tt0431197\n",
       "98301     414     8587     3.5  2005-03-04  tt0230512\n",
       "41188     430     6377     3.5  2003-07-06  tt0266543\n",
       "37291     390     5989     2.0  2009-08-15  tt0264464"
      ]
     },
     "execution_count": 22,
     "metadata": {},
     "output_type": "execute_result"
    }
   ],
   "source": [
    "user_ratings.sample(5)"
   ]
  },
  {
   "cell_type": "code",
   "execution_count": 23,
   "id": "a10a4630-f321-4301-a621-5977adbbe467",
   "metadata": {},
   "outputs": [
    {
     "ename": "NameError",
     "evalue": "name 'id_title_dict' is not defined",
     "output_type": "error",
     "traceback": [
      "\u001b[0;31m---------------------------------------------------------------------------\u001b[0m",
      "\u001b[0;31mNameError\u001b[0m                                 Traceback (most recent call last)",
      "\u001b[0;32m<ipython-input-23-f8b8ea2b205d>\u001b[0m in \u001b[0;36m<module>\u001b[0;34m\u001b[0m\n\u001b[0;32m----> 1\u001b[0;31m \u001b[0muser_ratings\u001b[0m\u001b[0;34m[\u001b[0m\u001b[0;34m'title'\u001b[0m\u001b[0;34m]\u001b[0m \u001b[0;34m=\u001b[0m \u001b[0muser_ratings\u001b[0m\u001b[0;34m[\u001b[0m\u001b[0;34m'imdbId'\u001b[0m\u001b[0;34m]\u001b[0m\u001b[0;34m.\u001b[0m\u001b[0mmap\u001b[0m\u001b[0;34m(\u001b[0m\u001b[0mid_title_dict\u001b[0m\u001b[0;34m)\u001b[0m\u001b[0;34m\u001b[0m\u001b[0;34m\u001b[0m\u001b[0m\n\u001b[0m",
      "\u001b[0;31mNameError\u001b[0m: name 'id_title_dict' is not defined"
     ]
    }
   ],
   "source": [
    "user_ratings['title'] = user_ratings['imdbId'].map(id_title_dict)"
   ]
  },
  {
   "cell_type": "code",
   "execution_count": null,
   "id": "ae2710ab-d5a0-4738-aabc-204918062c3b",
   "metadata": {},
   "outputs": [],
   "source": [
    "user_ratings.info()"
   ]
  },
  {
   "cell_type": "code",
   "execution_count": null,
   "id": "ec37ac40-74ea-4890-86a3-4fb48c961e3b",
   "metadata": {},
   "outputs": [],
   "source": [
    "user_ratings = user_ratings.dropna()"
   ]
  },
  {
   "cell_type": "code",
   "execution_count": null,
   "id": "236e8584-0f20-409e-8491-f295c0208a53",
   "metadata": {},
   "outputs": [],
   "source": [
    "user_ratings.to_csv(r\"data/user_ratings_clean.csv\", index=False)"
   ]
  }
 ],
 "metadata": {
  "kernelspec": {
   "display_name": "Python 3",
   "language": "python",
   "name": "python3"
  },
  "language_info": {
   "codemirror_mode": {
    "name": "ipython",
    "version": 3
   },
   "file_extension": ".py",
   "mimetype": "text/x-python",
   "name": "python",
   "nbconvert_exporter": "python",
   "pygments_lexer": "ipython3",
   "version": "3.8.8"
  }
 },
 "nbformat": 4,
 "nbformat_minor": 5
}

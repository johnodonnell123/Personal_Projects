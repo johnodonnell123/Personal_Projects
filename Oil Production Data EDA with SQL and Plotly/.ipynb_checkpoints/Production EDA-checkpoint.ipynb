{
 "cells": [
  {
   "cell_type": "markdown",
   "metadata": {},
   "source": [
    "# **<h1><center> Production EDA </center></h1>**"
   ]
  },
  {
   "cell_type": "markdown",
   "metadata": {},
   "source": [
    "## Import Packages"
   ]
  },
  {
   "cell_type": "code",
   "execution_count": 8,
   "metadata": {},
   "outputs": [],
   "source": [
    "import pandas as pd\n",
    "import sqlite3\n",
    "import plotly.io as pio\n",
    "import numpy as np\n",
    "from statistics import mean \n",
    "import plotly.express as px\n",
    "import plotly.graph_objects as go\n",
    "pd.options.display.float_format = '{:.3f}'.format\n",
    "pd.set_option(\"display.max_rows\",1000)\n",
    "pd.options.display.precision = 1"
   ]
  },
  {
   "cell_type": "markdown",
   "metadata": {},
   "source": [
    "### Connect to SQlite3 DataBase"
   ]
  },
  {
   "cell_type": "code",
   "execution_count": 3,
   "metadata": {},
   "outputs": [
    {
     "name": "stdout",
     "output_type": "stream",
     "text": [
      "The sql extension is already loaded. To reload it, use:\n",
      "  %reload_ext sql\n"
     ]
    }
   ],
   "source": [
    "%load_ext sql\n",
    "%sql sqlite:////Users/john.odonnell/Python/Web_Scraping/NDIC/Well_DataBase.db"
   ]
  },
  {
   "cell_type": "markdown",
   "metadata": {},
   "source": [
    "### View Tables"
   ]
  },
  {
   "cell_type": "code",
   "execution_count": 6,
   "metadata": {},
   "outputs": [
    {
     "name": "stdout",
     "output_type": "stream",
     "text": [
      " * sqlite:////Users/john.odonnell/Python/Web_Scraping/NDIC/Well_DataBase.db\n",
      "Done.\n"
     ]
    },
    {
     "data": {
      "text/html": [
       "<table>\n",
       "    <tr>\n",
       "        <th>name</th>\n",
       "    </tr>\n",
       "    <tr>\n",
       "        <td>header_table</td>\n",
       "    </tr>\n",
       "    <tr>\n",
       "        <td>prod_table</td>\n",
       "    </tr>\n",
       "</table>"
      ],
      "text/plain": [
       "[('header_table',), ('prod_table',)]"
      ]
     },
     "execution_count": 6,
     "metadata": {},
     "output_type": "execute_result"
    }
   ],
   "source": [
    "%%sql \n",
    "\n",
    "SELECT \n",
    "    name \n",
    "FROM sqlite_master \n",
    "WHERE type ='table';"
   ]
  },
  {
   "cell_type": "markdown",
   "metadata": {},
   "source": [
    "## Import Production data"
   ]
  },
  {
   "cell_type": "code",
   "execution_count": 10,
   "metadata": {},
   "outputs": [
    {
     "name": "stdout",
     "output_type": "stream",
     "text": [
      " * sqlite:////Users/john.odonnell/Python/Web_Scraping/NDIC/Well_DataBase.db\n",
      "Done.\n"
     ]
    },
    {
     "data": {
      "text/html": [
       "<div>\n",
       "<style scoped>\n",
       "    .dataframe tbody tr th:only-of-type {\n",
       "        vertical-align: middle;\n",
       "    }\n",
       "\n",
       "    .dataframe tbody tr th {\n",
       "        vertical-align: top;\n",
       "    }\n",
       "\n",
       "    .dataframe thead th {\n",
       "        text-align: right;\n",
       "    }\n",
       "</style>\n",
       "<table border=\"1\" class=\"dataframe\">\n",
       "  <thead>\n",
       "    <tr style=\"text-align: right;\">\n",
       "      <th></th>\n",
       "      <th>count</th>\n",
       "      <th>mean</th>\n",
       "      <th>std</th>\n",
       "      <th>min</th>\n",
       "      <th>25%</th>\n",
       "      <th>50%</th>\n",
       "      <th>75%</th>\n",
       "      <th>max</th>\n",
       "    </tr>\n",
       "  </thead>\n",
       "  <tbody>\n",
       "    <tr>\n",
       "      <th>Days</th>\n",
       "      <td>1169929.00000</td>\n",
       "      <td>27.51011</td>\n",
       "      <td>6.52795</td>\n",
       "      <td>1.00000</td>\n",
       "      <td>28.00000</td>\n",
       "      <td>30.00000</td>\n",
       "      <td>31.00000</td>\n",
       "      <td>31.00000</td>\n",
       "    </tr>\n",
       "    <tr>\n",
       "      <th>Oil</th>\n",
       "      <td>1169929.00000</td>\n",
       "      <td>3197.34306</td>\n",
       "      <td>4686.06705</td>\n",
       "      <td>0.00000</td>\n",
       "      <td>877.00000</td>\n",
       "      <td>1704.00000</td>\n",
       "      <td>3436.00000</td>\n",
       "      <td>136924.00000</td>\n",
       "    </tr>\n",
       "    <tr>\n",
       "      <th>Water</th>\n",
       "      <td>1169929.00000</td>\n",
       "      <td>2963.52033</td>\n",
       "      <td>5480.39414</td>\n",
       "      <td>0.00000</td>\n",
       "      <td>615.00000</td>\n",
       "      <td>1404.00000</td>\n",
       "      <td>3038.00000</td>\n",
       "      <td>650679.00000</td>\n",
       "    </tr>\n",
       "    <tr>\n",
       "      <th>Gas</th>\n",
       "      <td>1169929.00000</td>\n",
       "      <td>5216.23216</td>\n",
       "      <td>8703.74574</td>\n",
       "      <td>0.00000</td>\n",
       "      <td>1109.00000</td>\n",
       "      <td>2465.00000</td>\n",
       "      <td>5250.00000</td>\n",
       "      <td>200369.00000</td>\n",
       "    </tr>\n",
       "  </tbody>\n",
       "</table>\n",
       "</div>"
      ],
      "text/plain": [
       "              count       mean        std     min        25%        50%  \\\n",
       "Days  1169929.00000   27.51011    6.52795 1.00000   28.00000   30.00000   \n",
       "Oil   1169929.00000 3197.34306 4686.06705 0.00000  877.00000 1704.00000   \n",
       "Water 1169929.00000 2963.52033 5480.39414 0.00000  615.00000 1404.00000   \n",
       "Gas   1169929.00000 5216.23216 8703.74574 0.00000 1109.00000 2465.00000   \n",
       "\n",
       "             75%          max  \n",
       "Days    31.00000     31.00000  \n",
       "Oil   3436.00000 136924.00000  \n",
       "Water 3038.00000 650679.00000  \n",
       "Gas   5250.00000 200369.00000  "
      ]
     },
     "execution_count": 10,
     "metadata": {},
     "output_type": "execute_result"
    }
   ],
   "source": [
    "query = %sql SELECT * FROM prod_table WHERE Days > 0\n",
    "\n",
    "df_production = query.DataFrame()\n",
    "df_production.set_index('UWI',inplace=True)\n",
    "df_production['Date'] = pd.to_datetime(df_production['Date'], infer_datetime_format=True)\n",
    "df_production.describe().transpose()"
   ]
  },
  {
   "cell_type": "code",
   "execution_count": 33,
   "metadata": {
    "collapsed": true,
    "jupyter": {
     "outputs_hidden": true
    },
    "tags": []
   },
   "outputs": [
    {
     "name": "stdout",
     "output_type": "stream",
     "text": [
      " * sqlite:////Users/john.odonnell/Python/Web_Scraping/NDIC/Well_DataBase.db\n",
      "Done.\n"
     ]
    },
    {
     "ename": "ResourceClosedError",
     "evalue": "This result object does not return rows. It has been closed automatically.",
     "output_type": "error",
     "traceback": [
      "\u001b[0;31m---------------------------------------------------------------------------\u001b[0m",
      "\u001b[0;31mResourceClosedError\u001b[0m                       Traceback (most recent call last)",
      "\u001b[0;32m<ipython-input-33-2a4a551f7178>\u001b[0m in \u001b[0;36m<module>\u001b[0;34m\u001b[0m\n\u001b[0;32m----> 1\u001b[0;31m \u001b[0mget_ipython\u001b[0m\u001b[0;34m(\u001b[0m\u001b[0;34m)\u001b[0m\u001b[0;34m.\u001b[0m\u001b[0mrun_cell_magic\u001b[0m\u001b[0;34m(\u001b[0m\u001b[0;34m'sql'\u001b[0m\u001b[0;34m,\u001b[0m \u001b[0;34m''\u001b[0m\u001b[0;34m,\u001b[0m \u001b[0;34m'\\ndrop table header_table\\n'\u001b[0m\u001b[0;34m)\u001b[0m\u001b[0;34m\u001b[0m\u001b[0;34m\u001b[0m\u001b[0m\n\u001b[0m",
      "\u001b[0;32m/opt/anaconda3/lib/python3.8/site-packages/IPython/core/interactiveshell.py\u001b[0m in \u001b[0;36mrun_cell_magic\u001b[0;34m(self, magic_name, line, cell)\u001b[0m\n\u001b[1;32m   2397\u001b[0m             \u001b[0;32mwith\u001b[0m \u001b[0mself\u001b[0m\u001b[0;34m.\u001b[0m\u001b[0mbuiltin_trap\u001b[0m\u001b[0;34m:\u001b[0m\u001b[0;34m\u001b[0m\u001b[0;34m\u001b[0m\u001b[0m\n\u001b[1;32m   2398\u001b[0m                 \u001b[0margs\u001b[0m \u001b[0;34m=\u001b[0m \u001b[0;34m(\u001b[0m\u001b[0mmagic_arg_s\u001b[0m\u001b[0;34m,\u001b[0m \u001b[0mcell\u001b[0m\u001b[0;34m)\u001b[0m\u001b[0;34m\u001b[0m\u001b[0;34m\u001b[0m\u001b[0m\n\u001b[0;32m-> 2399\u001b[0;31m                 \u001b[0mresult\u001b[0m \u001b[0;34m=\u001b[0m \u001b[0mfn\u001b[0m\u001b[0;34m(\u001b[0m\u001b[0;34m*\u001b[0m\u001b[0margs\u001b[0m\u001b[0;34m,\u001b[0m \u001b[0;34m**\u001b[0m\u001b[0mkwargs\u001b[0m\u001b[0;34m)\u001b[0m\u001b[0;34m\u001b[0m\u001b[0;34m\u001b[0m\u001b[0m\n\u001b[0m\u001b[1;32m   2400\u001b[0m             \u001b[0;32mreturn\u001b[0m \u001b[0mresult\u001b[0m\u001b[0;34m\u001b[0m\u001b[0;34m\u001b[0m\u001b[0m\n\u001b[1;32m   2401\u001b[0m \u001b[0;34m\u001b[0m\u001b[0m\n",
      "\u001b[0;32m/opt/anaconda3/lib/python3.8/site-packages/decorator.py\u001b[0m in \u001b[0;36mfun\u001b[0;34m(*args, **kw)\u001b[0m\n\u001b[1;32m    229\u001b[0m             \u001b[0;32mif\u001b[0m \u001b[0;32mnot\u001b[0m \u001b[0mkwsyntax\u001b[0m\u001b[0;34m:\u001b[0m\u001b[0;34m\u001b[0m\u001b[0;34m\u001b[0m\u001b[0m\n\u001b[1;32m    230\u001b[0m                 \u001b[0margs\u001b[0m\u001b[0;34m,\u001b[0m \u001b[0mkw\u001b[0m \u001b[0;34m=\u001b[0m \u001b[0mfix\u001b[0m\u001b[0;34m(\u001b[0m\u001b[0margs\u001b[0m\u001b[0;34m,\u001b[0m \u001b[0mkw\u001b[0m\u001b[0;34m,\u001b[0m \u001b[0msig\u001b[0m\u001b[0;34m)\u001b[0m\u001b[0;34m\u001b[0m\u001b[0;34m\u001b[0m\u001b[0m\n\u001b[0;32m--> 231\u001b[0;31m             \u001b[0;32mreturn\u001b[0m \u001b[0mcaller\u001b[0m\u001b[0;34m(\u001b[0m\u001b[0mfunc\u001b[0m\u001b[0;34m,\u001b[0m \u001b[0;34m*\u001b[0m\u001b[0;34m(\u001b[0m\u001b[0mextras\u001b[0m \u001b[0;34m+\u001b[0m \u001b[0margs\u001b[0m\u001b[0;34m)\u001b[0m\u001b[0;34m,\u001b[0m \u001b[0;34m**\u001b[0m\u001b[0mkw\u001b[0m\u001b[0;34m)\u001b[0m\u001b[0;34m\u001b[0m\u001b[0;34m\u001b[0m\u001b[0m\n\u001b[0m\u001b[1;32m    232\u001b[0m     \u001b[0mfun\u001b[0m\u001b[0;34m.\u001b[0m\u001b[0m__name__\u001b[0m \u001b[0;34m=\u001b[0m \u001b[0mfunc\u001b[0m\u001b[0;34m.\u001b[0m\u001b[0m__name__\u001b[0m\u001b[0;34m\u001b[0m\u001b[0;34m\u001b[0m\u001b[0m\n\u001b[1;32m    233\u001b[0m     \u001b[0mfun\u001b[0m\u001b[0;34m.\u001b[0m\u001b[0m__doc__\u001b[0m \u001b[0;34m=\u001b[0m \u001b[0mfunc\u001b[0m\u001b[0;34m.\u001b[0m\u001b[0m__doc__\u001b[0m\u001b[0;34m\u001b[0m\u001b[0;34m\u001b[0m\u001b[0m\n",
      "\u001b[0;32m/opt/anaconda3/lib/python3.8/site-packages/IPython/core/magic.py\u001b[0m in \u001b[0;36m<lambda>\u001b[0;34m(f, *a, **k)\u001b[0m\n\u001b[1;32m    185\u001b[0m     \u001b[0;31m# but it's overkill for just that one bit of state.\u001b[0m\u001b[0;34m\u001b[0m\u001b[0;34m\u001b[0m\u001b[0;34m\u001b[0m\u001b[0m\n\u001b[1;32m    186\u001b[0m     \u001b[0;32mdef\u001b[0m \u001b[0mmagic_deco\u001b[0m\u001b[0;34m(\u001b[0m\u001b[0marg\u001b[0m\u001b[0;34m)\u001b[0m\u001b[0;34m:\u001b[0m\u001b[0;34m\u001b[0m\u001b[0;34m\u001b[0m\u001b[0m\n\u001b[0;32m--> 187\u001b[0;31m         \u001b[0mcall\u001b[0m \u001b[0;34m=\u001b[0m \u001b[0;32mlambda\u001b[0m \u001b[0mf\u001b[0m\u001b[0;34m,\u001b[0m \u001b[0;34m*\u001b[0m\u001b[0ma\u001b[0m\u001b[0;34m,\u001b[0m \u001b[0;34m**\u001b[0m\u001b[0mk\u001b[0m\u001b[0;34m:\u001b[0m \u001b[0mf\u001b[0m\u001b[0;34m(\u001b[0m\u001b[0;34m*\u001b[0m\u001b[0ma\u001b[0m\u001b[0;34m,\u001b[0m \u001b[0;34m**\u001b[0m\u001b[0mk\u001b[0m\u001b[0;34m)\u001b[0m\u001b[0;34m\u001b[0m\u001b[0;34m\u001b[0m\u001b[0m\n\u001b[0m\u001b[1;32m    188\u001b[0m \u001b[0;34m\u001b[0m\u001b[0m\n\u001b[1;32m    189\u001b[0m         \u001b[0;32mif\u001b[0m \u001b[0mcallable\u001b[0m\u001b[0;34m(\u001b[0m\u001b[0marg\u001b[0m\u001b[0;34m)\u001b[0m\u001b[0;34m:\u001b[0m\u001b[0;34m\u001b[0m\u001b[0;34m\u001b[0m\u001b[0m\n",
      "\u001b[0;32m/opt/anaconda3/lib/python3.8/site-packages/decorator.py\u001b[0m in \u001b[0;36mfun\u001b[0;34m(*args, **kw)\u001b[0m\n\u001b[1;32m    229\u001b[0m             \u001b[0;32mif\u001b[0m \u001b[0;32mnot\u001b[0m \u001b[0mkwsyntax\u001b[0m\u001b[0;34m:\u001b[0m\u001b[0;34m\u001b[0m\u001b[0;34m\u001b[0m\u001b[0m\n\u001b[1;32m    230\u001b[0m                 \u001b[0margs\u001b[0m\u001b[0;34m,\u001b[0m \u001b[0mkw\u001b[0m \u001b[0;34m=\u001b[0m \u001b[0mfix\u001b[0m\u001b[0;34m(\u001b[0m\u001b[0margs\u001b[0m\u001b[0;34m,\u001b[0m \u001b[0mkw\u001b[0m\u001b[0;34m,\u001b[0m \u001b[0msig\u001b[0m\u001b[0;34m)\u001b[0m\u001b[0;34m\u001b[0m\u001b[0;34m\u001b[0m\u001b[0m\n\u001b[0;32m--> 231\u001b[0;31m             \u001b[0;32mreturn\u001b[0m \u001b[0mcaller\u001b[0m\u001b[0;34m(\u001b[0m\u001b[0mfunc\u001b[0m\u001b[0;34m,\u001b[0m \u001b[0;34m*\u001b[0m\u001b[0;34m(\u001b[0m\u001b[0mextras\u001b[0m \u001b[0;34m+\u001b[0m \u001b[0margs\u001b[0m\u001b[0;34m)\u001b[0m\u001b[0;34m,\u001b[0m \u001b[0;34m**\u001b[0m\u001b[0mkw\u001b[0m\u001b[0;34m)\u001b[0m\u001b[0;34m\u001b[0m\u001b[0;34m\u001b[0m\u001b[0m\n\u001b[0m\u001b[1;32m    232\u001b[0m     \u001b[0mfun\u001b[0m\u001b[0;34m.\u001b[0m\u001b[0m__name__\u001b[0m \u001b[0;34m=\u001b[0m \u001b[0mfunc\u001b[0m\u001b[0;34m.\u001b[0m\u001b[0m__name__\u001b[0m\u001b[0;34m\u001b[0m\u001b[0;34m\u001b[0m\u001b[0m\n\u001b[1;32m    233\u001b[0m     \u001b[0mfun\u001b[0m\u001b[0;34m.\u001b[0m\u001b[0m__doc__\u001b[0m \u001b[0;34m=\u001b[0m \u001b[0mfunc\u001b[0m\u001b[0;34m.\u001b[0m\u001b[0m__doc__\u001b[0m\u001b[0;34m\u001b[0m\u001b[0;34m\u001b[0m\u001b[0m\n",
      "\u001b[0;32m/opt/anaconda3/lib/python3.8/site-packages/IPython/core/magic.py\u001b[0m in \u001b[0;36m<lambda>\u001b[0;34m(f, *a, **k)\u001b[0m\n\u001b[1;32m    185\u001b[0m     \u001b[0;31m# but it's overkill for just that one bit of state.\u001b[0m\u001b[0;34m\u001b[0m\u001b[0;34m\u001b[0m\u001b[0;34m\u001b[0m\u001b[0m\n\u001b[1;32m    186\u001b[0m     \u001b[0;32mdef\u001b[0m \u001b[0mmagic_deco\u001b[0m\u001b[0;34m(\u001b[0m\u001b[0marg\u001b[0m\u001b[0;34m)\u001b[0m\u001b[0;34m:\u001b[0m\u001b[0;34m\u001b[0m\u001b[0;34m\u001b[0m\u001b[0m\n\u001b[0;32m--> 187\u001b[0;31m         \u001b[0mcall\u001b[0m \u001b[0;34m=\u001b[0m \u001b[0;32mlambda\u001b[0m \u001b[0mf\u001b[0m\u001b[0;34m,\u001b[0m \u001b[0;34m*\u001b[0m\u001b[0ma\u001b[0m\u001b[0;34m,\u001b[0m \u001b[0;34m**\u001b[0m\u001b[0mk\u001b[0m\u001b[0;34m:\u001b[0m \u001b[0mf\u001b[0m\u001b[0;34m(\u001b[0m\u001b[0;34m*\u001b[0m\u001b[0ma\u001b[0m\u001b[0;34m,\u001b[0m \u001b[0;34m**\u001b[0m\u001b[0mk\u001b[0m\u001b[0;34m)\u001b[0m\u001b[0;34m\u001b[0m\u001b[0;34m\u001b[0m\u001b[0m\n\u001b[0m\u001b[1;32m    188\u001b[0m \u001b[0;34m\u001b[0m\u001b[0m\n\u001b[1;32m    189\u001b[0m         \u001b[0;32mif\u001b[0m \u001b[0mcallable\u001b[0m\u001b[0;34m(\u001b[0m\u001b[0marg\u001b[0m\u001b[0;34m)\u001b[0m\u001b[0;34m:\u001b[0m\u001b[0;34m\u001b[0m\u001b[0;34m\u001b[0m\u001b[0m\n",
      "\u001b[0;32m/opt/anaconda3/lib/python3.8/site-packages/sql/magic.py\u001b[0m in \u001b[0;36mexecute\u001b[0;34m(self, line, cell, local_ns)\u001b[0m\n\u001b[1;32m    215\u001b[0m \u001b[0;34m\u001b[0m\u001b[0m\n\u001b[1;32m    216\u001b[0m         \u001b[0;32mtry\u001b[0m\u001b[0;34m:\u001b[0m\u001b[0;34m\u001b[0m\u001b[0;34m\u001b[0m\u001b[0m\n\u001b[0;32m--> 217\u001b[0;31m             \u001b[0mresult\u001b[0m \u001b[0;34m=\u001b[0m \u001b[0msql\u001b[0m\u001b[0;34m.\u001b[0m\u001b[0mrun\u001b[0m\u001b[0;34m.\u001b[0m\u001b[0mrun\u001b[0m\u001b[0;34m(\u001b[0m\u001b[0mconn\u001b[0m\u001b[0;34m,\u001b[0m \u001b[0mparsed\u001b[0m\u001b[0;34m[\u001b[0m\u001b[0;34m\"sql\"\u001b[0m\u001b[0;34m]\u001b[0m\u001b[0;34m,\u001b[0m \u001b[0mself\u001b[0m\u001b[0;34m,\u001b[0m \u001b[0muser_ns\u001b[0m\u001b[0;34m)\u001b[0m\u001b[0;34m\u001b[0m\u001b[0;34m\u001b[0m\u001b[0m\n\u001b[0m\u001b[1;32m    218\u001b[0m \u001b[0;34m\u001b[0m\u001b[0m\n\u001b[1;32m    219\u001b[0m             if (\n",
      "\u001b[0;32m/opt/anaconda3/lib/python3.8/site-packages/sql/run.py\u001b[0m in \u001b[0;36mrun\u001b[0;34m(conn, sql, config, user_namespace)\u001b[0m\n\u001b[1;32m    369\u001b[0m             \u001b[0;32mif\u001b[0m \u001b[0mresult\u001b[0m \u001b[0;32mand\u001b[0m \u001b[0mconfig\u001b[0m\u001b[0;34m.\u001b[0m\u001b[0mfeedback\u001b[0m\u001b[0;34m:\u001b[0m\u001b[0;34m\u001b[0m\u001b[0;34m\u001b[0m\u001b[0m\n\u001b[1;32m    370\u001b[0m                 \u001b[0mprint\u001b[0m\u001b[0;34m(\u001b[0m\u001b[0minterpret_rowcount\u001b[0m\u001b[0;34m(\u001b[0m\u001b[0mresult\u001b[0m\u001b[0;34m.\u001b[0m\u001b[0mrowcount\u001b[0m\u001b[0;34m)\u001b[0m\u001b[0;34m)\u001b[0m\u001b[0;34m\u001b[0m\u001b[0;34m\u001b[0m\u001b[0m\n\u001b[0;32m--> 371\u001b[0;31m         \u001b[0mresultset\u001b[0m \u001b[0;34m=\u001b[0m \u001b[0mResultSet\u001b[0m\u001b[0;34m(\u001b[0m\u001b[0mresult\u001b[0m\u001b[0;34m,\u001b[0m \u001b[0mstatement\u001b[0m\u001b[0;34m,\u001b[0m \u001b[0mconfig\u001b[0m\u001b[0;34m)\u001b[0m\u001b[0;34m\u001b[0m\u001b[0;34m\u001b[0m\u001b[0m\n\u001b[0m\u001b[1;32m    372\u001b[0m         \u001b[0;32mif\u001b[0m \u001b[0mconfig\u001b[0m\u001b[0;34m.\u001b[0m\u001b[0mautopandas\u001b[0m\u001b[0;34m:\u001b[0m\u001b[0;34m\u001b[0m\u001b[0;34m\u001b[0m\u001b[0m\n\u001b[1;32m    373\u001b[0m             \u001b[0;32mreturn\u001b[0m \u001b[0mresultset\u001b[0m\u001b[0;34m.\u001b[0m\u001b[0mDataFrame\u001b[0m\u001b[0;34m(\u001b[0m\u001b[0;34m)\u001b[0m\u001b[0;34m\u001b[0m\u001b[0;34m\u001b[0m\u001b[0m\n",
      "\u001b[0;32m/opt/anaconda3/lib/python3.8/site-packages/sql/run.py\u001b[0m in \u001b[0;36m__init__\u001b[0;34m(self, sqlaproxy, sql, config)\u001b[0m\n\u001b[1;32m    105\u001b[0m \u001b[0;34m\u001b[0m\u001b[0m\n\u001b[1;32m    106\u001b[0m     \u001b[0;32mdef\u001b[0m \u001b[0m__init__\u001b[0m\u001b[0;34m(\u001b[0m\u001b[0mself\u001b[0m\u001b[0;34m,\u001b[0m \u001b[0msqlaproxy\u001b[0m\u001b[0;34m,\u001b[0m \u001b[0msql\u001b[0m\u001b[0;34m,\u001b[0m \u001b[0mconfig\u001b[0m\u001b[0;34m)\u001b[0m\u001b[0;34m:\u001b[0m\u001b[0;34m\u001b[0m\u001b[0;34m\u001b[0m\u001b[0m\n\u001b[0;32m--> 107\u001b[0;31m         \u001b[0mself\u001b[0m\u001b[0;34m.\u001b[0m\u001b[0mkeys\u001b[0m \u001b[0;34m=\u001b[0m \u001b[0msqlaproxy\u001b[0m\u001b[0;34m.\u001b[0m\u001b[0mkeys\u001b[0m\u001b[0;34m(\u001b[0m\u001b[0;34m)\u001b[0m\u001b[0;34m\u001b[0m\u001b[0;34m\u001b[0m\u001b[0m\n\u001b[0m\u001b[1;32m    108\u001b[0m         \u001b[0mself\u001b[0m\u001b[0;34m.\u001b[0m\u001b[0msql\u001b[0m \u001b[0;34m=\u001b[0m \u001b[0msql\u001b[0m\u001b[0;34m\u001b[0m\u001b[0;34m\u001b[0m\u001b[0m\n\u001b[1;32m    109\u001b[0m         \u001b[0mself\u001b[0m\u001b[0;34m.\u001b[0m\u001b[0mconfig\u001b[0m \u001b[0;34m=\u001b[0m \u001b[0mconfig\u001b[0m\u001b[0;34m\u001b[0m\u001b[0;34m\u001b[0m\u001b[0m\n",
      "\u001b[0;32m/opt/anaconda3/lib/python3.8/site-packages/sqlalchemy/engine/result.py\u001b[0m in \u001b[0;36mkeys\u001b[0;34m(self)\u001b[0m\n\u001b[1;32m    705\u001b[0m \u001b[0;34m\u001b[0m\u001b[0m\n\u001b[1;32m    706\u001b[0m         \"\"\"\n\u001b[0;32m--> 707\u001b[0;31m         \u001b[0;32mreturn\u001b[0m \u001b[0mself\u001b[0m\u001b[0;34m.\u001b[0m\u001b[0m_metadata\u001b[0m\u001b[0;34m.\u001b[0m\u001b[0mkeys\u001b[0m\u001b[0;34m\u001b[0m\u001b[0;34m\u001b[0m\u001b[0m\n\u001b[0m\u001b[1;32m    708\u001b[0m \u001b[0;34m\u001b[0m\u001b[0m\n\u001b[1;32m    709\u001b[0m \u001b[0;34m\u001b[0m\u001b[0m\n",
      "\u001b[0;32m/opt/anaconda3/lib/python3.8/site-packages/sqlalchemy/engine/cursor.py\u001b[0m in \u001b[0;36mkeys\u001b[0;34m(self)\u001b[0m\n\u001b[1;32m   1199\u001b[0m     \u001b[0;34m@\u001b[0m\u001b[0mproperty\u001b[0m\u001b[0;34m\u001b[0m\u001b[0;34m\u001b[0m\u001b[0m\n\u001b[1;32m   1200\u001b[0m     \u001b[0;32mdef\u001b[0m \u001b[0mkeys\u001b[0m\u001b[0;34m(\u001b[0m\u001b[0mself\u001b[0m\u001b[0;34m)\u001b[0m\u001b[0;34m:\u001b[0m\u001b[0;34m\u001b[0m\u001b[0;34m\u001b[0m\u001b[0m\n\u001b[0;32m-> 1201\u001b[0;31m         \u001b[0mself\u001b[0m\u001b[0;34m.\u001b[0m\u001b[0m_we_dont_return_rows\u001b[0m\u001b[0;34m(\u001b[0m\u001b[0;34m)\u001b[0m\u001b[0;34m\u001b[0m\u001b[0;34m\u001b[0m\u001b[0m\n\u001b[0m\u001b[1;32m   1202\u001b[0m \u001b[0;34m\u001b[0m\u001b[0m\n\u001b[1;32m   1203\u001b[0m \u001b[0;34m\u001b[0m\u001b[0m\n",
      "\u001b[0;32m/opt/anaconda3/lib/python3.8/site-packages/sqlalchemy/engine/cursor.py\u001b[0m in \u001b[0;36m_we_dont_return_rows\u001b[0;34m(self, err)\u001b[0m\n\u001b[1;32m   1176\u001b[0m \u001b[0;34m\u001b[0m\u001b[0m\n\u001b[1;32m   1177\u001b[0m     \u001b[0;32mdef\u001b[0m \u001b[0m_we_dont_return_rows\u001b[0m\u001b[0;34m(\u001b[0m\u001b[0mself\u001b[0m\u001b[0;34m,\u001b[0m \u001b[0merr\u001b[0m\u001b[0;34m=\u001b[0m\u001b[0;32mNone\u001b[0m\u001b[0;34m)\u001b[0m\u001b[0;34m:\u001b[0m\u001b[0;34m\u001b[0m\u001b[0;34m\u001b[0m\u001b[0m\n\u001b[0;32m-> 1178\u001b[0;31m         util.raise_(\n\u001b[0m\u001b[1;32m   1179\u001b[0m             exc.ResourceClosedError(\n\u001b[1;32m   1180\u001b[0m                 \u001b[0;34m\"This result object does not return rows. \"\u001b[0m\u001b[0;34m\u001b[0m\u001b[0;34m\u001b[0m\u001b[0m\n",
      "\u001b[0;32m/opt/anaconda3/lib/python3.8/site-packages/sqlalchemy/util/compat.py\u001b[0m in \u001b[0;36mraise_\u001b[0;34m(***failed resolving arguments***)\u001b[0m\n\u001b[1;32m    209\u001b[0m \u001b[0;34m\u001b[0m\u001b[0m\n\u001b[1;32m    210\u001b[0m         \u001b[0;32mtry\u001b[0m\u001b[0;34m:\u001b[0m\u001b[0;34m\u001b[0m\u001b[0;34m\u001b[0m\u001b[0m\n\u001b[0;32m--> 211\u001b[0;31m             \u001b[0;32mraise\u001b[0m \u001b[0mexception\u001b[0m\u001b[0;34m\u001b[0m\u001b[0;34m\u001b[0m\u001b[0m\n\u001b[0m\u001b[1;32m    212\u001b[0m         \u001b[0;32mfinally\u001b[0m\u001b[0;34m:\u001b[0m\u001b[0;34m\u001b[0m\u001b[0;34m\u001b[0m\u001b[0m\n\u001b[1;32m    213\u001b[0m             \u001b[0;31m# credit to\u001b[0m\u001b[0;34m\u001b[0m\u001b[0;34m\u001b[0m\u001b[0;34m\u001b[0m\u001b[0m\n",
      "\u001b[0;31mResourceClosedError\u001b[0m: This result object does not return rows. It has been closed automatically."
     ]
    }
   ],
   "source": [
    "%%sql\n",
    "\n",
    "drop table header_table"
   ]
  },
  {
   "cell_type": "markdown",
   "metadata": {},
   "source": [
    "## Import Header data"
   ]
  },
  {
   "cell_type": "code",
   "execution_count": 34,
   "metadata": {},
   "outputs": [
    {
     "name": "stdout",
     "output_type": "stream",
     "text": [
      " * sqlite:////Users/john.odonnell/Python/Web_Scraping/NDIC/Well_DataBase.db\n",
      "(sqlite3.OperationalError) no such table: header_table\n",
      "[SQL: SELECT * FROM header_table]\n",
      "(Background on this error at: http://sqlalche.me/e/14/e3q8)\n"
     ]
    },
    {
     "ename": "AttributeError",
     "evalue": "'NoneType' object has no attribute 'DataFrame'",
     "output_type": "error",
     "traceback": [
      "\u001b[0;31m---------------------------------------------------------------------------\u001b[0m",
      "\u001b[0;31mAttributeError\u001b[0m                            Traceback (most recent call last)",
      "\u001b[0;32m<ipython-input-34-ed7e9e06ccff>\u001b[0m in \u001b[0;36m<module>\u001b[0;34m\u001b[0m\n\u001b[1;32m      1\u001b[0m \u001b[0mquery\u001b[0m \u001b[0;34m=\u001b[0m \u001b[0mget_ipython\u001b[0m\u001b[0;34m(\u001b[0m\u001b[0;34m)\u001b[0m\u001b[0;34m.\u001b[0m\u001b[0mrun_line_magic\u001b[0m\u001b[0;34m(\u001b[0m\u001b[0;34m'sql'\u001b[0m\u001b[0;34m,\u001b[0m \u001b[0;34m'SELECT * FROM header_table'\u001b[0m\u001b[0;34m)\u001b[0m\u001b[0;34m\u001b[0m\u001b[0;34m\u001b[0m\u001b[0m\n\u001b[1;32m      2\u001b[0m \u001b[0;34m\u001b[0m\u001b[0m\n\u001b[0;32m----> 3\u001b[0;31m \u001b[0mdf_header\u001b[0m \u001b[0;34m=\u001b[0m \u001b[0mquery\u001b[0m\u001b[0;34m.\u001b[0m\u001b[0mDataFrame\u001b[0m\u001b[0;34m(\u001b[0m\u001b[0;34m)\u001b[0m\u001b[0;34m\u001b[0m\u001b[0;34m\u001b[0m\u001b[0m\n\u001b[0m\u001b[1;32m      4\u001b[0m \u001b[0;34m\u001b[0m\u001b[0m\n\u001b[1;32m      5\u001b[0m \u001b[0;31m# Set Index and view shape\u001b[0m\u001b[0;34m\u001b[0m\u001b[0;34m\u001b[0m\u001b[0;34m\u001b[0m\u001b[0m\n",
      "\u001b[0;31mAttributeError\u001b[0m: 'NoneType' object has no attribute 'DataFrame'"
     ]
    }
   ],
   "source": [
    "query = %sql SELECT * FROM header_table\n",
    "\n",
    "df_header = query.DataFrame()\n",
    "\n",
    "# Set Index and view shape\n",
    "df_header.set_index('UWI',inplace=True)\n",
    "df_header[['Completion_Date','Spud_Date']] = df_header[['Completion_Date','Spud_Date']].apply(pd.to_datetime, errors='coerce')\n",
    "df_header.sample(5)"
   ]
  },
  {
   "cell_type": "markdown",
   "metadata": {},
   "source": [
    "## Define Functions"
   ]
  },
  {
   "cell_type": "code",
   "execution_count": 78,
   "metadata": {
    "jupyter": {
     "source_hidden": true
    }
   },
   "outputs": [],
   "source": [
    "def STREAM_PLOT(dataframe, production_dataframe, material, width, height, variable_dict = {'0-99999999':None}, rate_cum = 0, averages = 0, cumulative = 1,\n",
    "                line_width = 1, variable = df_header.iloc[:,0].name, all_streams = 1):\n",
    "    \n",
    "    fig = go.Figure(layout={'height':height,'width':width})\n",
    "    \n",
    "    if averages == 1:\n",
    "        fig.update_layout(xaxis_title=\"Producing Days\")\n",
    "        for item in variable_dict.keys():\n",
    "            low = float(item.split('-')[0])\n",
    "            high = float(item.split('-')[1]) \n",
    "            df_temp = dataframe[dataframe[variable].between(low,high)]\n",
    "            if len(df_temp) >= 1:       \n",
    "                \n",
    "                if material in ['WOR','GOR']:\n",
    "                    average_list = []\n",
    "                    for m in [i for i in range(1,27,1)]:\n",
    "                        prod_list = []\n",
    "                        for uwi in df_temp.index.tolist():  \n",
    "                            try:\n",
    "                                cum_day_list = production_dataframe.loc[uwi,'Days'].cumsum().tolist()\n",
    "                                if m * 30.4 < max(cum_day_list):                                \n",
    "                                    if cumulative == 1:\n",
    "                                        cum_prod_list = production_dataframe.loc[uwi,material].expanding().mean().tolist()\n",
    "                                        prod_list.append(np.interp( m*30.4 , cum_day_list , cum_prod_list))\n",
    "                                        name = f\"Cumulative {material}\"\n",
    "                                    else:                 \n",
    "                                        rate_prod_list = production_dataframe.loc[uwi,material].tolist()\n",
    "                                        prod_list.append(np.interp( m*30.4 , cum_day_list , rate_prod_list)) \n",
    "                                        name = f\"Monthly {material}\"\n",
    "                            except: None\n",
    "                        try:\n",
    "                            average_list.append(mean(prod_list))\n",
    "                        except: \n",
    "                            None\n",
    "                    fig.update_layout(yaxis_title=name)\n",
    "                    fig.add_trace(go.Scatter(x=[i*30.4 for i in range(1,27,1)], y=average_list, mode='lines',name=f'{item} Average', line=dict(color=variable_dict[item], width=6)))\n",
    "\n",
    "                elif rate_cum == 0:        \n",
    "                    average_list = []\n",
    "                    for m in [i for i in range(1,27,1)]:\n",
    "                        prod_list = []\n",
    "                        for uwi in df_temp.index.tolist():   \n",
    "                            cum_day_list = production_dataframe.loc[uwi,'Days'].cumsum().tolist()\n",
    "                            if m * 30.4 < max(cum_day_list):\n",
    "                                if cumulative == 1:\n",
    "                                    cum_prod_list = production_dataframe.loc[uwi,material].cumsum().tolist()\n",
    "                                    prod_list.append(np.interp( m*30.4 , cum_day_list , cum_prod_list))\n",
    "                                    name = f\"Cumulative {material} bbl\"\n",
    "                                else:                 \n",
    "                                    rate_prod_list = production_dataframe.loc[uwi,material].tolist()\n",
    "                                    prod_list.append(np.interp( m*30.4 , cum_day_list , rate_prod_list)) \n",
    "                                    name = f\"Monthly {material} bbl\"\n",
    "                        try:\n",
    "                            average_list.append(mean(prod_list))\n",
    "                        except: \n",
    "                            None\n",
    "                    fig.update_layout(yaxis_title =name)\n",
    "                    fig.add_trace(go.Scatter(x=[i*30.4 for i in range(1,27,1)], y=average_list, mode='lines',name=f'{item} Average', line=dict(color=variable_dict[item], width=6)))\n",
    "            print(item,f'{len(df_temp)} wells')\n",
    "            \n",
    "    if all_streams == 1:\n",
    "        for item in variable_dict.keys():\n",
    "            low = float(item.split('-')[0])\n",
    "            high = float(item.split('-')[1]) \n",
    "            df_temp = dataframe[dataframe[variable].between(low,high)]\n",
    "            if len(df_temp) >= 1:\n",
    "\n",
    "                if material in ['WOR','GOR']:\n",
    "                    for uwi in df_temp.index.tolist():\n",
    "                        try:\n",
    "                            day_list = production_dataframe.loc[uwi,'Days'].cumsum().tolist()\n",
    "                            if cumulative == 1:\n",
    "                                prod_list = production_dataframe.loc[uwi,material].expanding().mean().tolist()\n",
    "                                name = f\"Cumulative {material}\"\n",
    "                            else:\n",
    "                                prod_list = production_dataframe.loc[uwi,material].tolist()\n",
    "                                name = f\"Monthy {material} Rate\"\n",
    "                            fig.add_trace(go.Scatter(x=day_list, y=prod_list, mode='lines',name=str(dataframe.loc[uwi,'Well_Name']), line=dict(width=line_width,color=variable_dict[item])))\n",
    "                        except: None\n",
    "                    fig.update_layout(xaxis_title=\"Producing Days\", yaxis_title=name)\n",
    "\n",
    "                elif rate_cum == 1:        \n",
    "                    for uwi in df_temp.index.tolist():\n",
    "                        rate_list = production_dataframe.loc[uwi,material].tolist()\n",
    "                        cum_list = production_dataframe.loc[uwi,material].cumsum().tolist()\n",
    "                        fig.update_yaxes(type='log')  \n",
    "                        fig.add_trace(go.Scatter(x=cum_list, y=rate_list, mode='lines',name=str(dataframe.loc[uwi,'Well_Name']), line=dict(width=line_width,color=variable_dict[item])))\n",
    "                        fig.update_layout(xaxis_title= material+' Cum', yaxis_title =material+' Rate')\n",
    "\n",
    "                elif rate_cum == 0:       \n",
    "                    fig.update_layout(xaxis_title=\"Producing Days\")\n",
    "                    for uwi in df_temp.index.tolist():\n",
    "                        day_list = production_dataframe.loc[uwi,'Days'].cumsum().tolist()\n",
    "                        if cumulative == 1:\n",
    "                            prod_list = production_dataframe.loc[uwi,material].cumsum().tolist()\n",
    "                            name = f\"Cumulative {material} bbl\"\n",
    "                        else:\n",
    "                            prod_list = production_dataframe.loc[uwi,material].tolist()\n",
    "                            name = f\"Monthy {material} bbl\"\n",
    "                            fig.update_yaxes(type='log')  \n",
    "                        fig.add_trace(go.Scatter(x=day_list, y=prod_list, mode='lines',name=str(dataframe.loc[uwi,'Well_Name']), line=dict(width=line_width,color=variable_dict[item])))\n",
    "                        fig.update_layout(yaxis_title=name)\n",
    "\n",
    "    return fig                         "
   ]
  },
  {
   "cell_type": "markdown",
   "metadata": {},
   "source": [
    "## What does the basin look like?"
   ]
  },
  {
   "cell_type": "code",
   "execution_count": null,
   "metadata": {},
   "outputs": [],
   "source": [
    "df_sample = df_header[df_header['Top_Perf'].between(9000,11500)]\n",
    "\n",
    "fig = go.Figure(data=go.Scattergeo(\n",
    "    lon = df_sample['Longitude'],\n",
    "    lat = df_sample['Latitude'],\n",
    "    text = df_sample[['Well_Name','Top_Perf','Current_Operator']],\n",
    "    marker = dict(\n",
    "        color = df_sample['Top_Perf'],\n",
    "        colorscale = 'rainbow',\n",
    "        reversescale = True,\n",
    "        opacity = 0.7,\n",
    "        size = 7,\n",
    "        colorbar = dict(\n",
    "            titleside = \"right\",\n",
    "            outlinecolor = \"rgba(68, 68, 68, 0)\",\n",
    "            ticks = \"outside\",\n",
    "            showticksuffix = \"last\",\n",
    "            dtick = 0.1\n",
    "        )\n",
    "    )\n",
    "))\n",
    "\n",
    "fig.update_layout(\n",
    "        title = 'Williston Basin Wells',\n",
    "        geo_scope='usa',width = 1200, height = 800,\n",
    "    geo = dict()\n",
    "    )\n",
    "\n",
    "fig.update_geos(\n",
    "    center=dict(lon=df_sample['Longitude'].mean(), lat=df_sample['Latitude'].mean()),\n",
    "    lataxis_range=[df_sample['Latitude'].min(),df_sample['Latitude'].max()], lonaxis_range=[df_sample['Longitude'].min(),df_sample['Longitude'].max()]\n",
    "               )\n",
    "  \n",
    "fig.show()"
   ]
  },
  {
   "cell_type": "markdown",
   "metadata": {},
   "source": [
    "## What Operator has Produced the Most Oil to Date?"
   ]
  },
  {
   "cell_type": "code",
   "execution_count": null,
   "metadata": {},
   "outputs": [],
   "source": [
    "%%sql \n",
    "\n",
    "SELECT p.UWI, COUNT(DISTINCT p.UWI) AS 'Wells', SUM(p.Oil) AS 'Cumulative_Oil', h.Current_Operator\n",
    "FROM prod_table p \n",
    "JOIN header_table h \n",
    "ON p.UWI = h.UWI \n",
    "GROUP BY Current_Operator\n",
    "ORDER BY Cumulative_Oil desc\n",
    "LIMIT 8"
   ]
  },
  {
   "cell_type": "markdown",
   "metadata": {},
   "source": [
    "##### Plot"
   ]
  },
  {
   "cell_type": "code",
   "execution_count": null,
   "metadata": {},
   "outputs": [],
   "source": [
    "query = %sql SELECT p.UWI, COUNT(DISTINCT p.UWI) AS 'Wells', SUM(p.Oil) AS 'Cumulative_Oil', h.Current_Operator FROM prod_table p JOIN header_table h ON p.UWI = h.UWI GROUP BY Current_Operator ORDER BY Cumulative_Oil desc LIMIT 8\n",
    "df = query.DataFrame()\n",
    "\n",
    "fig = px.bar(df, x='Current_Operator', y='Cumulative_Oil', width = 700, height=500)\n",
    "fig.show()"
   ]
  },
  {
   "cell_type": "markdown",
   "metadata": {},
   "source": [
    "## What Operator has Produced the Most Oil for their well count?"
   ]
  },
  {
   "cell_type": "code",
   "execution_count": null,
   "metadata": {},
   "outputs": [],
   "source": [
    "%%sql \n",
    "\n",
    "SELECT p.UWI, COUNT(DISTINCT p.UWI) AS 'Wells', SUM(p.Oil) AS 'Cumulative_Oil', h.Current_Operator\n",
    "FROM prod_table p \n",
    "JOIN header_table h \n",
    "ON p.UWI = h.UWI \n",
    "GROUP BY Current_Operator\n",
    "ORDER BY Cumulative_Oil desc\n",
    "LIMIT 8"
   ]
  },
  {
   "cell_type": "markdown",
   "metadata": {},
   "source": [
    "#### Plot"
   ]
  },
  {
   "cell_type": "code",
   "execution_count": null,
   "metadata": {},
   "outputs": [],
   "source": [
    "query = %sql SELECT p.UWI, COUNT(DISTINCT p.UWI) AS 'Wells', SUM(p.Oil) AS 'Cumulative_Oil', h.Current_Operator FROM prod_table p JOIN header_table h ON p.UWI = h.UWI GROUP BY Current_Operator ORDER BY Cumulative_Oil desc LIMIT 10\n",
    "df = query.DataFrame()\n",
    "df['Oil_Per_Well'] = df['Cumulative_Oil'] / df['Wells']\n",
    "df.sort_values('Oil_Per_Well',inplace=True,ascending=False)\n",
    "\n",
    "fig = px.bar(df, x='Current_Operator', y='Oil_Per_Well', width = 700, height=500)\n",
    "fig.show()"
   ]
  },
  {
   "cell_type": "markdown",
   "metadata": {},
   "source": [
    "## Simple Production Plot"
   ]
  },
  {
   "cell_type": "code",
   "execution_count": null,
   "metadata": {},
   "outputs": [],
   "source": [
    "df9 = df_header[df_header['Current_Operator'].str.contains('XTO')].sample(8)\n",
    "df_prod = df_production.copy()\n",
    "# ---------------------------------------------------------\n",
    "STREAM_PLOT(dataframe = df9, \n",
    "            production_dataframe = df_prod, \n",
    "            material = 'Oil', \n",
    "            cumulative = 1, \n",
    "            line_width = 2,\n",
    "            width = 700, height = 500 )"
   ]
  },
  {
   "cell_type": "markdown",
   "metadata": {},
   "source": [
    "## Water / Oil Ratio Plot"
   ]
  },
  {
   "cell_type": "code",
   "execution_count": null,
   "metadata": {},
   "outputs": [],
   "source": [
    "df9 = df_header[df_header['Vintage_Year'] > 2008].sample(1500)\n",
    "df_prod = df_production[df_production['WOR'].between(0,10)]\n",
    "# ---------------------------------------------------------\n",
    "STREAM_PLOT(dataframe = df9, \n",
    "            production_dataframe = df_prod, \n",
    "            material = 'WOR', \n",
    "            cumulative = 0, \n",
    "            variable = 'Vintage_Year', \n",
    "            variable_dict = {'2008-2012':'grey','2012-2014':'gold','2014-2016':'orange','2016-2018':'red','2018-2020':'blue'},\n",
    "            averages = 1,\n",
    "            all_streams = 0,\n",
    "            width = 800, height = 600 )"
   ]
  },
  {
   "cell_type": "markdown",
   "metadata": {},
   "source": [
    "## Production by ~Depth / Pressure"
   ]
  },
  {
   "cell_type": "code",
   "execution_count": null,
   "metadata": {},
   "outputs": [],
   "source": [
    "df9 = df_header.sample(5000)\n",
    "df_prod = df_production.copy()\n",
    "# ---------------------------------------------------------\n",
    "STREAM_PLOT(dataframe = df9, \n",
    "            production_dataframe = df_prod, \n",
    "            material = 'Oil', \n",
    "            cumulative =10, \n",
    "            variable = 'Top_Perf', \n",
    "            variable_dict = {'0-9000':'grey','9000-1000':'gold','10000-11000':'orange','11000-12000':'red','12000-13000':'blue'},\n",
    "            averages = 1,\n",
    "            all_streams = 0,\n",
    "            width = 800, height = 600 )"
   ]
  },
  {
   "cell_type": "markdown",
   "metadata": {},
   "source": [
    "## What areas have produced the most oil?"
   ]
  },
  {
   "cell_type": "code",
   "execution_count": 65,
   "metadata": {},
   "outputs": [
    {
     "name": "stdout",
     "output_type": "stream",
     "text": [
      " * sqlite:///C:\\Users\\johno\\Python\\Scrapy\\NDIC\\Well_DataBase.db\n",
      "Done.\n",
      "327\n"
     ]
    },
    {
     "data": {
      "text/html": [
       "<div>\n",
       "<style scoped>\n",
       "    .dataframe tbody tr th:only-of-type {\n",
       "        vertical-align: middle;\n",
       "    }\n",
       "\n",
       "    .dataframe tbody tr th {\n",
       "        vertical-align: top;\n",
       "    }\n",
       "\n",
       "    .dataframe thead th {\n",
       "        text-align: right;\n",
       "    }\n",
       "</style>\n",
       "<table border=\"1\" class=\"dataframe\">\n",
       "  <thead>\n",
       "    <tr style=\"text-align: right;\">\n",
       "      <th></th>\n",
       "      <th>Wells_Per_Block</th>\n",
       "      <th>Cumulative_Oil_Per_Block</th>\n",
       "      <th>Cum_Oil_Per_Well_Block</th>\n",
       "    </tr>\n",
       "    <tr>\n",
       "      <th>Block</th>\n",
       "      <th></th>\n",
       "      <th></th>\n",
       "      <th></th>\n",
       "    </tr>\n",
       "  </thead>\n",
       "  <tbody>\n",
       "    <tr>\n",
       "      <th>15095</th>\n",
       "      <td>212</td>\n",
       "      <td>68701132</td>\n",
       "      <td>324061.9</td>\n",
       "    </tr>\n",
       "    <tr>\n",
       "      <th>14995</th>\n",
       "      <td>177</td>\n",
       "      <td>59061427</td>\n",
       "      <td>333680.4</td>\n",
       "    </tr>\n",
       "    <tr>\n",
       "      <th>15294</th>\n",
       "      <td>148</td>\n",
       "      <td>53781107</td>\n",
       "      <td>363385.9</td>\n",
       "    </tr>\n",
       "    <tr>\n",
       "      <th>15093</th>\n",
       "      <td>134</td>\n",
       "      <td>52422937</td>\n",
       "      <td>391215.9</td>\n",
       "    </tr>\n",
       "    <tr>\n",
       "      <th>14796</th>\n",
       "      <td>156</td>\n",
       "      <td>52219525</td>\n",
       "      <td>334740.5</td>\n",
       "    </tr>\n",
       "  </tbody>\n",
       "</table>\n",
       "</div>"
      ],
      "text/plain": [
       "       Wells_Per_Block  Cumulative_Oil_Per_Block  Cum_Oil_Per_Well_Block\n",
       "Block                                                                   \n",
       "15095              212                  68701132                324061.9\n",
       "14995              177                  59061427                333680.4\n",
       "15294              148                  53781107                363385.9\n",
       "15093              134                  52422937                391215.9\n",
       "14796              156                  52219525                334740.5"
      ]
     },
     "execution_count": 65,
     "metadata": {},
     "output_type": "execute_result"
    }
   ],
   "source": [
    "query = %sql SELECT p.UWI, h.Block, COUNT(DISTINCT p.UWI) AS 'Wells_Per_Block', SUM(p.Oil) AS 'Cumulative_Oil_Per_Block' FROM prod_table_clean p JOIN header_table_clean h ON p.UWI = h.UWI GROUP BY Block ORDER BY Cumulative_Oil_Per_Block desc\n",
    "\n",
    "df_block = query.DataFrame()\n",
    "df_block.drop(columns='UWI',inplace=True)\n",
    "df_block.set_index('Block',inplace=True)\n",
    "df_block['Cum_Oil_Per_Well_Block'] = df_block['Cumulative_Oil_Per_Block'] / df_block['Wells_Per_Block']\n",
    "print(len(df_block))\n",
    "df_block.head()"
   ]
  },
  {
   "cell_type": "code",
   "execution_count": 66,
   "metadata": {},
   "outputs": [
    {
     "data": {
      "text/html": [
       "<div>\n",
       "<style scoped>\n",
       "    .dataframe tbody tr th:only-of-type {\n",
       "        vertical-align: middle;\n",
       "    }\n",
       "\n",
       "    .dataframe tbody tr th {\n",
       "        vertical-align: top;\n",
       "    }\n",
       "\n",
       "    .dataframe thead th {\n",
       "        text-align: right;\n",
       "    }\n",
       "</style>\n",
       "<table border=\"1\" class=\"dataframe\">\n",
       "  <thead>\n",
       "    <tr style=\"text-align: right;\">\n",
       "      <th></th>\n",
       "      <th>File_Number</th>\n",
       "      <th>Well_Name</th>\n",
       "      <th>Well_Type</th>\n",
       "      <th>Well_Status</th>\n",
       "      <th>Location</th>\n",
       "      <th>Latitude</th>\n",
       "      <th>Longitude</th>\n",
       "      <th>Current_Operator</th>\n",
       "      <th>Completion_Date</th>\n",
       "      <th>Total_Depth</th>\n",
       "      <th>...</th>\n",
       "      <th>Perforated_Length</th>\n",
       "      <th>Direction</th>\n",
       "      <th>TRS</th>\n",
       "      <th>Section</th>\n",
       "      <th>Township</th>\n",
       "      <th>Range</th>\n",
       "      <th>Block</th>\n",
       "      <th>Wells_Per_Block</th>\n",
       "      <th>Cumulative_Oil_Per_Block</th>\n",
       "      <th>Cum_Oil_Per_Well_Block</th>\n",
       "    </tr>\n",
       "  </thead>\n",
       "  <tbody>\n",
       "    <tr>\n",
       "      <th>3627</th>\n",
       "      <td>20780</td>\n",
       "      <td>HENDERSON 1-28/33H</td>\n",
       "      <td>OG</td>\n",
       "      <td>A</td>\n",
       "      <td>NENE 28-150-95</td>\n",
       "      <td>47.8</td>\n",
       "      <td>-102.8</td>\n",
       "      <td>QEP ENERGY COMPANY</td>\n",
       "      <td>2012-01-17</td>\n",
       "      <td>20682</td>\n",
       "      <td>...</td>\n",
       "      <td>9452.0</td>\n",
       "      <td>NENE</td>\n",
       "      <td>28-150-95</td>\n",
       "      <td>28</td>\n",
       "      <td>150</td>\n",
       "      <td>95</td>\n",
       "      <td>15095</td>\n",
       "      <td>212</td>\n",
       "      <td>68701132</td>\n",
       "      <td>324061.9</td>\n",
       "    </tr>\n",
       "    <tr>\n",
       "      <th>3744</th>\n",
       "      <td>30583</td>\n",
       "      <td>TIPI V 1-24-25TH</td>\n",
       "      <td>OG</td>\n",
       "      <td>A</td>\n",
       "      <td>SESE 13-150-95</td>\n",
       "      <td>47.8</td>\n",
       "      <td>-102.8</td>\n",
       "      <td>QEP ENERGY COMPANY</td>\n",
       "      <td>2018-04-06</td>\n",
       "      <td>21349</td>\n",
       "      <td>...</td>\n",
       "      <td>10202.0</td>\n",
       "      <td>SESE</td>\n",
       "      <td>13-150-95</td>\n",
       "      <td>13</td>\n",
       "      <td>150</td>\n",
       "      <td>95</td>\n",
       "      <td>15095</td>\n",
       "      <td>212</td>\n",
       "      <td>68701132</td>\n",
       "      <td>324061.9</td>\n",
       "    </tr>\n",
       "    <tr>\n",
       "      <th>3731</th>\n",
       "      <td>30048</td>\n",
       "      <td>MARLENE 42X-20F2</td>\n",
       "      <td>OG</td>\n",
       "      <td>A</td>\n",
       "      <td>SENE 20-150-95</td>\n",
       "      <td>47.8</td>\n",
       "      <td>-102.9</td>\n",
       "      <td>XTO ENERGY INC</td>\n",
       "      <td>2015-07-25</td>\n",
       "      <td>20917</td>\n",
       "      <td>...</td>\n",
       "      <td>9780.0</td>\n",
       "      <td>SENE</td>\n",
       "      <td>20-150-95</td>\n",
       "      <td>20</td>\n",
       "      <td>150</td>\n",
       "      <td>95</td>\n",
       "      <td>15095</td>\n",
       "      <td>212</td>\n",
       "      <td>68701132</td>\n",
       "      <td>324061.9</td>\n",
       "    </tr>\n",
       "    <tr>\n",
       "      <th>3732</th>\n",
       "      <td>30049</td>\n",
       "      <td>MARLENE 42X-20C</td>\n",
       "      <td>OG</td>\n",
       "      <td>A</td>\n",
       "      <td>SENE 20-150-95</td>\n",
       "      <td>47.8</td>\n",
       "      <td>-102.9</td>\n",
       "      <td>XTO ENERGY INC</td>\n",
       "      <td>2015-08-04</td>\n",
       "      <td>20608</td>\n",
       "      <td>...</td>\n",
       "      <td>9651.0</td>\n",
       "      <td>SENE</td>\n",
       "      <td>20-150-95</td>\n",
       "      <td>20</td>\n",
       "      <td>150</td>\n",
       "      <td>95</td>\n",
       "      <td>15095</td>\n",
       "      <td>212</td>\n",
       "      <td>68701132</td>\n",
       "      <td>324061.9</td>\n",
       "    </tr>\n",
       "    <tr>\n",
       "      <th>3733</th>\n",
       "      <td>30214</td>\n",
       "      <td>MARLENE 42X-20CXD</td>\n",
       "      <td>OG</td>\n",
       "      <td>A</td>\n",
       "      <td>SENE 20-150-95</td>\n",
       "      <td>47.8</td>\n",
       "      <td>-102.9</td>\n",
       "      <td>XTO ENERGY INC</td>\n",
       "      <td>2015-07-07</td>\n",
       "      <td>20567</td>\n",
       "      <td>...</td>\n",
       "      <td>9583.0</td>\n",
       "      <td>SENE</td>\n",
       "      <td>20-150-95</td>\n",
       "      <td>20</td>\n",
       "      <td>150</td>\n",
       "      <td>95</td>\n",
       "      <td>15095</td>\n",
       "      <td>212</td>\n",
       "      <td>68701132</td>\n",
       "      <td>324061.9</td>\n",
       "    </tr>\n",
       "  </tbody>\n",
       "</table>\n",
       "<p>5 rows × 30 columns</p>\n",
       "</div>"
      ],
      "text/plain": [
       "      File_Number           Well_Name Well_Type Well_Status        Location  \\\n",
       "3627        20780  HENDERSON 1-28/33H        OG           A  NENE 28-150-95   \n",
       "3744        30583    TIPI V 1-24-25TH        OG           A  SESE 13-150-95   \n",
       "3731        30048    MARLENE 42X-20F2        OG           A  SENE 20-150-95   \n",
       "3732        30049     MARLENE 42X-20C        OG           A  SENE 20-150-95   \n",
       "3733        30214   MARLENE 42X-20CXD        OG           A  SENE 20-150-95   \n",
       "\n",
       "      Latitude  Longitude    Current_Operator Completion_Date Total_Depth  \\\n",
       "3627      47.8     -102.8  QEP ENERGY COMPANY      2012-01-17       20682   \n",
       "3744      47.8     -102.8  QEP ENERGY COMPANY      2018-04-06       21349   \n",
       "3731      47.8     -102.9      XTO ENERGY INC      2015-07-25       20917   \n",
       "3732      47.8     -102.9      XTO ENERGY INC      2015-08-04       20608   \n",
       "3733      47.8     -102.9      XTO ENERGY INC      2015-07-07       20567   \n",
       "\n",
       "      ... Perforated_Length Direction        TRS  Section  Township  Range  \\\n",
       "3627  ...            9452.0      NENE  28-150-95       28       150     95   \n",
       "3744  ...           10202.0      SESE  13-150-95       13       150     95   \n",
       "3731  ...            9780.0      SENE  20-150-95       20       150     95   \n",
       "3732  ...            9651.0      SENE  20-150-95       20       150     95   \n",
       "3733  ...            9583.0      SENE  20-150-95       20       150     95   \n",
       "\n",
       "      Block  Wells_Per_Block Cumulative_Oil_Per_Block Cum_Oil_Per_Well_Block  \n",
       "3627  15095              212                 68701132               324061.9  \n",
       "3744  15095              212                 68701132               324061.9  \n",
       "3731  15095              212                 68701132               324061.9  \n",
       "3732  15095              212                 68701132               324061.9  \n",
       "3733  15095              212                 68701132               324061.9  \n",
       "\n",
       "[5 rows x 30 columns]"
      ]
     },
     "execution_count": 66,
     "metadata": {},
     "output_type": "execute_result"
    }
   ],
   "source": [
    "df_header = df_header.merge(df_block[['Wells_Per_Block','Cumulative_Oil_Per_Block','Cum_Oil_Per_Well_Block']],left_on='Block',right_on='Block')\n",
    "df_header.sort_values('Cumulative_Oil_Per_Block',inplace=True,ascending=False)\n",
    "df_header.head()"
   ]
  },
  {
   "cell_type": "markdown",
   "metadata": {},
   "source": [
    "#### Map"
   ]
  },
  {
   "cell_type": "code",
   "execution_count": null,
   "metadata": {},
   "outputs": [],
   "source": [
    "df_sample = df_header[df_header['Top_Perf'].between(9000,11500)]\n",
    "\n",
    "fig = go.Figure(data=go.Scattergeo(\n",
    "    lon = df_sample['Longitude'],\n",
    "    lat = df_sample['Latitude'],\n",
    "    text = df_sample[['Well_Name','Top_Perf','Current_Operator','Block','Cumulative_Oil_Per_Block']],\n",
    "    marker = dict(\n",
    "        color = df_sample['Cumulative_Oil_Per_Block'],\n",
    "        colorscale = 'rainbow',\n",
    "        reversescale = True,\n",
    "        opacity = 0.7,\n",
    "        size = 7,\n",
    "        colorbar = dict(\n",
    "            titleside = \"right\",\n",
    "            outlinecolor = \"rgba(68, 68, 68, 0)\",\n",
    "            ticks = \"outside\",\n",
    "            showticksuffix = \"last\",\n",
    "            dtick = 0.1\n",
    "        )\n",
    "    )\n",
    "))\n",
    "\n",
    "fig.update_layout(\n",
    "        title = 'Williston Basin Wells',\n",
    "        geo_scope='usa',width = 1200, height = 800,\n",
    "    geo = dict()\n",
    "    )\n",
    "\n",
    "fig.update_geos(\n",
    "    center=dict(lon=df_sample['Longitude'].mean(), lat=df_sample['Latitude'].mean()),\n",
    "    lataxis_range=[df_sample['Latitude'].min(),df_sample['Latitude'].max()], lonaxis_range=[df_sample['Longitude'].min(),df_sample['Longitude'].max()]\n",
    "               )\n",
    "  \n",
    "fig.show()"
   ]
  },
  {
   "cell_type": "markdown",
   "metadata": {},
   "source": [
    "## What areas have produced the most oil per well?"
   ]
  },
  {
   "cell_type": "markdown",
   "metadata": {},
   "source": [
    "### Map"
   ]
  },
  {
   "cell_type": "code",
   "execution_count": null,
   "metadata": {},
   "outputs": [],
   "source": [
    "df_sample = df_header[df_header['Top_Perf'].between(9000,11500)]\n",
    "\n",
    "fig = go.Figure(data=go.Scattergeo(\n",
    "    lon = df_sample['Longitude'],\n",
    "    lat = df_sample['Latitude'],\n",
    "    text = df_sample[['Well_Name','Top_Perf','Current_Operator','Block','Cumulative_Oil_Per_Block','Cum_Oil_Per_Well_Block']],\n",
    "    marker = dict(\n",
    "        color = df_sample['Cum_Oil_Per_Well_Block'],\n",
    "        colorscale = 'rainbow',\n",
    "        reversescale = True,\n",
    "        opacity = 0.7,\n",
    "        size = 7,\n",
    "        colorbar = dict(\n",
    "            titleside = \"right\",\n",
    "            outlinecolor = \"rgba(68, 68, 68, 0)\",\n",
    "            ticks = \"outside\",\n",
    "            showticksuffix = \"last\",\n",
    "            dtick = 0.1\n",
    "        )\n",
    "    )\n",
    "))\n",
    "\n",
    "fig.update_layout(\n",
    "        title = 'Williston Basin Wells',\n",
    "        geo_scope='usa',width = 1200, height = 800,\n",
    "    geo = dict()\n",
    "    )\n",
    "\n",
    "fig.update_geos(\n",
    "    center=dict(lon=df_sample['Longitude'].mean(), lat=df_sample['Latitude'].mean()),\n",
    "    lataxis_range=[df_sample['Latitude'].min(),df_sample['Latitude'].max()], lonaxis_range=[df_sample['Longitude'].min(),df_sample['Longitude'].max()]\n",
    "               )\n",
    "  \n",
    "fig.show()"
   ]
  }
 ],
 "metadata": {
  "kernelspec": {
   "display_name": "Python 3",
   "language": "python",
   "name": "python3"
  },
  "language_info": {
   "codemirror_mode": {
    "name": "ipython",
    "version": 3
   },
   "file_extension": ".py",
   "mimetype": "text/x-python",
   "name": "python",
   "nbconvert_exporter": "python",
   "pygments_lexer": "ipython3",
   "version": "3.8.8"
  }
 },
 "nbformat": 4,
 "nbformat_minor": 4
}

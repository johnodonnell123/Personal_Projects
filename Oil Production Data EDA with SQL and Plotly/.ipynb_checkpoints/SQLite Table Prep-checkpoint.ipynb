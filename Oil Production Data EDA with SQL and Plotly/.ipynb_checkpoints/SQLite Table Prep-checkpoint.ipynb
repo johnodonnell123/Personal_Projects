{
 "cells": [
  {
   "cell_type": "markdown",
   "metadata": {},
   "source": [
    "# **<h1><center> Header and Production Data Cleaning </center></h1>**"
   ]
  },
  {
   "cell_type": "markdown",
   "metadata": {},
   "source": [
    "# Purpose\n",
    "- Header Data:\n",
    "    - Cast Dates to dates\n",
    "    - Get top perf, bottom perf, and total perf length\n",
    "    - Clean operator name\n",
    "    - Get location data (township/range/block)\n",
    "    - Get 12m/24m/36m Production\n",
    "- Production Data\n",
    "    - Caset Dates\n",
    "    - Calculate WOR & GOR\n",
    "    - Normalize production for perforated length"
   ]
  },
  {
   "cell_type": "markdown",
   "metadata": {},
   "source": [
    "## Import Packages"
   ]
  },
  {
   "cell_type": "code",
   "execution_count": 54,
   "metadata": {},
   "outputs": [],
   "source": [
    "import pandas as pd\n",
    "import utm\n",
    "import sqlite3\n",
    "import random\n",
    "import numpy as np\n",
    "from statistics import mean \n",
    "import plotly.express as px\n",
    "pd.options.display.float_format = '{:.3f}'.format\n",
    "pd.set_option('display.max_columns', None)\n",
    "import plotly.graph_objects as go\n",
    "pd.set_option(\"display.max_rows\",1000); pd.options.display.precision = 1\n",
    "import warnings\n",
    "warnings.filterwarnings(\"ignore\")"
   ]
  },
  {
   "cell_type": "markdown",
   "metadata": {},
   "source": [
    "### Connect to SQlite3 DataBase"
   ]
  },
  {
   "cell_type": "code",
   "execution_count": 55,
   "metadata": {},
   "outputs": [
    {
     "name": "stdout",
     "output_type": "stream",
     "text": [
      "The sql extension is already loaded. To reload it, use:\n",
      "  %reload_ext sql\n"
     ]
    }
   ],
   "source": [
    "%load_ext sql\n",
    "%sql sqlite:////Users/john.odonnell/Python/Web_Scraping/NDIC/Well_DataBase.db"
   ]
  },
  {
   "cell_type": "markdown",
   "metadata": {},
   "source": [
    "### View Tables"
   ]
  },
  {
   "cell_type": "code",
   "execution_count": 56,
   "metadata": {},
   "outputs": [
    {
     "name": "stdout",
     "output_type": "stream",
     "text": [
      " * sqlite:////Users/john.odonnell/Python/Web_Scraping/NDIC/Well_DataBase.db\n",
      "Done.\n"
     ]
    },
    {
     "data": {
      "text/html": [
       "<table>\n",
       "    <tr>\n",
       "        <th>name</th>\n",
       "    </tr>\n",
       "    <tr>\n",
       "        <td>prod_table</td>\n",
       "    </tr>\n",
       "    <tr>\n",
       "        <td>header_table</td>\n",
       "    </tr>\n",
       "    <tr>\n",
       "        <td>prod_table_clean</td>\n",
       "    </tr>\n",
       "    <tr>\n",
       "        <td>header_table_clean</td>\n",
       "    </tr>\n",
       "</table>"
      ],
      "text/plain": [
       "[('prod_table',),\n",
       " ('header_table',),\n",
       " ('prod_table_clean',),\n",
       " ('header_table_clean',)]"
      ]
     },
     "execution_count": 56,
     "metadata": {},
     "output_type": "execute_result"
    }
   ],
   "source": [
    "%%sql \n",
    "\n",
    "SELECT \n",
    "    name \n",
    "FROM sqlite_master \n",
    "WHERE type ='table';"
   ]
  },
  {
   "cell_type": "markdown",
   "metadata": {},
   "source": [
    "# <center> --------------------            Header Data             -------------------- </center>"
   ]
  },
  {
   "cell_type": "markdown",
   "metadata": {},
   "source": [
    "## Import Header data"
   ]
  },
  {
   "cell_type": "code",
   "execution_count": 57,
   "metadata": {},
   "outputs": [
    {
     "name": "stdout",
     "output_type": "stream",
     "text": [
      " * sqlite:////Users/john.odonnell/Python/Web_Scraping/NDIC/Well_DataBase.db\n",
      "Done.\n"
     ]
    }
   ],
   "source": [
    "query = %sql SELECT * FROM header_table\n",
    "df_header = query.DataFrame()\n",
    "df_header.set_index('UWI',inplace=True)"
   ]
  },
  {
   "cell_type": "markdown",
   "metadata": {},
   "source": [
    "## Feature Manipulation and Cleaning\n"
   ]
  },
  {
   "cell_type": "code",
   "execution_count": 58,
   "metadata": {},
   "outputs": [],
   "source": [
    "# Cast Dates\n",
    "df_header[['Completion_Date','Spud_Date']] = df_header[['Completion_Date','Spud_Date']].apply(pd.to_datetime, errors='coerce')\n",
    "df_header['Vintage_Year'] = pd.DatetimeIndex(df_header['Completion_Date']).year\n",
    "\n",
    "# Get perf info\n",
    "df_header[['Top_Perf','Bottom_Perf']] = df_header['Perf_Interval'].str.split('-',n=1,expand=True)\n",
    "df_header['Top_Perf'] = df_header['Top_Perf'].str.replace('[^0-9]','').replace('',np.nan)\n",
    "df_header['Bottom_Perf'] = df_header['Bottom_Perf'].str.replace('[^0-9]','').replace('',np.nan)\n",
    "\n",
    "# Cast and clean\n",
    "df_header[['Top_Perf','Bottom_Perf']] = df_header[['Top_Perf','Bottom_Perf']].astype(float)\n",
    "df_header = df_header[df_header['Top_Perf'].between(5000,13000)]\n",
    "\n",
    "# Get perforated length\n",
    "df_header['Perforated_Length'] = df_header['Bottom_Perf'] - df_header['Top_Perf']\n",
    "\n",
    "# Get the Township/Range/Section Identifiers\n",
    "df_header[['Direction','TRS']] = df_header['Location'].str.split(\" \",n=1,expand=True)\n",
    "df_header[['Section','Township','Range']] = df_header['TRS'].str.split(\"-\",n=2,expand=True)\n",
    "df_header['Block'] = (df_header['Township'] + df_header['Range']).astype(int)"
   ]
  },
  {
   "cell_type": "markdown",
   "metadata": {},
   "source": [
    "## Write new cleaned table to database"
   ]
  },
  {
   "cell_type": "code",
   "execution_count": 59,
   "metadata": {},
   "outputs": [],
   "source": [
    "# Create connection\n",
    "cnx = sqlite3.connect(r\"/Users/john.odonnell/Python/Web_Scraping/NDIC/Well_DataBase.db\")\n",
    "\n",
    "# Write to DataBase\n",
    "df_header.to_sql(\"header_table_clean\",cnx, if_exists='replace')"
   ]
  },
  {
   "cell_type": "markdown",
   "metadata": {},
   "source": [
    "# <center> ------------------------ Production Data -------------------------------- </center>"
   ]
  },
  {
   "cell_type": "markdown",
   "metadata": {},
   "source": [
    "## Import Production data"
   ]
  },
  {
   "cell_type": "code",
   "execution_count": 60,
   "metadata": {},
   "outputs": [
    {
     "name": "stdout",
     "output_type": "stream",
     "text": [
      " * sqlite:////Users/john.odonnell/Python/Web_Scraping/NDIC/Well_DataBase.db\n",
      "Done.\n"
     ]
    }
   ],
   "source": [
    "# Create Query\n",
    "query = %sql SELECT UWI,Date,Days,Oil,Water,Gas FROM prod_table\n",
    "\n",
    "# Read query to DataFrame, set index\n",
    "df_production = query.DataFrame()\n",
    "df_production.set_index('UWI',inplace=True)"
   ]
  },
  {
   "cell_type": "markdown",
   "metadata": {},
   "source": [
    "## Prepare Production Data\n",
    "- Cast `Date` to datetime\n",
    "- Sort data by date\n",
    "- Calculate total fluid, WOR, GOR"
   ]
  },
  {
   "cell_type": "code",
   "execution_count": 61,
   "metadata": {},
   "outputs": [
    {
     "name": "stdout",
     "output_type": "stream",
     "text": [
      "(1250870, 8)\n"
     ]
    },
    {
     "data": {
      "text/html": [
       "<div>\n",
       "<style scoped>\n",
       "    .dataframe tbody tr th:only-of-type {\n",
       "        vertical-align: middle;\n",
       "    }\n",
       "\n",
       "    .dataframe tbody tr th {\n",
       "        vertical-align: top;\n",
       "    }\n",
       "\n",
       "    .dataframe thead th {\n",
       "        text-align: right;\n",
       "    }\n",
       "</style>\n",
       "<table border=\"1\" class=\"dataframe\">\n",
       "  <thead>\n",
       "    <tr style=\"text-align: right;\">\n",
       "      <th></th>\n",
       "      <th>count</th>\n",
       "      <th>mean</th>\n",
       "      <th>std</th>\n",
       "      <th>min</th>\n",
       "      <th>25%</th>\n",
       "      <th>50%</th>\n",
       "      <th>75%</th>\n",
       "      <th>max</th>\n",
       "    </tr>\n",
       "  </thead>\n",
       "  <tbody>\n",
       "    <tr>\n",
       "      <th>Days</th>\n",
       "      <td>1235950.000</td>\n",
       "      <td>26.041</td>\n",
       "      <td>8.866</td>\n",
       "      <td>0.000</td>\n",
       "      <td>27.000</td>\n",
       "      <td>30.000</td>\n",
       "      <td>31.000</td>\n",
       "      <td>31.000</td>\n",
       "    </tr>\n",
       "    <tr>\n",
       "      <th>Oil</th>\n",
       "      <td>1235950.000</td>\n",
       "      <td>3026.708</td>\n",
       "      <td>4615.607</td>\n",
       "      <td>-1.000</td>\n",
       "      <td>761.000</td>\n",
       "      <td>1588.000</td>\n",
       "      <td>3269.000</td>\n",
       "      <td>136924.000</td>\n",
       "    </tr>\n",
       "    <tr>\n",
       "      <th>Water</th>\n",
       "      <td>1235950.000</td>\n",
       "      <td>2805.385</td>\n",
       "      <td>5373.506</td>\n",
       "      <td>-53.000</td>\n",
       "      <td>498.000</td>\n",
       "      <td>1297.000</td>\n",
       "      <td>2883.000</td>\n",
       "      <td>650679.000</td>\n",
       "    </tr>\n",
       "    <tr>\n",
       "      <th>Gas</th>\n",
       "      <td>1235950.000</td>\n",
       "      <td>4938.208</td>\n",
       "      <td>8549.141</td>\n",
       "      <td>0.000</td>\n",
       "      <td>928.000</td>\n",
       "      <td>2275.000</td>\n",
       "      <td>4986.000</td>\n",
       "      <td>200369.000</td>\n",
       "    </tr>\n",
       "    <tr>\n",
       "      <th>Fluid</th>\n",
       "      <td>1235950.000</td>\n",
       "      <td>5832.093</td>\n",
       "      <td>9095.762</td>\n",
       "      <td>-53.000</td>\n",
       "      <td>1575.000</td>\n",
       "      <td>3113.000</td>\n",
       "      <td>6228.000</td>\n",
       "      <td>652381.000</td>\n",
       "    </tr>\n",
       "    <tr>\n",
       "      <th>WOR</th>\n",
       "      <td>1166255.000</td>\n",
       "      <td>NaN</td>\n",
       "      <td>NaN</td>\n",
       "      <td>-inf</td>\n",
       "      <td>0.418</td>\n",
       "      <td>0.845</td>\n",
       "      <td>1.525</td>\n",
       "      <td>inf</td>\n",
       "    </tr>\n",
       "    <tr>\n",
       "      <th>GOR</th>\n",
       "      <td>1168494.000</td>\n",
       "      <td>inf</td>\n",
       "      <td>NaN</td>\n",
       "      <td>0.000</td>\n",
       "      <td>0.872</td>\n",
       "      <td>1.374</td>\n",
       "      <td>2.232</td>\n",
       "      <td>inf</td>\n",
       "    </tr>\n",
       "  </tbody>\n",
       "</table>\n",
       "</div>"
      ],
      "text/plain": [
       "            count     mean      std     min      25%      50%      75%  \\\n",
       "Days  1235950.000   26.041    8.866   0.000   27.000   30.000   31.000   \n",
       "Oil   1235950.000 3026.708 4615.607  -1.000  761.000 1588.000 3269.000   \n",
       "Water 1235950.000 2805.385 5373.506 -53.000  498.000 1297.000 2883.000   \n",
       "Gas   1235950.000 4938.208 8549.141   0.000  928.000 2275.000 4986.000   \n",
       "Fluid 1235950.000 5832.093 9095.762 -53.000 1575.000 3113.000 6228.000   \n",
       "WOR   1166255.000      NaN      NaN    -inf    0.418    0.845    1.525   \n",
       "GOR   1168494.000      inf      NaN   0.000    0.872    1.374    2.232   \n",
       "\n",
       "             max  \n",
       "Days      31.000  \n",
       "Oil   136924.000  \n",
       "Water 650679.000  \n",
       "Gas   200369.000  \n",
       "Fluid 652381.000  \n",
       "WOR          inf  \n",
       "GOR          inf  "
      ]
     },
     "execution_count": 61,
     "metadata": {},
     "output_type": "execute_result"
    }
   ],
   "source": [
    "# Cast Dates\n",
    "df_production['Date'] = pd.to_datetime(df_production['Date'], infer_datetime_format=True)\n",
    "\n",
    "# Sort\n",
    "df_production.sort_values('Date',inplace=True)\n",
    "\n",
    "# Calculate total fluid, WOR, and GOR\n",
    "df_production['Fluid'] = df_production['Oil'] + df_production['Water']\n",
    "df_production['WOR'] = round(df_production['Water'] / df_production['Oil'],3)\n",
    "df_production['GOR'] = round(df_production['Gas'] / df_production['Oil'],3)\n",
    "\n",
    "# View Results\n",
    "print(df_production.shape)\n",
    "df_production.describe().transpose()"
   ]
  },
  {
   "cell_type": "markdown",
   "metadata": {},
   "source": [
    "### Normalize for length"
   ]
  },
  {
   "cell_type": "code",
   "execution_count": 62,
   "metadata": {},
   "outputs": [
    {
     "data": {
      "text/html": [
       "<div>\n",
       "<style scoped>\n",
       "    .dataframe tbody tr th:only-of-type {\n",
       "        vertical-align: middle;\n",
       "    }\n",
       "\n",
       "    .dataframe tbody tr th {\n",
       "        vertical-align: top;\n",
       "    }\n",
       "\n",
       "    .dataframe thead th {\n",
       "        text-align: right;\n",
       "    }\n",
       "</style>\n",
       "<table border=\"1\" class=\"dataframe\">\n",
       "  <thead>\n",
       "    <tr style=\"text-align: right;\">\n",
       "      <th></th>\n",
       "      <th>Days</th>\n",
       "      <th>Oil</th>\n",
       "      <th>Water</th>\n",
       "      <th>Gas</th>\n",
       "      <th>Fluid</th>\n",
       "      <th>WOR</th>\n",
       "      <th>GOR</th>\n",
       "      <th>Perforated_Length</th>\n",
       "      <th>Oil_nrm</th>\n",
       "      <th>Water_nrm</th>\n",
       "      <th>Gas_nrm</th>\n",
       "      <th>Fluid_nrm</th>\n",
       "    </tr>\n",
       "  </thead>\n",
       "  <tbody>\n",
       "    <tr>\n",
       "      <th>count</th>\n",
       "      <td>1229920.000</td>\n",
       "      <td>1229920.000</td>\n",
       "      <td>1229920.000</td>\n",
       "      <td>1229920.000</td>\n",
       "      <td>1229920.000</td>\n",
       "      <td>1160710.000</td>\n",
       "      <td>1162935.000</td>\n",
       "      <td>1244619.000</td>\n",
       "      <td>1229805.000</td>\n",
       "      <td>1229805.000</td>\n",
       "      <td>1229805.000</td>\n",
       "      <td>1229805.000</td>\n",
       "    </tr>\n",
       "    <tr>\n",
       "      <th>mean</th>\n",
       "      <td>26.047</td>\n",
       "      <td>3012.728</td>\n",
       "      <td>2790.087</td>\n",
       "      <td>4905.585</td>\n",
       "      <td>5802.815</td>\n",
       "      <td>NaN</td>\n",
       "      <td>inf</td>\n",
       "      <td>8862.385</td>\n",
       "      <td>3527.236</td>\n",
       "      <td>3130.981</td>\n",
       "      <td>5697.774</td>\n",
       "      <td>6658.216</td>\n",
       "    </tr>\n",
       "    <tr>\n",
       "      <th>std</th>\n",
       "      <td>8.859</td>\n",
       "      <td>4587.527</td>\n",
       "      <td>5348.731</td>\n",
       "      <td>8488.216</td>\n",
       "      <td>9042.522</td>\n",
       "      <td>NaN</td>\n",
       "      <td>NaN</td>\n",
       "      <td>1975.082</td>\n",
       "      <td>9645.361</td>\n",
       "      <td>9474.920</td>\n",
       "      <td>25799.386</td>\n",
       "      <td>17923.543</td>\n",
       "    </tr>\n",
       "    <tr>\n",
       "      <th>min</th>\n",
       "      <td>0.000</td>\n",
       "      <td>-1.000</td>\n",
       "      <td>-53.000</td>\n",
       "      <td>0.000</td>\n",
       "      <td>-53.000</td>\n",
       "      <td>-inf</td>\n",
       "      <td>0.000</td>\n",
       "      <td>-10170.000</td>\n",
       "      <td>-1.006</td>\n",
       "      <td>-53.900</td>\n",
       "      <td>0.000</td>\n",
       "      <td>-53.900</td>\n",
       "    </tr>\n",
       "    <tr>\n",
       "      <th>25%</th>\n",
       "      <td>27.000</td>\n",
       "      <td>760.000</td>\n",
       "      <td>497.000</td>\n",
       "      <td>926.000</td>\n",
       "      <td>1573.000</td>\n",
       "      <td>0.417</td>\n",
       "      <td>0.871</td>\n",
       "      <td>8979.000</td>\n",
       "      <td>893.908</td>\n",
       "      <td>604.709</td>\n",
       "      <td>1121.486</td>\n",
       "      <td>1873.777</td>\n",
       "    </tr>\n",
       "    <tr>\n",
       "      <th>50%</th>\n",
       "      <td>30.000</td>\n",
       "      <td>1585.000</td>\n",
       "      <td>1294.000</td>\n",
       "      <td>2267.000</td>\n",
       "      <td>3106.000</td>\n",
       "      <td>0.844</td>\n",
       "      <td>1.372</td>\n",
       "      <td>9480.000</td>\n",
       "      <td>1820.496</td>\n",
       "      <td>1458.245</td>\n",
       "      <td>2613.701</td>\n",
       "      <td>3556.178</td>\n",
       "    </tr>\n",
       "    <tr>\n",
       "      <th>75%</th>\n",
       "      <td>31.000</td>\n",
       "      <td>3259.000</td>\n",
       "      <td>2871.000</td>\n",
       "      <td>4961.000</td>\n",
       "      <td>6206.000</td>\n",
       "      <td>1.524</td>\n",
       "      <td>2.229</td>\n",
       "      <td>9848.000</td>\n",
       "      <td>3755.414</td>\n",
       "      <td>3160.878</td>\n",
       "      <td>5680.541</td>\n",
       "      <td>6993.627</td>\n",
       "    </tr>\n",
       "    <tr>\n",
       "      <th>max</th>\n",
       "      <td>31.000</td>\n",
       "      <td>136924.000</td>\n",
       "      <td>650679.000</td>\n",
       "      <td>200369.000</td>\n",
       "      <td>652381.000</td>\n",
       "      <td>inf</td>\n",
       "      <td>inf</td>\n",
       "      <td>17502.000</td>\n",
       "      <td>3446710.526</td>\n",
       "      <td>2614736.842</td>\n",
       "      <td>7422894.737</td>\n",
       "      <td>5155263.158</td>\n",
       "    </tr>\n",
       "  </tbody>\n",
       "</table>\n",
       "</div>"
      ],
      "text/plain": [
       "             Days         Oil       Water         Gas       Fluid         WOR  \\\n",
       "count 1229920.000 1229920.000 1229920.000 1229920.000 1229920.000 1160710.000   \n",
       "mean       26.047    3012.728    2790.087    4905.585    5802.815         NaN   \n",
       "std         8.859    4587.527    5348.731    8488.216    9042.522         NaN   \n",
       "min         0.000      -1.000     -53.000       0.000     -53.000        -inf   \n",
       "25%        27.000     760.000     497.000     926.000    1573.000       0.417   \n",
       "50%        30.000    1585.000    1294.000    2267.000    3106.000       0.844   \n",
       "75%        31.000    3259.000    2871.000    4961.000    6206.000       1.524   \n",
       "max        31.000  136924.000  650679.000  200369.000  652381.000         inf   \n",
       "\n",
       "              GOR  Perforated_Length     Oil_nrm   Water_nrm     Gas_nrm  \\\n",
       "count 1162935.000        1244619.000 1229805.000 1229805.000 1229805.000   \n",
       "mean          inf           8862.385    3527.236    3130.981    5697.774   \n",
       "std           NaN           1975.082    9645.361    9474.920   25799.386   \n",
       "min         0.000         -10170.000      -1.006     -53.900       0.000   \n",
       "25%         0.871           8979.000     893.908     604.709    1121.486   \n",
       "50%         1.372           9480.000    1820.496    1458.245    2613.701   \n",
       "75%         2.229           9848.000    3755.414    3160.878    5680.541   \n",
       "max           inf          17502.000 3446710.526 2614736.842 7422894.737   \n",
       "\n",
       "        Fluid_nrm  \n",
       "count 1229805.000  \n",
       "mean     6658.216  \n",
       "std     17923.543  \n",
       "min       -53.900  \n",
       "25%      1873.777  \n",
       "50%      3556.178  \n",
       "75%      6993.627  \n",
       "max   5155263.158  "
      ]
     },
     "execution_count": 62,
     "metadata": {},
     "output_type": "execute_result"
    }
   ],
   "source": [
    "# Bring in length from headers dataframe\n",
    "df_production = df_production.merge(df_header[['Perforated_Length']], left_index= True, right_index= True)\n",
    "\n",
    "# Loop through streams, normlalize\n",
    "for stream in ['Oil','Water','Gas','Fluid']:\n",
    "    df_production[f'{stream}_nrm'] = (df_production[stream]/abs(df_production['Perforated_Length']))*10000\n",
    "\n",
    "# View Results\n",
    "df_production.describe()"
   ]
  },
  {
   "cell_type": "markdown",
   "metadata": {},
   "source": [
    "## Write Cleaned Table to DataFrame"
   ]
  },
  {
   "cell_type": "code",
   "execution_count": 63,
   "metadata": {},
   "outputs": [],
   "source": [
    "# Create Connection\n",
    "cnx = sqlite3.connect(r\"/Users/john.odonnell/Python/Web_Scraping/NDIC/Well_DataBase.db\")\n",
    "\n",
    "# Write to DataBase\n",
    "df_production[['Date','Days','Oil_nrm','Water_nrm','Gas_nrm','Fluid_nrm','WOR','GOR']].to_sql(\"prod_table_clean\", cnx, if_exists='replace')"
   ]
  },
  {
   "cell_type": "markdown",
   "metadata": {},
   "source": [
    "# <center> --------------------            Add Production to Header Data             -------------------- </center>"
   ]
  },
  {
   "cell_type": "markdown",
   "metadata": {},
   "source": [
    "## Calulate production"
   ]
  },
  {
   "cell_type": "code",
   "execution_count": 64,
   "metadata": {},
   "outputs": [
    {
     "name": "stdout",
     "output_type": "stream",
     "text": [
      "33061038420000\n",
      "33025030560000\n",
      "12\n",
      "33061038420000\n",
      "33025030560000\n",
      "24\n",
      "33061038420000\n",
      "36\n"
     ]
    },
    {
     "data": {
      "text/html": [
       "<div>\n",
       "<style scoped>\n",
       "    .dataframe tbody tr th:only-of-type {\n",
       "        vertical-align: middle;\n",
       "    }\n",
       "\n",
       "    .dataframe tbody tr th {\n",
       "        vertical-align: top;\n",
       "    }\n",
       "\n",
       "    .dataframe thead th {\n",
       "        text-align: right;\n",
       "    }\n",
       "</style>\n",
       "<table border=\"1\" class=\"dataframe\">\n",
       "  <thead>\n",
       "    <tr style=\"text-align: right;\">\n",
       "      <th></th>\n",
       "      <th>count</th>\n",
       "      <th>mean</th>\n",
       "      <th>std</th>\n",
       "      <th>min</th>\n",
       "      <th>25%</th>\n",
       "      <th>50%</th>\n",
       "      <th>75%</th>\n",
       "      <th>max</th>\n",
       "    </tr>\n",
       "  </thead>\n",
       "  <tbody>\n",
       "    <tr>\n",
       "      <th>12m_Oil_nrm_cum</th>\n",
       "      <td>14394.000</td>\n",
       "      <td>141351.937</td>\n",
       "      <td>239768.407</td>\n",
       "      <td>247.000</td>\n",
       "      <td>78077.750</td>\n",
       "      <td>117625.000</td>\n",
       "      <td>176192.000</td>\n",
       "      <td>22714505.000</td>\n",
       "    </tr>\n",
       "    <tr>\n",
       "      <th>12m_WOR</th>\n",
       "      <td>14263.000</td>\n",
       "      <td>inf</td>\n",
       "      <td>NaN</td>\n",
       "      <td>0.000</td>\n",
       "      <td>0.412</td>\n",
       "      <td>0.809</td>\n",
       "      <td>1.431</td>\n",
       "      <td>inf</td>\n",
       "    </tr>\n",
       "    <tr>\n",
       "      <th>24m_Oil_nrm_cum</th>\n",
       "      <td>12952.000</td>\n",
       "      <td>187333.879</td>\n",
       "      <td>314978.598</td>\n",
       "      <td>10175.000</td>\n",
       "      <td>108679.000</td>\n",
       "      <td>156704.500</td>\n",
       "      <td>226321.000</td>\n",
       "      <td>30943100.000</td>\n",
       "    </tr>\n",
       "    <tr>\n",
       "      <th>24m_WOR</th>\n",
       "      <td>12831.000</td>\n",
       "      <td>inf</td>\n",
       "      <td>NaN</td>\n",
       "      <td>0.000</td>\n",
       "      <td>0.434</td>\n",
       "      <td>0.854</td>\n",
       "      <td>1.515</td>\n",
       "      <td>inf</td>\n",
       "    </tr>\n",
       "    <tr>\n",
       "      <th>36m_Oil_nrm_cum</th>\n",
       "      <td>11613.000</td>\n",
       "      <td>213075.217</td>\n",
       "      <td>389865.944</td>\n",
       "      <td>13499.000</td>\n",
       "      <td>126470.000</td>\n",
       "      <td>179140.000</td>\n",
       "      <td>254332.000</td>\n",
       "      <td>37164747.000</td>\n",
       "    </tr>\n",
       "    <tr>\n",
       "      <th>36m_WOR</th>\n",
       "      <td>11498.000</td>\n",
       "      <td>inf</td>\n",
       "      <td>NaN</td>\n",
       "      <td>0.000</td>\n",
       "      <td>0.452</td>\n",
       "      <td>0.889</td>\n",
       "      <td>1.568</td>\n",
       "      <td>inf</td>\n",
       "    </tr>\n",
       "  </tbody>\n",
       "</table>\n",
       "</div>"
      ],
      "text/plain": [
       "                    count       mean        std       min        25%  \\\n",
       "12m_Oil_nrm_cum 14394.000 141351.937 239768.407   247.000  78077.750   \n",
       "12m_WOR         14263.000        inf        NaN     0.000      0.412   \n",
       "24m_Oil_nrm_cum 12952.000 187333.879 314978.598 10175.000 108679.000   \n",
       "24m_WOR         12831.000        inf        NaN     0.000      0.434   \n",
       "36m_Oil_nrm_cum 11613.000 213075.217 389865.944 13499.000 126470.000   \n",
       "36m_WOR         11498.000        inf        NaN     0.000      0.452   \n",
       "\n",
       "                       50%        75%          max  \n",
       "12m_Oil_nrm_cum 117625.000 176192.000 22714505.000  \n",
       "12m_WOR              0.809      1.431          inf  \n",
       "24m_Oil_nrm_cum 156704.500 226321.000 30943100.000  \n",
       "24m_WOR              0.854      1.515          inf  \n",
       "36m_Oil_nrm_cum 179140.000 254332.000 37164747.000  \n",
       "36m_WOR              0.889      1.568          inf  "
      ]
     },
     "execution_count": 64,
     "metadata": {},
     "output_type": "execute_result"
    }
   ],
   "source": [
    "# For months 12, 24, and 36\n",
    "for m in range(12,37,12):\n",
    "    # For each well in the DF\n",
    "    for uwi in df_header.index:\n",
    "        try:\n",
    "            cum_days = df_production.loc[uwi,'Days'].cumsum()\n",
    "            if m * 30.4 < max(cum_days):\n",
    "                for stream in ['Oil_nrm','WOR']:\n",
    "                    if stream in ['WOR']:\n",
    "                        ratio_prod_list = df_production.loc[uwi,stream]\n",
    "                        df_header.loc[uwi,f'{m}m_{stream}'] = round(np.interp( m * 30.4 , cum_days , ratio_prod_list ),3)\n",
    "\n",
    "                    else:\n",
    "                        cum_prod = df_production.loc[uwi,f'{stream}'].cumsum()\n",
    "                        df_header.loc[uwi,f'{m}m_{stream}_cum'] = int(np.interp( m * 30.4 , cum_days , cum_prod ) )\n",
    "        except: \n",
    "            print(uwi)\n",
    "    print(m) \n",
    "df_header.iloc[:,-6:].describe().transpose()"
   ]
  },
  {
   "cell_type": "markdown",
   "metadata": {},
   "source": [
    "## Write new cleaned table to database"
   ]
  },
  {
   "cell_type": "code",
   "execution_count": 65,
   "metadata": {},
   "outputs": [],
   "source": [
    "# Create connection\n",
    "cnx = sqlite3.connect(r\"/Users/john.odonnell/Python/Web_Scraping/NDIC/Well_DataBase.db\")\n",
    "\n",
    "# Write to DataBase\n",
    "df_header.to_sql(\"header_table_clean\",cnx, if_exists='replace')"
   ]
  }
 ],
 "metadata": {
  "kernelspec": {
   "display_name": "Python 3",
   "language": "python",
   "name": "python3"
  },
  "language_info": {
   "codemirror_mode": {
    "name": "ipython",
    "version": 3
   },
   "file_extension": ".py",
   "mimetype": "text/x-python",
   "name": "python",
   "nbconvert_exporter": "python",
   "pygments_lexer": "ipython3",
   "version": "3.8.8"
  }
 },
 "nbformat": 4,
 "nbformat_minor": 4
}

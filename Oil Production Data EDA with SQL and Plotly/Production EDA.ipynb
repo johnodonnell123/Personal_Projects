{
 "cells": [
  {
   "cell_type": "markdown",
   "metadata": {},
   "source": [
    "# **<h1><center> Production EDA </center></h1>**"
   ]
  },
  {
   "cell_type": "markdown",
   "metadata": {},
   "source": [
    "## Import Packages"
   ]
  },
  {
   "cell_type": "code",
   "execution_count": 9,
   "metadata": {},
   "outputs": [],
   "source": [
    "import pandas as pd\n",
    "import sqlite3\n",
    "import plotly.io as pio\n",
    "import numpy as np\n",
    "pd.set_option('display.max_columns', None)\n",
    "from statistics import mean \n",
    "import plotly.express as px\n",
    "import plotly.graph_objects as go\n",
    "pd.options.display.float_format = '{:.3f}'.format\n",
    "pd.set_option(\"display.max_rows\",1000)\n",
    "pd.options.display.precision = 1"
   ]
  },
  {
   "cell_type": "markdown",
   "metadata": {},
   "source": [
    "### Connect to SQlite3 DataBase"
   ]
  },
  {
   "cell_type": "code",
   "execution_count": 10,
   "metadata": {},
   "outputs": [
    {
     "name": "stdout",
     "output_type": "stream",
     "text": [
      "The sql extension is already loaded. To reload it, use:\n",
      "  %reload_ext sql\n"
     ]
    }
   ],
   "source": [
    "%load_ext sql\n",
    "%sql sqlite:////Users/john.odonnell/Python/Web_Scraping/NDIC/Well_DataBase.db"
   ]
  },
  {
   "cell_type": "markdown",
   "metadata": {},
   "source": [
    "### View Tables"
   ]
  },
  {
   "cell_type": "code",
   "execution_count": 11,
   "metadata": {},
   "outputs": [
    {
     "name": "stdout",
     "output_type": "stream",
     "text": [
      " * sqlite:////Users/john.odonnell/Python/Web_Scraping/NDIC/Well_DataBase.db\n",
      "Done.\n"
     ]
    },
    {
     "data": {
      "text/html": [
       "<table>\n",
       "    <tr>\n",
       "        <th>name</th>\n",
       "    </tr>\n",
       "    <tr>\n",
       "        <td>prod_table</td>\n",
       "    </tr>\n",
       "    <tr>\n",
       "        <td>header_table</td>\n",
       "    </tr>\n",
       "    <tr>\n",
       "        <td>prod_table_clean</td>\n",
       "    </tr>\n",
       "    <tr>\n",
       "        <td>header_table_clean</td>\n",
       "    </tr>\n",
       "</table>"
      ],
      "text/plain": [
       "[('prod_table',),\n",
       " ('header_table',),\n",
       " ('prod_table_clean',),\n",
       " ('header_table_clean',)]"
      ]
     },
     "execution_count": 11,
     "metadata": {},
     "output_type": "execute_result"
    }
   ],
   "source": [
    "%%sql \n",
    "\n",
    "SELECT \n",
    "    name \n",
    "FROM sqlite_master \n",
    "WHERE type ='table';"
   ]
  },
  {
   "cell_type": "markdown",
   "metadata": {},
   "source": [
    "## Import Production data"
   ]
  },
  {
   "cell_type": "code",
   "execution_count": 12,
   "metadata": {},
   "outputs": [
    {
     "name": "stdout",
     "output_type": "stream",
     "text": [
      " * sqlite:////Users/john.odonnell/Python/Web_Scraping/NDIC/Well_DataBase.db\n",
      "Done.\n"
     ]
    },
    {
     "data": {
      "text/html": [
       "<div>\n",
       "<style scoped>\n",
       "    .dataframe tbody tr th:only-of-type {\n",
       "        vertical-align: middle;\n",
       "    }\n",
       "\n",
       "    .dataframe tbody tr th {\n",
       "        vertical-align: top;\n",
       "    }\n",
       "\n",
       "    .dataframe thead th {\n",
       "        text-align: right;\n",
       "    }\n",
       "</style>\n",
       "<table border=\"1\" class=\"dataframe\">\n",
       "  <thead>\n",
       "    <tr style=\"text-align: right;\">\n",
       "      <th></th>\n",
       "      <th>count</th>\n",
       "      <th>mean</th>\n",
       "      <th>std</th>\n",
       "      <th>min</th>\n",
       "      <th>25%</th>\n",
       "      <th>50%</th>\n",
       "      <th>75%</th>\n",
       "      <th>max</th>\n",
       "    </tr>\n",
       "  </thead>\n",
       "  <tbody>\n",
       "    <tr>\n",
       "      <th>Days</th>\n",
       "      <td>1169929.000</td>\n",
       "      <td>27.510</td>\n",
       "      <td>6.528</td>\n",
       "      <td>1.000</td>\n",
       "      <td>28.000</td>\n",
       "      <td>30.000</td>\n",
       "      <td>31.000</td>\n",
       "      <td>31.000</td>\n",
       "    </tr>\n",
       "    <tr>\n",
       "      <th>Oil</th>\n",
       "      <td>1169929.000</td>\n",
       "      <td>3197.343</td>\n",
       "      <td>4686.067</td>\n",
       "      <td>0.000</td>\n",
       "      <td>877.000</td>\n",
       "      <td>1704.000</td>\n",
       "      <td>3436.000</td>\n",
       "      <td>136924.000</td>\n",
       "    </tr>\n",
       "    <tr>\n",
       "      <th>Water</th>\n",
       "      <td>1169929.000</td>\n",
       "      <td>2963.520</td>\n",
       "      <td>5480.394</td>\n",
       "      <td>0.000</td>\n",
       "      <td>615.000</td>\n",
       "      <td>1404.000</td>\n",
       "      <td>3038.000</td>\n",
       "      <td>650679.000</td>\n",
       "    </tr>\n",
       "    <tr>\n",
       "      <th>Gas</th>\n",
       "      <td>1169929.000</td>\n",
       "      <td>5216.232</td>\n",
       "      <td>8703.746</td>\n",
       "      <td>0.000</td>\n",
       "      <td>1109.000</td>\n",
       "      <td>2465.000</td>\n",
       "      <td>5250.000</td>\n",
       "      <td>200369.000</td>\n",
       "    </tr>\n",
       "    <tr>\n",
       "      <th>Fluid</th>\n",
       "      <td>1169929.000</td>\n",
       "      <td>6160.863</td>\n",
       "      <td>9239.787</td>\n",
       "      <td>0.000</td>\n",
       "      <td>1799.000</td>\n",
       "      <td>3323.000</td>\n",
       "      <td>6525.000</td>\n",
       "      <td>652381.000</td>\n",
       "    </tr>\n",
       "    <tr>\n",
       "      <th>WOR</th>\n",
       "      <td>1165999.000</td>\n",
       "      <td>inf</td>\n",
       "      <td>NaN</td>\n",
       "      <td>0.000</td>\n",
       "      <td>0.418</td>\n",
       "      <td>0.845</td>\n",
       "      <td>1.525</td>\n",
       "      <td>inf</td>\n",
       "    </tr>\n",
       "    <tr>\n",
       "      <th>GOR</th>\n",
       "      <td>1167513.000</td>\n",
       "      <td>inf</td>\n",
       "      <td>NaN</td>\n",
       "      <td>0.000</td>\n",
       "      <td>0.872</td>\n",
       "      <td>1.373</td>\n",
       "      <td>2.229</td>\n",
       "      <td>inf</td>\n",
       "    </tr>\n",
       "  </tbody>\n",
       "</table>\n",
       "</div>"
      ],
      "text/plain": [
       "            count     mean      std   min      25%      50%      75%  \\\n",
       "Days  1169929.000   27.510    6.528 1.000   28.000   30.000   31.000   \n",
       "Oil   1169929.000 3197.343 4686.067 0.000  877.000 1704.000 3436.000   \n",
       "Water 1169929.000 2963.520 5480.394 0.000  615.000 1404.000 3038.000   \n",
       "Gas   1169929.000 5216.232 8703.746 0.000 1109.000 2465.000 5250.000   \n",
       "Fluid 1169929.000 6160.863 9239.787 0.000 1799.000 3323.000 6525.000   \n",
       "WOR   1165999.000      inf      NaN 0.000    0.418    0.845    1.525   \n",
       "GOR   1167513.000      inf      NaN 0.000    0.872    1.373    2.229   \n",
       "\n",
       "             max  \n",
       "Days      31.000  \n",
       "Oil   136924.000  \n",
       "Water 650679.000  \n",
       "Gas   200369.000  \n",
       "Fluid 652381.000  \n",
       "WOR          inf  \n",
       "GOR          inf  "
      ]
     },
     "execution_count": 12,
     "metadata": {},
     "output_type": "execute_result"
    }
   ],
   "source": [
    "query = %sql SELECT * FROM prod_table_clean WHERE Days > 0\n",
    "\n",
    "df_production = query.DataFrame()\n",
    "df_production.set_index('UWI',inplace=True)\n",
    "df_production['Date'] = pd.to_datetime(df_production['Date'], infer_datetime_format=True)\n",
    "df_production.describe().transpose()"
   ]
  },
  {
   "cell_type": "markdown",
   "metadata": {},
   "source": [
    "## Import Header data"
   ]
  },
  {
   "cell_type": "code",
   "execution_count": 13,
   "metadata": {},
   "outputs": [
    {
     "name": "stdout",
     "output_type": "stream",
     "text": [
      " * sqlite:////Users/john.odonnell/Python/Web_Scraping/NDIC/Well_DataBase.db\n",
      "Done.\n"
     ]
    },
    {
     "data": {
      "text/html": [
       "<div>\n",
       "<style scoped>\n",
       "    .dataframe tbody tr th:only-of-type {\n",
       "        vertical-align: middle;\n",
       "    }\n",
       "\n",
       "    .dataframe tbody tr th {\n",
       "        vertical-align: top;\n",
       "    }\n",
       "\n",
       "    .dataframe thead th {\n",
       "        text-align: right;\n",
       "    }\n",
       "</style>\n",
       "<table border=\"1\" class=\"dataframe\">\n",
       "  <thead>\n",
       "    <tr style=\"text-align: right;\">\n",
       "      <th></th>\n",
       "      <th>File_Number</th>\n",
       "      <th>Well_Name</th>\n",
       "      <th>Well_Type</th>\n",
       "      <th>Well_Status</th>\n",
       "      <th>Location</th>\n",
       "      <th>Latitude</th>\n",
       "      <th>Longitude</th>\n",
       "      <th>Current_Operator</th>\n",
       "      <th>Completion_Date</th>\n",
       "      <th>Total_Depth</th>\n",
       "      <th>Spud_Date</th>\n",
       "      <th>Perf_Interval</th>\n",
       "      <th>Cum_Oil</th>\n",
       "      <th>Cum_Gas</th>\n",
       "      <th>Cum_Water</th>\n",
       "      <th>SHL_X</th>\n",
       "      <th>SHL_Y</th>\n",
       "      <th>Vintage_Year</th>\n",
       "      <th>Top_Perf</th>\n",
       "      <th>Bottom_Perf</th>\n",
       "      <th>Operator</th>\n",
       "      <th>delete</th>\n",
       "      <th>Perforated_Length</th>\n",
       "      <th>Direction</th>\n",
       "      <th>TRS</th>\n",
       "      <th>Section</th>\n",
       "      <th>Township</th>\n",
       "      <th>Range</th>\n",
       "      <th>Block</th>\n",
       "    </tr>\n",
       "    <tr>\n",
       "      <th>UWI</th>\n",
       "      <th></th>\n",
       "      <th></th>\n",
       "      <th></th>\n",
       "      <th></th>\n",
       "      <th></th>\n",
       "      <th></th>\n",
       "      <th></th>\n",
       "      <th></th>\n",
       "      <th></th>\n",
       "      <th></th>\n",
       "      <th></th>\n",
       "      <th></th>\n",
       "      <th></th>\n",
       "      <th></th>\n",
       "      <th></th>\n",
       "      <th></th>\n",
       "      <th></th>\n",
       "      <th></th>\n",
       "      <th></th>\n",
       "      <th></th>\n",
       "      <th></th>\n",
       "      <th></th>\n",
       "      <th></th>\n",
       "      <th></th>\n",
       "      <th></th>\n",
       "      <th></th>\n",
       "      <th></th>\n",
       "      <th></th>\n",
       "      <th></th>\n",
       "    </tr>\n",
       "  </thead>\n",
       "  <tbody>\n",
       "    <tr>\n",
       "      <th>33053079640000</th>\n",
       "      <td>33461</td>\n",
       "      <td>MESA 152-94-16A-21H</td>\n",
       "      <td>OG</td>\n",
       "      <td>A</td>\n",
       "      <td>NENW 16-152-94</td>\n",
       "      <td>47.991</td>\n",
       "      <td>-102.719</td>\n",
       "      <td>ENERPLUS RESOURCES USA CORPORATION</td>\n",
       "      <td>2018-02-25</td>\n",
       "      <td>20465</td>\n",
       "      <td>2017-06-18</td>\n",
       "      <td>11338 -19317</td>\n",
       "      <td>220644</td>\n",
       "      <td>434063</td>\n",
       "      <td>61235</td>\n",
       "      <td>670161.908</td>\n",
       "      <td>5317820.446</td>\n",
       "      <td>2018.000</td>\n",
       "      <td>11338.000</td>\n",
       "      <td>19317.000</td>\n",
       "      <td>ENERPLUS</td>\n",
       "      <td>RESOURCES USA CORPORATION</td>\n",
       "      <td>7979.000</td>\n",
       "      <td>NENW</td>\n",
       "      <td>16-152-94</td>\n",
       "      <td>16</td>\n",
       "      <td>152</td>\n",
       "      <td>94</td>\n",
       "      <td>15294</td>\n",
       "    </tr>\n",
       "    <tr>\n",
       "      <th>33061009220000</th>\n",
       "      <td>17800</td>\n",
       "      <td>RS-STATE E-155-90 36H-1</td>\n",
       "      <td>OG</td>\n",
       "      <td>A</td>\n",
       "      <td>SESE 36-155-90</td>\n",
       "      <td>48.198</td>\n",
       "      <td>-102.183</td>\n",
       "      <td>HESS BAKKEN INVESTMENTS II, LLC</td>\n",
       "      <td>2009-03-07</td>\n",
       "      <td>14786</td>\n",
       "      <td>2009-01-01</td>\n",
       "      <td>9530-14786</td>\n",
       "      <td>414897</td>\n",
       "      <td>151508</td>\n",
       "      <td>162540</td>\n",
       "      <td>709339.757</td>\n",
       "      <td>5342173.806</td>\n",
       "      <td>2009.000</td>\n",
       "      <td>9530.000</td>\n",
       "      <td>14786.000</td>\n",
       "      <td>HESS</td>\n",
       "      <td>BAKKEN INVESTMENTS II, LLC</td>\n",
       "      <td>5256.000</td>\n",
       "      <td>SESE</td>\n",
       "      <td>36-155-90</td>\n",
       "      <td>36</td>\n",
       "      <td>155</td>\n",
       "      <td>90</td>\n",
       "      <td>15590</td>\n",
       "    </tr>\n",
       "    <tr>\n",
       "      <th>33089006900000</th>\n",
       "      <td>22372</td>\n",
       "      <td>3J TRUST 24-8PH</td>\n",
       "      <td>OG</td>\n",
       "      <td>A</td>\n",
       "      <td>SESW 8-140-99</td>\n",
       "      <td>46.950</td>\n",
       "      <td>-103.205</td>\n",
       "      <td>WHITING OIL AND GAS CORPORATION</td>\n",
       "      <td>2012-06-19</td>\n",
       "      <td>21070</td>\n",
       "      <td>2012-04-07</td>\n",
       "      <td>11069-21070</td>\n",
       "      <td>292459</td>\n",
       "      <td>408076</td>\n",
       "      <td>106929</td>\n",
       "      <td>636587.850</td>\n",
       "      <td>5201125.825</td>\n",
       "      <td>2012.000</td>\n",
       "      <td>11069.000</td>\n",
       "      <td>21070.000</td>\n",
       "      <td>WHITING</td>\n",
       "      <td>OIL AND GAS CORPORATION</td>\n",
       "      <td>10001.000</td>\n",
       "      <td>SESW</td>\n",
       "      <td>8-140-99</td>\n",
       "      <td>8</td>\n",
       "      <td>140</td>\n",
       "      <td>99</td>\n",
       "      <td>14099</td>\n",
       "    </tr>\n",
       "    <tr>\n",
       "      <th>33053060990000</th>\n",
       "      <td>28818</td>\n",
       "      <td>SIMPSON 151-102-5-8-2H</td>\n",
       "      <td>OG</td>\n",
       "      <td>A</td>\n",
       "      <td>LOT1 5-151-102</td>\n",
       "      <td>47.934</td>\n",
       "      <td>-103.759</td>\n",
       "      <td>NINE POINT ENERGY, LLC</td>\n",
       "      <td>2015-01-19</td>\n",
       "      <td>20700</td>\n",
       "      <td>2014-09-06</td>\n",
       "      <td>11315-20705</td>\n",
       "      <td>224696</td>\n",
       "      <td>300392</td>\n",
       "      <td>466377</td>\n",
       "      <td>592682.139</td>\n",
       "      <td>5309757.574</td>\n",
       "      <td>2015.000</td>\n",
       "      <td>11315.000</td>\n",
       "      <td>20705.000</td>\n",
       "      <td>NINE</td>\n",
       "      <td>POINT ENERGY, LLC</td>\n",
       "      <td>9390.000</td>\n",
       "      <td>LOT1</td>\n",
       "      <td>5-151-102</td>\n",
       "      <td>5</td>\n",
       "      <td>151</td>\n",
       "      <td>102</td>\n",
       "      <td>151102</td>\n",
       "    </tr>\n",
       "    <tr>\n",
       "      <th>33053037720000</th>\n",
       "      <td>21509</td>\n",
       "      <td>FOREST 26-35 #1H</td>\n",
       "      <td>OG</td>\n",
       "      <td>A</td>\n",
       "      <td>NENW 26-152-101</td>\n",
       "      <td>47.963</td>\n",
       "      <td>-103.575</td>\n",
       "      <td>EQUINOR ENERGY LP</td>\n",
       "      <td>2012-03-01</td>\n",
       "      <td>20477</td>\n",
       "      <td>2011-11-07</td>\n",
       "      <td>10946-20477</td>\n",
       "      <td>306111</td>\n",
       "      <td>404005</td>\n",
       "      <td>319892</td>\n",
       "      <td>606393.240</td>\n",
       "      <td>5313178.883</td>\n",
       "      <td>2012.000</td>\n",
       "      <td>10946.000</td>\n",
       "      <td>20477.000</td>\n",
       "      <td>EQUINOR</td>\n",
       "      <td>ENERGY LP</td>\n",
       "      <td>9531.000</td>\n",
       "      <td>NENW</td>\n",
       "      <td>26-152-101</td>\n",
       "      <td>26</td>\n",
       "      <td>152</td>\n",
       "      <td>101</td>\n",
       "      <td>152101</td>\n",
       "    </tr>\n",
       "  </tbody>\n",
       "</table>\n",
       "</div>"
      ],
      "text/plain": [
       "                File_Number                Well_Name Well_Type Well_Status  \\\n",
       "UWI                                                                          \n",
       "33053079640000        33461      MESA 152-94-16A-21H        OG           A   \n",
       "33061009220000        17800  RS-STATE E-155-90 36H-1        OG           A   \n",
       "33089006900000        22372          3J TRUST 24-8PH        OG           A   \n",
       "33053060990000        28818   SIMPSON 151-102-5-8-2H        OG           A   \n",
       "33053037720000        21509         FOREST 26-35 #1H        OG           A   \n",
       "\n",
       "                       Location  Latitude  Longitude  \\\n",
       "UWI                                                    \n",
       "33053079640000   NENW 16-152-94    47.991   -102.719   \n",
       "33061009220000   SESE 36-155-90    48.198   -102.183   \n",
       "33089006900000    SESW 8-140-99    46.950   -103.205   \n",
       "33053060990000   LOT1 5-151-102    47.934   -103.759   \n",
       "33053037720000  NENW 26-152-101    47.963   -103.575   \n",
       "\n",
       "                                  Current_Operator Completion_Date  \\\n",
       "UWI                                                                  \n",
       "33053079640000  ENERPLUS RESOURCES USA CORPORATION      2018-02-25   \n",
       "33061009220000     HESS BAKKEN INVESTMENTS II, LLC      2009-03-07   \n",
       "33089006900000     WHITING OIL AND GAS CORPORATION      2012-06-19   \n",
       "33053060990000              NINE POINT ENERGY, LLC      2015-01-19   \n",
       "33053037720000                   EQUINOR ENERGY LP      2012-03-01   \n",
       "\n",
       "               Total_Depth  Spud_Date Perf_Interval  Cum_Oil  Cum_Gas  \\\n",
       "UWI                                                                     \n",
       "33053079640000       20465 2017-06-18  11338 -19317   220644   434063   \n",
       "33061009220000       14786 2009-01-01    9530-14786   414897   151508   \n",
       "33089006900000       21070 2012-04-07   11069-21070   292459   408076   \n",
       "33053060990000       20700 2014-09-06   11315-20705   224696   300392   \n",
       "33053037720000       20477 2011-11-07   10946-20477   306111   404005   \n",
       "\n",
       "                Cum_Water      SHL_X       SHL_Y  Vintage_Year  Top_Perf  \\\n",
       "UWI                                                                        \n",
       "33053079640000      61235 670161.908 5317820.446      2018.000 11338.000   \n",
       "33061009220000     162540 709339.757 5342173.806      2009.000  9530.000   \n",
       "33089006900000     106929 636587.850 5201125.825      2012.000 11069.000   \n",
       "33053060990000     466377 592682.139 5309757.574      2015.000 11315.000   \n",
       "33053037720000     319892 606393.240 5313178.883      2012.000 10946.000   \n",
       "\n",
       "                Bottom_Perf  Operator                      delete  \\\n",
       "UWI                                                                 \n",
       "33053079640000    19317.000  ENERPLUS   RESOURCES USA CORPORATION   \n",
       "33061009220000    14786.000      HESS  BAKKEN INVESTMENTS II, LLC   \n",
       "33089006900000    21070.000   WHITING     OIL AND GAS CORPORATION   \n",
       "33053060990000    20705.000      NINE           POINT ENERGY, LLC   \n",
       "33053037720000    20477.000   EQUINOR                   ENERGY LP   \n",
       "\n",
       "                Perforated_Length Direction         TRS Section Township  \\\n",
       "UWI                                                                        \n",
       "33053079640000           7979.000      NENW   16-152-94      16      152   \n",
       "33061009220000           5256.000      SESE   36-155-90      36      155   \n",
       "33089006900000          10001.000      SESW    8-140-99       8      140   \n",
       "33053060990000           9390.000      LOT1   5-151-102       5      151   \n",
       "33053037720000           9531.000      NENW  26-152-101      26      152   \n",
       "\n",
       "               Range   Block  \n",
       "UWI                           \n",
       "33053079640000    94   15294  \n",
       "33061009220000    90   15590  \n",
       "33089006900000    99   14099  \n",
       "33053060990000   102  151102  \n",
       "33053037720000   101  152101  "
      ]
     },
     "execution_count": 13,
     "metadata": {},
     "output_type": "execute_result"
    }
   ],
   "source": [
    "query = %sql SELECT * FROM header_table_clean\n",
    "\n",
    "df_header = query.DataFrame()\n",
    "\n",
    "# Set Index and view shape\n",
    "df_header.set_index('UWI',inplace=True)\n",
    "df_header[['Completion_Date','Spud_Date']] = df_header[['Completion_Date','Spud_Date']].apply(pd.to_datetime, errors='coerce')\n",
    "df_header.sample(5)"
   ]
  },
  {
   "cell_type": "markdown",
   "metadata": {},
   "source": [
    "## Define Functions"
   ]
  },
  {
   "cell_type": "code",
   "execution_count": 11,
   "metadata": {
    "tags": []
   },
   "outputs": [],
   "source": [
    "def STREAM_PLOT(dataframe, production_dataframe, material, width, height, variable_dict = {'0-99999999':None}, rate_cum = 0, averages = 0, cumulative = 1,\n",
    "                line_width = 1, variable = df_header.iloc[:,0].name, all_streams = 1):\n",
    "    \n",
    "    fig = go.Figure(layout={'height':height,'width':width})\n",
    "    \n",
    "    if averages == 1:\n",
    "        fig.update_layout(xaxis_title=\"Producing Days\")\n",
    "        for item in variable_dict.keys():\n",
    "            low = float(item.split('-')[0])\n",
    "            high = float(item.split('-')[1]) \n",
    "            df_temp = dataframe[dataframe[variable].between(low,high)]\n",
    "            if len(df_temp) >= 1:       \n",
    "                \n",
    "                if material in ['WOR','GOR']:\n",
    "                    average_list = []\n",
    "                    for m in [i for i in range(1,27,1)]:\n",
    "                        prod_list = []\n",
    "                        for uwi in df_temp.index.tolist():  \n",
    "                            try:\n",
    "                                cum_day_list = production_dataframe.loc[uwi,'Days'].cumsum().tolist()\n",
    "                                if m * 30.4 < max(cum_day_list):                                \n",
    "                                    if cumulative == 1:\n",
    "                                        cum_prod_list = production_dataframe.loc[uwi,material].expanding().mean().tolist()\n",
    "                                        prod_list.append(np.interp( m*30.4 , cum_day_list , cum_prod_list))\n",
    "                                        name = f\"Cumulative {material}\"\n",
    "                                    else:                 \n",
    "                                        rate_prod_list = production_dataframe.loc[uwi,material].tolist()\n",
    "                                        prod_list.append(np.interp( m*30.4 , cum_day_list , rate_prod_list)) \n",
    "                                        name = f\"Monthly {material}\"\n",
    "                            except: None\n",
    "                        try:\n",
    "                            average_list.append(mean(prod_list))\n",
    "                        except: \n",
    "                            None\n",
    "                    fig.update_layout(yaxis_title=name)\n",
    "                    fig.add_trace(go.Scatter(x=[i*30.4 for i in range(1,27,1)], y=average_list, mode='lines',name=f'{item} Average', line=dict(color=variable_dict[item], width=6)))\n",
    "\n",
    "                elif rate_cum == 0:        \n",
    "                    average_list = []\n",
    "                    for m in [i for i in range(1,27,1)]:\n",
    "                        prod_list = []\n",
    "                        for uwi in df_temp.index.tolist():   \n",
    "                            cum_day_list = production_dataframe.loc[uwi,'Days'].cumsum().tolist()\n",
    "                            if m * 30.4 < max(cum_day_list):\n",
    "                                if cumulative == 1:\n",
    "                                    cum_prod_list = production_dataframe.loc[uwi,material].cumsum().tolist()\n",
    "                                    prod_list.append(np.interp( m*30.4 , cum_day_list , cum_prod_list))\n",
    "                                    name = f\"Cumulative {material} bbl\"\n",
    "                                else:                 \n",
    "                                    rate_prod_list = production_dataframe.loc[uwi,material].tolist()\n",
    "                                    prod_list.append(np.interp( m*30.4 , cum_day_list , rate_prod_list)) \n",
    "                                    name = f\"Monthly {material} bbl\"\n",
    "                        try:\n",
    "                            average_list.append(mean(prod_list))\n",
    "                        except: \n",
    "                            None\n",
    "                    fig.update_layout(yaxis_title =name)\n",
    "                    fig.add_trace(go.Scatter(x=[i*30.4 for i in range(1,27,1)], y=average_list, mode='lines',name=f'{item} Average', line=dict(color=variable_dict[item], width=6)))\n",
    "            print(item,f'{len(df_temp)} wells')\n",
    "            \n",
    "    if all_streams == 1:\n",
    "        for item in variable_dict.keys():\n",
    "            low = float(item.split('-')[0])\n",
    "            high = float(item.split('-')[1]) \n",
    "            df_temp = dataframe[dataframe[variable].between(low,high)]\n",
    "            if len(df_temp) >= 1:\n",
    "\n",
    "                if material in ['WOR','GOR']:\n",
    "                    for uwi in df_temp.index.tolist():\n",
    "                        try:\n",
    "                            day_list = production_dataframe.loc[uwi,'Days'].cumsum().tolist()\n",
    "                            if cumulative == 1:\n",
    "                                prod_list = production_dataframe.loc[uwi,material].expanding().mean().tolist()\n",
    "                                name = f\"Cumulative {material}\"\n",
    "                            else:\n",
    "                                prod_list = production_dataframe.loc[uwi,material].tolist()\n",
    "                                name = f\"Monthy {material} Rate\"\n",
    "                            fig.add_trace(go.Scatter(x=day_list, y=prod_list, mode='lines',name=str(dataframe.loc[uwi,'Well_Name']), line=dict(width=line_width,color=variable_dict[item])))\n",
    "                        except: None\n",
    "                    fig.update_layout(xaxis_title=\"Producing Days\", yaxis_title=name)\n",
    "\n",
    "                elif rate_cum == 1:        \n",
    "                    for uwi in df_temp.index.tolist():\n",
    "                        rate_list = production_dataframe.loc[uwi,material].tolist()\n",
    "                        cum_list = production_dataframe.loc[uwi,material].cumsum().tolist()\n",
    "                        fig.update_yaxes(type='log')  \n",
    "                        fig.add_trace(go.Scatter(x=cum_list, y=rate_list, mode='lines',name=str(dataframe.loc[uwi,'Well_Name']), line=dict(width=line_width,color=variable_dict[item])))\n",
    "                        fig.update_layout(xaxis_title= material+' Cum', yaxis_title =material+' Rate')\n",
    "\n",
    "                elif rate_cum == 0:       \n",
    "                    fig.update_layout(xaxis_title=\"Producing Days\")\n",
    "                    for uwi in df_temp.index.tolist():\n",
    "                        day_list = production_dataframe.loc[uwi,'Days'].cumsum().tolist()\n",
    "                        if cumulative == 1:\n",
    "                            prod_list = production_dataframe.loc[uwi,material].cumsum().tolist()\n",
    "                            name = f\"Cumulative {material} bbl\"\n",
    "                        else:\n",
    "                            prod_list = production_dataframe.loc[uwi,material].tolist()\n",
    "                            name = f\"Monthy {material} bbl\"\n",
    "                            fig.update_yaxes(type='log')  \n",
    "                        fig.add_trace(go.Scatter(x=day_list, y=prod_list, mode='lines',name=str(dataframe.loc[uwi,'Well_Name']), line=dict(width=line_width,color=variable_dict[item])))\n",
    "                        fig.update_layout(yaxis_title=name)\n",
    "\n",
    "    return fig                         "
   ]
  },
  {
   "cell_type": "markdown",
   "metadata": {},
   "source": [
    "## What does the basin look like?"
   ]
  },
  {
   "cell_type": "code",
   "execution_count": null,
   "metadata": {
    "tags": []
   },
   "outputs": [],
   "source": [
    "df_sample = df_header[df_header['Top_Perf'].between(9000,11500)].sample(1000)\n",
    "\n",
    "fig = go.Figure(data=go.Scattergeo(\n",
    "    lon = df_sample['Longitude'],\n",
    "    lat = df_sample['Latitude'],\n",
    "    text = df_sample[['Well_Name','Top_Perf','Current_Operator']],\n",
    "    marker = dict(\n",
    "        color = df_sample['Top_Perf'],\n",
    "        colorscale = 'rainbow',\n",
    "        reversescale = True,\n",
    "        opacity = 0.7,\n",
    "        size = 7,\n",
    "        colorbar = dict(\n",
    "            titleside = \"right\",\n",
    "            outlinecolor = \"rgba(68, 68, 68, 0)\",\n",
    "            ticks = \"outside\",\n",
    "            showticksuffix = \"last\",\n",
    "            dtick = 0.1\n",
    "        )\n",
    "    )\n",
    "))\n",
    "\n",
    "fig.update_layout(\n",
    "        title = 'Williston Basin Wells',\n",
    "        geo_scope='usa',width = 1200, height = 800,\n",
    "    geo = dict()\n",
    "    )\n",
    "\n",
    "fig.update_geos(\n",
    "    center=dict(lon=df_sample['Longitude'].mean(), lat=df_sample['Latitude'].mean()),\n",
    "    lataxis_range=[df_sample['Latitude'].min(),df_sample['Latitude'].max()], lonaxis_range=[df_sample['Longitude'].min(),df_sample['Longitude'].max()]\n",
    "               )\n",
    "  \n",
    "fig.show()"
   ]
  },
  {
   "cell_type": "markdown",
   "metadata": {},
   "source": [
    "## What Operator has Produced the Most Oil to Date?"
   ]
  },
  {
   "cell_type": "raw",
   "metadata": {},
   "source": [
    "%%sql \n",
    "\n",
    "SELECT p.UWI, COUNT(DISTINCT p.UWI) AS 'Wells', SUM(p.Oil) AS 'Cumulative_Oil', h.Current_Operator\n",
    "FROM prod_table p \n",
    "JOIN header_table h \n",
    "ON p.UWI = h.UWI \n",
    "GROUP BY Current_Operator\n",
    "ORDER BY Cumulative_Oil desc\n",
    "LIMIT 8"
   ]
  },
  {
   "cell_type": "markdown",
   "metadata": {},
   "source": [
    "##### Plot"
   ]
  },
  {
   "cell_type": "code",
   "execution_count": null,
   "metadata": {},
   "outputs": [],
   "source": [
    "query = %sql SELECT p.UWI, COUNT(DISTINCT p.UWI) AS 'Wells', SUM(p.Oil) AS 'Cumulative_Oil', h.Current_Operator FROM prod_table p JOIN header_table h ON p.UWI = h.UWI GROUP BY Current_Operator ORDER BY Cumulative_Oil desc LIMIT 8\n",
    "df = query.DataFrame()\n",
    "\n",
    "fig = px.bar(df, x='Current_Operator', y='Cumulative_Oil', width = 700, height=500)\n",
    "fig.show()"
   ]
  },
  {
   "cell_type": "markdown",
   "metadata": {},
   "source": [
    "## What Operator has Produced the Most Oil for their well count?"
   ]
  },
  {
   "cell_type": "code",
   "execution_count": null,
   "metadata": {},
   "outputs": [],
   "source": [
    "%%sql \n",
    "\n",
    "SELECT p.UWI, COUNT(DISTINCT p.UWI) AS 'Wells', SUM(p.Oil) AS 'Cumulative_Oil', h.Current_Operator\n",
    "FROM prod_table p \n",
    "JOIN header_table h \n",
    "ON p.UWI = h.UWI \n",
    "GROUP BY Current_Operator\n",
    "ORDER BY Cumulative_Oil desc\n",
    "LIMIT 8"
   ]
  },
  {
   "cell_type": "markdown",
   "metadata": {},
   "source": [
    "#### Plot"
   ]
  },
  {
   "cell_type": "code",
   "execution_count": null,
   "metadata": {},
   "outputs": [],
   "source": [
    "query = %sql SELECT p.UWI, COUNT(DISTINCT p.UWI) AS 'Wells', SUM(p.Oil) AS 'Cumulative_Oil', h.Current_Operator FROM prod_table p JOIN header_table h ON p.UWI = h.UWI GROUP BY Current_Operator ORDER BY Cumulative_Oil desc LIMIT 10\n",
    "df = query.DataFrame()\n",
    "df['Oil_Per_Well'] = df['Cumulative_Oil'] / df['Wells']\n",
    "df.sort_values('Oil_Per_Well',inplace=True,ascending=False)\n",
    "\n",
    "fig = px.bar(df, x='Current_Operator', y='Oil_Per_Well', width = 700, height=500)\n",
    "fig.show()"
   ]
  },
  {
   "cell_type": "markdown",
   "metadata": {},
   "source": [
    "## Simple Production Plot"
   ]
  },
  {
   "cell_type": "code",
   "execution_count": 11,
   "metadata": {},
   "outputs": [
    {
     "data": {
      "application/vnd.plotly.v1+json": {
       "config": {
        "plotlyServerURL": "https://plot.ly"
       },
       "data": [
        {
         "line": {
          "width": 2
         },
         "mode": "lines",
         "name": "BULLY FEDERAL 44X-20A",
         "type": "scatter",
         "x": [
          31,
          61,
          92,
          118,
          149,
          180,
          207,
          238,
          268,
          298,
          329,
          359,
          390,
          420,
          451,
          476,
          507,
          538,
          568,
          598,
          628,
          659,
          690,
          705,
          736,
          765,
          796,
          822,
          853,
          884,
          910,
          939,
          963,
          994,
          1021,
          1051,
          1082,
          1112,
          1128,
          1149,
          1180,
          1211,
          1241,
          1272,
          1302,
          1333,
          1357,
          1387,
          1417,
          1434,
          1460,
          1485,
          1515,
          1546,
          1576,
          1605,
          1633,
          1664,
          1695,
          1724,
          1755,
          1783,
          1812,
          1841,
          1857,
          1886,
          1913,
          1931,
          1950,
          1981,
          2006,
          2035,
          2052,
          2069,
          2096,
          2117,
          2136,
          2167,
          2197,
          2227,
          2258,
          2289,
          2319,
          2350,
          2379,
          2390
         ],
         "y": [
          1602,
          4170,
          7369,
          8512,
          9980,
          11786,
          13188,
          15025,
          16830,
          18933,
          21182,
          23234,
          25320,
          27358,
          29190,
          30642,
          32417,
          34253,
          36223,
          37679,
          39141,
          40161,
          41420,
          42036,
          43779,
          45152,
          46556,
          48129,
          49957,
          51936,
          53506,
          55651,
          57098,
          58934,
          60350,
          62361,
          64664,
          67421,
          68700,
          70058,
          72410,
          74993,
          77715,
          80724,
          83313,
          86392,
          88748,
          92043,
          95157,
          96581,
          98808,
          100782,
          103266,
          106513,
          109999,
          113848,
          117080,
          123174,
          126281,
          130306,
          134055,
          139610,
          144009,
          151554,
          153387,
          157133,
          164032,
          169627,
          173622,
          177406,
          182019,
          184728,
          191965,
          194184,
          200699,
          202616,
          204937,
          215234,
          223631,
          241467,
          257770,
          272877,
          298494,
          332778,
          354690,
          364410
         ]
        },
        {
         "line": {
          "width": 2
         },
         "mode": "lines",
         "name": "FBIR BLACKMEDICINE 24X-21E",
         "type": "scatter",
         "x": [
          28,
          55,
          86,
          114,
          145,
          176,
          206,
          237,
          267,
          298,
          329,
          359,
          364,
          392,
          423,
          452,
          483,
          514,
          540,
          570,
          600,
          631,
          661,
          691,
          722,
          752,
          756,
          781,
          809,
          827,
          841,
          872,
          890,
          920,
          951,
          981,
          1009,
          1010,
          1018,
          1019,
          1020,
          1038,
          1060
         ],
         "y": [
          2370,
          3946,
          6176,
          8469,
          10830,
          13285,
          16412,
          19771,
          22991,
          26072,
          29428,
          32292,
          32735,
          35823,
          39089,
          41970,
          45053,
          47556,
          49402,
          51158,
          53352,
          55780,
          58519,
          61495,
          64664,
          67538,
          67559,
          70956,
          74938,
          76322,
          78779,
          84901,
          86813,
          89782,
          91144,
          92372,
          94106,
          94190,
          96168,
          96184,
          96201,
          100579,
          104662
         ]
        },
        {
         "line": {
          "width": 2
         },
         "mode": "lines",
         "name": "FBIR YELLOWWOLF 31X-10DXA",
         "type": "scatter",
         "x": [
          31,
          61,
          92,
          120,
          151,
          182,
          212,
          243,
          273,
          304,
          335,
          365,
          396,
          426,
          457,
          486,
          517,
          548,
          574,
          604,
          632
         ],
         "y": [
          9243,
          17334,
          26373,
          35220,
          44999,
          55298,
          65391,
          76370,
          86636,
          97882,
          109790,
          121764,
          134919,
          148499,
          163251,
          177929,
          195146,
          214366,
          230785,
          263330,
          264083
         ]
        },
        {
         "line": {
          "width": 2
         },
         "mode": "lines",
         "name": "AMUNDSON 44X-22HXE",
         "type": "scatter",
         "x": [
          31,
          61,
          91,
          119,
          138,
          155,
          186,
          217,
          247,
          278,
          308,
          339,
          368,
          369,
          390,
          420,
          451,
          481,
          510,
          541,
          571,
          602,
          629,
          630,
          650,
          681,
          712,
          742,
          770,
          795,
          814,
          845,
          875,
          904,
          912,
          929,
          953,
          984,
          1015,
          1045,
          1071,
          1094,
          1105,
          1117,
          1146,
          1177,
          1202,
          1206,
          1236,
          1254,
          1284,
          1314,
          1345,
          1374,
          1377,
          1385
         ],
         "y": [
          1545,
          3342,
          4990,
          6822,
          8298,
          9157,
          10764,
          12432,
          14044,
          15660,
          17631,
          19538,
          21905,
          21930,
          23177,
          24850,
          26685,
          28572,
          30078,
          31954,
          33992,
          36177,
          38466,
          38466,
          39796,
          42176,
          44650,
          47188,
          49870,
          52482,
          54002,
          56838,
          60082,
          64024,
          65039,
          67276,
          72118,
          78253,
          84766,
          91821,
          96494,
          102836,
          104537,
          105488,
          114224,
          127161,
          133954,
          134780,
          140792,
          144789,
          155152,
          167865,
          180650,
          194731,
          196253,
          201249
         ]
        },
        {
         "line": {
          "width": 2
         },
         "mode": "lines",
         "name": "HBU CHARLSON 11-16H",
         "type": "scatter",
         "x": [
          31,
          61,
          92,
          120,
          151,
          182,
          212,
          243,
          273,
          304,
          335,
          365,
          396,
          426,
          457,
          486,
          517,
          548,
          578,
          609,
          639,
          670,
          701,
          731,
          762,
          776,
          781,
          792,
          823,
          854,
          884,
          915,
          945,
          976,
          1007,
          1035,
          1065,
          1093,
          1124,
          1152,
          1172,
          1173,
          1199,
          1228,
          1258,
          1289,
          1320,
          1350,
          1381,
          1394,
          1425,
          1452,
          1483,
          1505,
          1535,
          1566,
          1593,
          1624,
          1655,
          1685,
          1716,
          1746,
          1777,
          1806,
          1829,
          1831,
          1859,
          1889,
          1920,
          1951,
          1980,
          2007,
          2036,
          2067,
          2095,
          2125,
          2150,
          2151,
          2180,
          2210,
          2241,
          2272,
          2302,
          2333,
          2363,
          2394,
          2422,
          2453,
          2484,
          2514,
          2545,
          2574,
          2603,
          2633,
          2663,
          2694,
          2724,
          2742,
          2751,
          2780,
          2799,
          2829,
          2860,
          2890,
          2921,
          2952,
          2982,
          3006,
          3027,
          3058,
          3087,
          3118,
          3149,
          3179,
          3210,
          3240,
          3271,
          3302,
          3332,
          3362,
          3390,
          3421,
          3449,
          3480,
          3511,
          3541,
          3572,
          3602,
          3633,
          3664,
          3694,
          3725,
          3755,
          3786,
          3814,
          3843,
          3874,
          3904,
          3935,
          3965,
          3996,
          4027,
          4057,
          4088,
          4118,
          4149,
          4177,
          4208,
          4239,
          4269,
          4300,
          4330,
          4361,
          4392
         ],
         "y": [
          946,
          1893,
          2897,
          3834,
          4885,
          5981,
          6971,
          8091,
          9192,
          10401,
          11695,
          13051,
          13051,
          13827,
          14970,
          16059,
          17235,
          18440,
          19631,
          20894,
          22127,
          23426,
          24789,
          26122,
          27608,
          28198,
          28205,
          28582,
          29767,
          30391,
          30860,
          31788,
          32725,
          33869,
          35058,
          36252,
          37656,
          38512,
          39862,
          41242,
          42604,
          42608,
          43198,
          44228,
          45461,
          46743,
          48127,
          49487,
          50768,
          50983,
          52154,
          53289,
          54788,
          55856,
          57182,
          58793,
          59854,
          61314,
          62655,
          64225,
          65766,
          67414,
          69174,
          70910,
          72325,
          72539,
          74362,
          74932,
          75461,
          76197,
          76696,
          77151,
          77756,
          78630,
          80200,
          82488,
          84332,
          84332,
          85003,
          85731,
          86514,
          87378,
          88205,
          88979,
          89808,
          90853,
          92022,
          93517,
          95082,
          96618,
          98231,
          99735,
          101200,
          102763,
          104386,
          106059,
          107799,
          109492,
          111204,
          112996,
          113946,
          115707,
          117454,
          119185,
          120920,
          122755,
          124654,
          126662,
          127675,
          129518,
          131288,
          133224,
          135182,
          137115,
          139070,
          140994,
          142987,
          145022,
          147004,
          149183,
          151209,
          153419,
          155528,
          157824,
          160063,
          162467,
          164968,
          166747,
          168895,
          171404,
          173907,
          176597,
          179015,
          181697,
          184467,
          187350,
          190453,
          193549,
          196901,
          200085,
          203645,
          207527,
          211575,
          216574,
          220375,
          224600,
          227346,
          232838,
          237993,
          243676,
          250260,
          258043,
          271365,
          277628
         ]
        },
        {
         "line": {
          "width": 2
         },
         "mode": "lines",
         "name": "WALTON FEDERAL 41X-19BXC",
         "type": "scatter",
         "x": [
          31,
          39,
          54,
          82,
          113,
          122,
          145,
          175,
          193,
          224,
          252,
          253,
          284,
          313,
          334,
          365,
          395,
          418,
          438,
          459
         ],
         "y": [
          11363,
          11375,
          11412,
          11426,
          13253,
          16897,
          27297,
          44426,
          57831,
          85329,
          107804,
          107936,
          133339,
          157440,
          174098,
          203553,
          235465,
          259344,
          278776,
          278776
         ]
        },
        {
         "line": {
          "width": 2
         },
         "mode": "lines",
         "name": "LUND 21X-17B",
         "type": "scatter",
         "x": [
          31,
          61,
          92,
          114,
          143,
          171,
          183,
          200,
          231,
          257,
          287,
          314,
          343,
          374,
          403,
          434,
          465,
          495,
          526,
          556,
          587,
          618,
          648,
          679,
          709,
          740,
          768,
          799,
          830,
          845,
          864,
          895,
          925,
          956,
          986,
          1017,
          1045,
          1076,
          1097
         ],
         "y": [
          1211,
          2735,
          4662,
          5862,
          7933,
          10530,
          10980,
          11805,
          13689,
          15126,
          17441,
          18994,
          21124,
          23886,
          26518,
          29163,
          32294,
          35272,
          39184,
          42222,
          46109,
          49130,
          52759,
          57344,
          62056,
          68685,
          75060,
          82035,
          92252,
          97470,
          103696,
          115298,
          127268,
          140084,
          151716,
          166266,
          185744,
          218095,
          239498
         ]
        },
        {
         "line": {
          "width": 2
         },
         "mode": "lines",
         "name": "ROXY 21X-6EXH",
         "type": "scatter",
         "x": [
          31,
          61,
          92,
          120,
          151,
          182,
          212,
          243,
          273,
          304,
          335,
          364,
          395,
          425,
          456,
          485,
          516,
          547,
          564,
          566,
          573,
          604,
          634,
          657
         ],
         "y": [
          2575,
          5281,
          8427,
          11453,
          16403,
          21783,
          25005,
          28668,
          32996,
          38655,
          46134,
          53035,
          61992,
          69266,
          76074,
          86630,
          102461,
          123768,
          137128,
          137801,
          144148,
          175210,
          213950,
          222393
         ]
        }
       ],
       "layout": {
        "height": 500,
        "template": {
         "data": {
          "bar": [
           {
            "error_x": {
             "color": "#2a3f5f"
            },
            "error_y": {
             "color": "#2a3f5f"
            },
            "marker": {
             "line": {
              "color": "#E5ECF6",
              "width": 0.5
             },
             "pattern": {
              "fillmode": "overlay",
              "size": 10,
              "solidity": 0.2
             }
            },
            "type": "bar"
           }
          ],
          "barpolar": [
           {
            "marker": {
             "line": {
              "color": "#E5ECF6",
              "width": 0.5
             },
             "pattern": {
              "fillmode": "overlay",
              "size": 10,
              "solidity": 0.2
             }
            },
            "type": "barpolar"
           }
          ],
          "carpet": [
           {
            "aaxis": {
             "endlinecolor": "#2a3f5f",
             "gridcolor": "white",
             "linecolor": "white",
             "minorgridcolor": "white",
             "startlinecolor": "#2a3f5f"
            },
            "baxis": {
             "endlinecolor": "#2a3f5f",
             "gridcolor": "white",
             "linecolor": "white",
             "minorgridcolor": "white",
             "startlinecolor": "#2a3f5f"
            },
            "type": "carpet"
           }
          ],
          "choropleth": [
           {
            "colorbar": {
             "outlinewidth": 0,
             "ticks": ""
            },
            "type": "choropleth"
           }
          ],
          "contour": [
           {
            "colorbar": {
             "outlinewidth": 0,
             "ticks": ""
            },
            "colorscale": [
             [
              0,
              "#0d0887"
             ],
             [
              0.1111111111111111,
              "#46039f"
             ],
             [
              0.2222222222222222,
              "#7201a8"
             ],
             [
              0.3333333333333333,
              "#9c179e"
             ],
             [
              0.4444444444444444,
              "#bd3786"
             ],
             [
              0.5555555555555556,
              "#d8576b"
             ],
             [
              0.6666666666666666,
              "#ed7953"
             ],
             [
              0.7777777777777778,
              "#fb9f3a"
             ],
             [
              0.8888888888888888,
              "#fdca26"
             ],
             [
              1,
              "#f0f921"
             ]
            ],
            "type": "contour"
           }
          ],
          "contourcarpet": [
           {
            "colorbar": {
             "outlinewidth": 0,
             "ticks": ""
            },
            "type": "contourcarpet"
           }
          ],
          "heatmap": [
           {
            "colorbar": {
             "outlinewidth": 0,
             "ticks": ""
            },
            "colorscale": [
             [
              0,
              "#0d0887"
             ],
             [
              0.1111111111111111,
              "#46039f"
             ],
             [
              0.2222222222222222,
              "#7201a8"
             ],
             [
              0.3333333333333333,
              "#9c179e"
             ],
             [
              0.4444444444444444,
              "#bd3786"
             ],
             [
              0.5555555555555556,
              "#d8576b"
             ],
             [
              0.6666666666666666,
              "#ed7953"
             ],
             [
              0.7777777777777778,
              "#fb9f3a"
             ],
             [
              0.8888888888888888,
              "#fdca26"
             ],
             [
              1,
              "#f0f921"
             ]
            ],
            "type": "heatmap"
           }
          ],
          "heatmapgl": [
           {
            "colorbar": {
             "outlinewidth": 0,
             "ticks": ""
            },
            "colorscale": [
             [
              0,
              "#0d0887"
             ],
             [
              0.1111111111111111,
              "#46039f"
             ],
             [
              0.2222222222222222,
              "#7201a8"
             ],
             [
              0.3333333333333333,
              "#9c179e"
             ],
             [
              0.4444444444444444,
              "#bd3786"
             ],
             [
              0.5555555555555556,
              "#d8576b"
             ],
             [
              0.6666666666666666,
              "#ed7953"
             ],
             [
              0.7777777777777778,
              "#fb9f3a"
             ],
             [
              0.8888888888888888,
              "#fdca26"
             ],
             [
              1,
              "#f0f921"
             ]
            ],
            "type": "heatmapgl"
           }
          ],
          "histogram": [
           {
            "marker": {
             "pattern": {
              "fillmode": "overlay",
              "size": 10,
              "solidity": 0.2
             }
            },
            "type": "histogram"
           }
          ],
          "histogram2d": [
           {
            "colorbar": {
             "outlinewidth": 0,
             "ticks": ""
            },
            "colorscale": [
             [
              0,
              "#0d0887"
             ],
             [
              0.1111111111111111,
              "#46039f"
             ],
             [
              0.2222222222222222,
              "#7201a8"
             ],
             [
              0.3333333333333333,
              "#9c179e"
             ],
             [
              0.4444444444444444,
              "#bd3786"
             ],
             [
              0.5555555555555556,
              "#d8576b"
             ],
             [
              0.6666666666666666,
              "#ed7953"
             ],
             [
              0.7777777777777778,
              "#fb9f3a"
             ],
             [
              0.8888888888888888,
              "#fdca26"
             ],
             [
              1,
              "#f0f921"
             ]
            ],
            "type": "histogram2d"
           }
          ],
          "histogram2dcontour": [
           {
            "colorbar": {
             "outlinewidth": 0,
             "ticks": ""
            },
            "colorscale": [
             [
              0,
              "#0d0887"
             ],
             [
              0.1111111111111111,
              "#46039f"
             ],
             [
              0.2222222222222222,
              "#7201a8"
             ],
             [
              0.3333333333333333,
              "#9c179e"
             ],
             [
              0.4444444444444444,
              "#bd3786"
             ],
             [
              0.5555555555555556,
              "#d8576b"
             ],
             [
              0.6666666666666666,
              "#ed7953"
             ],
             [
              0.7777777777777778,
              "#fb9f3a"
             ],
             [
              0.8888888888888888,
              "#fdca26"
             ],
             [
              1,
              "#f0f921"
             ]
            ],
            "type": "histogram2dcontour"
           }
          ],
          "mesh3d": [
           {
            "colorbar": {
             "outlinewidth": 0,
             "ticks": ""
            },
            "type": "mesh3d"
           }
          ],
          "parcoords": [
           {
            "line": {
             "colorbar": {
              "outlinewidth": 0,
              "ticks": ""
             }
            },
            "type": "parcoords"
           }
          ],
          "pie": [
           {
            "automargin": true,
            "type": "pie"
           }
          ],
          "scatter": [
           {
            "marker": {
             "colorbar": {
              "outlinewidth": 0,
              "ticks": ""
             }
            },
            "type": "scatter"
           }
          ],
          "scatter3d": [
           {
            "line": {
             "colorbar": {
              "outlinewidth": 0,
              "ticks": ""
             }
            },
            "marker": {
             "colorbar": {
              "outlinewidth": 0,
              "ticks": ""
             }
            },
            "type": "scatter3d"
           }
          ],
          "scattercarpet": [
           {
            "marker": {
             "colorbar": {
              "outlinewidth": 0,
              "ticks": ""
             }
            },
            "type": "scattercarpet"
           }
          ],
          "scattergeo": [
           {
            "marker": {
             "colorbar": {
              "outlinewidth": 0,
              "ticks": ""
             }
            },
            "type": "scattergeo"
           }
          ],
          "scattergl": [
           {
            "marker": {
             "colorbar": {
              "outlinewidth": 0,
              "ticks": ""
             }
            },
            "type": "scattergl"
           }
          ],
          "scattermapbox": [
           {
            "marker": {
             "colorbar": {
              "outlinewidth": 0,
              "ticks": ""
             }
            },
            "type": "scattermapbox"
           }
          ],
          "scatterpolar": [
           {
            "marker": {
             "colorbar": {
              "outlinewidth": 0,
              "ticks": ""
             }
            },
            "type": "scatterpolar"
           }
          ],
          "scatterpolargl": [
           {
            "marker": {
             "colorbar": {
              "outlinewidth": 0,
              "ticks": ""
             }
            },
            "type": "scatterpolargl"
           }
          ],
          "scatterternary": [
           {
            "marker": {
             "colorbar": {
              "outlinewidth": 0,
              "ticks": ""
             }
            },
            "type": "scatterternary"
           }
          ],
          "surface": [
           {
            "colorbar": {
             "outlinewidth": 0,
             "ticks": ""
            },
            "colorscale": [
             [
              0,
              "#0d0887"
             ],
             [
              0.1111111111111111,
              "#46039f"
             ],
             [
              0.2222222222222222,
              "#7201a8"
             ],
             [
              0.3333333333333333,
              "#9c179e"
             ],
             [
              0.4444444444444444,
              "#bd3786"
             ],
             [
              0.5555555555555556,
              "#d8576b"
             ],
             [
              0.6666666666666666,
              "#ed7953"
             ],
             [
              0.7777777777777778,
              "#fb9f3a"
             ],
             [
              0.8888888888888888,
              "#fdca26"
             ],
             [
              1,
              "#f0f921"
             ]
            ],
            "type": "surface"
           }
          ],
          "table": [
           {
            "cells": {
             "fill": {
              "color": "#EBF0F8"
             },
             "line": {
              "color": "white"
             }
            },
            "header": {
             "fill": {
              "color": "#C8D4E3"
             },
             "line": {
              "color": "white"
             }
            },
            "type": "table"
           }
          ]
         },
         "layout": {
          "annotationdefaults": {
           "arrowcolor": "#2a3f5f",
           "arrowhead": 0,
           "arrowwidth": 1
          },
          "autotypenumbers": "strict",
          "coloraxis": {
           "colorbar": {
            "outlinewidth": 0,
            "ticks": ""
           }
          },
          "colorscale": {
           "diverging": [
            [
             0,
             "#8e0152"
            ],
            [
             0.1,
             "#c51b7d"
            ],
            [
             0.2,
             "#de77ae"
            ],
            [
             0.3,
             "#f1b6da"
            ],
            [
             0.4,
             "#fde0ef"
            ],
            [
             0.5,
             "#f7f7f7"
            ],
            [
             0.6,
             "#e6f5d0"
            ],
            [
             0.7,
             "#b8e186"
            ],
            [
             0.8,
             "#7fbc41"
            ],
            [
             0.9,
             "#4d9221"
            ],
            [
             1,
             "#276419"
            ]
           ],
           "sequential": [
            [
             0,
             "#0d0887"
            ],
            [
             0.1111111111111111,
             "#46039f"
            ],
            [
             0.2222222222222222,
             "#7201a8"
            ],
            [
             0.3333333333333333,
             "#9c179e"
            ],
            [
             0.4444444444444444,
             "#bd3786"
            ],
            [
             0.5555555555555556,
             "#d8576b"
            ],
            [
             0.6666666666666666,
             "#ed7953"
            ],
            [
             0.7777777777777778,
             "#fb9f3a"
            ],
            [
             0.8888888888888888,
             "#fdca26"
            ],
            [
             1,
             "#f0f921"
            ]
           ],
           "sequentialminus": [
            [
             0,
             "#0d0887"
            ],
            [
             0.1111111111111111,
             "#46039f"
            ],
            [
             0.2222222222222222,
             "#7201a8"
            ],
            [
             0.3333333333333333,
             "#9c179e"
            ],
            [
             0.4444444444444444,
             "#bd3786"
            ],
            [
             0.5555555555555556,
             "#d8576b"
            ],
            [
             0.6666666666666666,
             "#ed7953"
            ],
            [
             0.7777777777777778,
             "#fb9f3a"
            ],
            [
             0.8888888888888888,
             "#fdca26"
            ],
            [
             1,
             "#f0f921"
            ]
           ]
          },
          "colorway": [
           "#636efa",
           "#EF553B",
           "#00cc96",
           "#ab63fa",
           "#FFA15A",
           "#19d3f3",
           "#FF6692",
           "#B6E880",
           "#FF97FF",
           "#FECB52"
          ],
          "font": {
           "color": "#2a3f5f"
          },
          "geo": {
           "bgcolor": "white",
           "lakecolor": "white",
           "landcolor": "#E5ECF6",
           "showlakes": true,
           "showland": true,
           "subunitcolor": "white"
          },
          "hoverlabel": {
           "align": "left"
          },
          "hovermode": "closest",
          "mapbox": {
           "style": "light"
          },
          "paper_bgcolor": "white",
          "plot_bgcolor": "#E5ECF6",
          "polar": {
           "angularaxis": {
            "gridcolor": "white",
            "linecolor": "white",
            "ticks": ""
           },
           "bgcolor": "#E5ECF6",
           "radialaxis": {
            "gridcolor": "white",
            "linecolor": "white",
            "ticks": ""
           }
          },
          "scene": {
           "xaxis": {
            "backgroundcolor": "#E5ECF6",
            "gridcolor": "white",
            "gridwidth": 2,
            "linecolor": "white",
            "showbackground": true,
            "ticks": "",
            "zerolinecolor": "white"
           },
           "yaxis": {
            "backgroundcolor": "#E5ECF6",
            "gridcolor": "white",
            "gridwidth": 2,
            "linecolor": "white",
            "showbackground": true,
            "ticks": "",
            "zerolinecolor": "white"
           },
           "zaxis": {
            "backgroundcolor": "#E5ECF6",
            "gridcolor": "white",
            "gridwidth": 2,
            "linecolor": "white",
            "showbackground": true,
            "ticks": "",
            "zerolinecolor": "white"
           }
          },
          "shapedefaults": {
           "line": {
            "color": "#2a3f5f"
           }
          },
          "ternary": {
           "aaxis": {
            "gridcolor": "white",
            "linecolor": "white",
            "ticks": ""
           },
           "baxis": {
            "gridcolor": "white",
            "linecolor": "white",
            "ticks": ""
           },
           "bgcolor": "#E5ECF6",
           "caxis": {
            "gridcolor": "white",
            "linecolor": "white",
            "ticks": ""
           }
          },
          "title": {
           "x": 0.05
          },
          "xaxis": {
           "automargin": true,
           "gridcolor": "white",
           "linecolor": "white",
           "ticks": "",
           "title": {
            "standoff": 15
           },
           "zerolinecolor": "white",
           "zerolinewidth": 2
          },
          "yaxis": {
           "automargin": true,
           "gridcolor": "white",
           "linecolor": "white",
           "ticks": "",
           "title": {
            "standoff": 15
           },
           "zerolinecolor": "white",
           "zerolinewidth": 2
          }
         }
        },
        "width": 700,
        "xaxis": {
         "autorange": true,
         "range": [
          28,
          4392
         ],
         "title": {
          "text": "Producing Days"
         },
         "type": "linear"
        },
        "yaxis": {
         "autorange": true,
         "range": [
          -19246.444444444445,
          384602.44444444444
         ],
         "title": {
          "text": "Cumulative Oil bbl"
         },
         "type": "linear"
        }
       }
      },
      "image/png": "[encoded data removed]",
      "text/html": [
       "<div>                            <div id=\"7246ae4b-9ce4-431d-b3af-cdc07015e07c\" class=\"plotly-graph-div\" style=\"height:500px; width:700px;\"></div>            <script type=\"text/javascript\">                require([\"plotly\"], function(Plotly) {                    window.PLOTLYENV=window.PLOTLYENV || {};                                    if (document.getElementById(\"7246ae4b-9ce4-431d-b3af-cdc07015e07c\")) {                    Plotly.newPlot(                        \"7246ae4b-9ce4-431d-b3af-cdc07015e07c\",                        [{\"line\":{\"width\":2},\"mode\":\"lines\",\"name\":\"BULLY FEDERAL 44X-20A\",\"type\":\"scatter\",\"x\":[31,61,92,118,149,180,207,238,268,298,329,359,390,420,451,476,507,538,568,598,628,659,690,705,736,765,796,822,853,884,910,939,963,994,1021,1051,1082,1112,1128,1149,1180,1211,1241,1272,1302,1333,1357,1387,1417,1434,1460,1485,1515,1546,1576,1605,1633,1664,1695,1724,1755,1783,1812,1841,1857,1886,1913,1931,1950,1981,2006,2035,2052,2069,2096,2117,2136,2167,2197,2227,2258,2289,2319,2350,2379,2390],\"y\":[1602,4170,7369,8512,9980,11786,13188,15025,16830,18933,21182,23234,25320,27358,29190,30642,32417,34253,36223,37679,39141,40161,41420,42036,43779,45152,46556,48129,49957,51936,53506,55651,57098,58934,60350,62361,64664,67421,68700,70058,72410,74993,77715,80724,83313,86392,88748,92043,95157,96581,98808,100782,103266,106513,109999,113848,117080,123174,126281,130306,134055,139610,144009,151554,153387,157133,164032,169627,173622,177406,182019,184728,191965,194184,200699,202616,204937,215234,223631,241467,257770,272877,298494,332778,354690,364410]},{\"line\":{\"width\":2},\"mode\":\"lines\",\"name\":\"FBIR BLACKMEDICINE 24X-21E\",\"type\":\"scatter\",\"x\":[28,55,86,114,145,176,206,237,267,298,329,359,364,392,423,452,483,514,540,570,600,631,661,691,722,752,756,781,809,827,841,872,890,920,951,981,1009,1010,1018,1019,1020,1038,1060],\"y\":[2370,3946,6176,8469,10830,13285,16412,19771,22991,26072,29428,32292,32735,35823,39089,41970,45053,47556,49402,51158,53352,55780,58519,61495,64664,67538,67559,70956,74938,76322,78779,84901,86813,89782,91144,92372,94106,94190,96168,96184,96201,100579,104662]},{\"line\":{\"width\":2},\"mode\":\"lines\",\"name\":\"FBIR YELLOWWOLF 31X-10DXA\",\"type\":\"scatter\",\"x\":[31,61,92,120,151,182,212,243,273,304,335,365,396,426,457,486,517,548,574,604,632],\"y\":[9243,17334,26373,35220,44999,55298,65391,76370,86636,97882,109790,121764,134919,148499,163251,177929,195146,214366,230785,263330,264083]},{\"line\":{\"width\":2},\"mode\":\"lines\",\"name\":\"AMUNDSON 44X-22HXE\",\"type\":\"scatter\",\"x\":[31,61,91,119,138,155,186,217,247,278,308,339,368,369,390,420,451,481,510,541,571,602,629,630,650,681,712,742,770,795,814,845,875,904,912,929,953,984,1015,1045,1071,1094,1105,1117,1146,1177,1202,1206,1236,1254,1284,1314,1345,1374,1377,1385],\"y\":[1545,3342,4990,6822,8298,9157,10764,12432,14044,15660,17631,19538,21905,21930,23177,24850,26685,28572,30078,31954,33992,36177,38466,38466,39796,42176,44650,47188,49870,52482,54002,56838,60082,64024,65039,67276,72118,78253,84766,91821,96494,102836,104537,105488,114224,127161,133954,134780,140792,144789,155152,167865,180650,194731,196253,201249]},{\"line\":{\"width\":2},\"mode\":\"lines\",\"name\":\"HBU CHARLSON 11-16H\",\"type\":\"scatter\",\"x\":[31,61,92,120,151,182,212,243,273,304,335,365,396,426,457,486,517,548,578,609,639,670,701,731,762,776,781,792,823,854,884,915,945,976,1007,1035,1065,1093,1124,1152,1172,1173,1199,1228,1258,1289,1320,1350,1381,1394,1425,1452,1483,1505,1535,1566,1593,1624,1655,1685,1716,1746,1777,1806,1829,1831,1859,1889,1920,1951,1980,2007,2036,2067,2095,2125,2150,2151,2180,2210,2241,2272,2302,2333,2363,2394,2422,2453,2484,2514,2545,2574,2603,2633,2663,2694,2724,2742,2751,2780,2799,2829,2860,2890,2921,2952,2982,3006,3027,3058,3087,3118,3149,3179,3210,3240,3271,3302,3332,3362,3390,3421,3449,3480,3511,3541,3572,3602,3633,3664,3694,3725,3755,3786,3814,3843,3874,3904,3935,3965,3996,4027,4057,4088,4118,4149,4177,4208,4239,4269,4300,4330,4361,4392],\"y\":[946,1893,2897,3834,4885,5981,6971,8091,9192,10401,11695,13051,13051,13827,14970,16059,17235,18440,19631,20894,22127,23426,24789,26122,27608,28198,28205,28582,29767,30391,30860,31788,32725,33869,35058,36252,37656,38512,39862,41242,42604,42608,43198,44228,45461,46743,48127,49487,50768,50983,52154,53289,54788,55856,57182,58793,59854,61314,62655,64225,65766,67414,69174,70910,72325,72539,74362,74932,75461,76197,76696,77151,77756,78630,80200,82488,84332,84332,85003,85731,86514,87378,88205,88979,89808,90853,92022,93517,95082,96618,98231,99735,101200,102763,104386,106059,107799,109492,111204,112996,113946,115707,117454,119185,120920,122755,124654,126662,127675,129518,131288,133224,135182,137115,139070,140994,142987,145022,147004,149183,151209,153419,155528,157824,160063,162467,164968,166747,168895,171404,173907,176597,179015,181697,184467,187350,190453,193549,196901,200085,203645,207527,211575,216574,220375,224600,227346,232838,237993,243676,250260,258043,271365,277628]},{\"line\":{\"width\":2},\"mode\":\"lines\",\"name\":\"WALTON FEDERAL 41X-19BXC\",\"type\":\"scatter\",\"x\":[31,39,54,82,113,122,145,175,193,224,252,253,284,313,334,365,395,418,438,459],\"y\":[11363,11375,11412,11426,13253,16897,27297,44426,57831,85329,107804,107936,133339,157440,174098,203553,235465,259344,278776,278776]},{\"line\":{\"width\":2},\"mode\":\"lines\",\"name\":\"LUND 21X-17B\",\"type\":\"scatter\",\"x\":[31,61,92,114,143,171,183,200,231,257,287,314,343,374,403,434,465,495,526,556,587,618,648,679,709,740,768,799,830,845,864,895,925,956,986,1017,1045,1076,1097],\"y\":[1211,2735,4662,5862,7933,10530,10980,11805,13689,15126,17441,18994,21124,23886,26518,29163,32294,35272,39184,42222,46109,49130,52759,57344,62056,68685,75060,82035,92252,97470,103696,115298,127268,140084,151716,166266,185744,218095,239498]},{\"line\":{\"width\":2},\"mode\":\"lines\",\"name\":\"ROXY 21X-6EXH\",\"type\":\"scatter\",\"x\":[31,61,92,120,151,182,212,243,273,304,335,364,395,425,456,485,516,547,564,566,573,604,634,657],\"y\":[2575,5281,8427,11453,16403,21783,25005,28668,32996,38655,46134,53035,61992,69266,76074,86630,102461,123768,137128,137801,144148,175210,213950,222393]}],                        {\"height\":500,\"template\":{\"data\":{\"bar\":[{\"error_x\":{\"color\":\"#2a3f5f\"},\"error_y\":{\"color\":\"#2a3f5f\"},\"marker\":{\"line\":{\"color\":\"#E5ECF6\",\"width\":0.5},\"pattern\":{\"fillmode\":\"overlay\",\"size\":10,\"solidity\":0.2}},\"type\":\"bar\"}],\"barpolar\":[{\"marker\":{\"line\":{\"color\":\"#E5ECF6\",\"width\":0.5},\"pattern\":{\"fillmode\":\"overlay\",\"size\":10,\"solidity\":0.2}},\"type\":\"barpolar\"}],\"carpet\":[{\"aaxis\":{\"endlinecolor\":\"#2a3f5f\",\"gridcolor\":\"white\",\"linecolor\":\"white\",\"minorgridcolor\":\"white\",\"startlinecolor\":\"#2a3f5f\"},\"baxis\":{\"endlinecolor\":\"#2a3f5f\",\"gridcolor\":\"white\",\"linecolor\":\"white\",\"minorgridcolor\":\"white\",\"startlinecolor\":\"#2a3f5f\"},\"type\":\"carpet\"}],\"choropleth\":[{\"colorbar\":{\"outlinewidth\":0,\"ticks\":\"\"},\"type\":\"choropleth\"}],\"contour\":[{\"colorbar\":{\"outlinewidth\":0,\"ticks\":\"\"},\"colorscale\":[[0.0,\"#0d0887\"],[0.1111111111111111,\"#46039f\"],[0.2222222222222222,\"#7201a8\"],[0.3333333333333333,\"#9c179e\"],[0.4444444444444444,\"#bd3786\"],[0.5555555555555556,\"#d8576b\"],[0.6666666666666666,\"#ed7953\"],[0.7777777777777778,\"#fb9f3a\"],[0.8888888888888888,\"#fdca26\"],[1.0,\"#f0f921\"]],\"type\":\"contour\"}],\"contourcarpet\":[{\"colorbar\":{\"outlinewidth\":0,\"ticks\":\"\"},\"type\":\"contourcarpet\"}],\"heatmap\":[{\"colorbar\":{\"outlinewidth\":0,\"ticks\":\"\"},\"colorscale\":[[0.0,\"#0d0887\"],[0.1111111111111111,\"#46039f\"],[0.2222222222222222,\"#7201a8\"],[0.3333333333333333,\"#9c179e\"],[0.4444444444444444,\"#bd3786\"],[0.5555555555555556,\"#d8576b\"],[0.6666666666666666,\"#ed7953\"],[0.7777777777777778,\"#fb9f3a\"],[0.8888888888888888,\"#fdca26\"],[1.0,\"#f0f921\"]],\"type\":\"heatmap\"}],\"heatmapgl\":[{\"colorbar\":{\"outlinewidth\":0,\"ticks\":\"\"},\"colorscale\":[[0.0,\"#0d0887\"],[0.1111111111111111,\"#46039f\"],[0.2222222222222222,\"#7201a8\"],[0.3333333333333333,\"#9c179e\"],[0.4444444444444444,\"#bd3786\"],[0.5555555555555556,\"#d8576b\"],[0.6666666666666666,\"#ed7953\"],[0.7777777777777778,\"#fb9f3a\"],[0.8888888888888888,\"#fdca26\"],[1.0,\"#f0f921\"]],\"type\":\"heatmapgl\"}],\"histogram\":[{\"marker\":{\"pattern\":{\"fillmode\":\"overlay\",\"size\":10,\"solidity\":0.2}},\"type\":\"histogram\"}],\"histogram2d\":[{\"colorbar\":{\"outlinewidth\":0,\"ticks\":\"\"},\"colorscale\":[[0.0,\"#0d0887\"],[0.1111111111111111,\"#46039f\"],[0.2222222222222222,\"#7201a8\"],[0.3333333333333333,\"#9c179e\"],[0.4444444444444444,\"#bd3786\"],[0.5555555555555556,\"#d8576b\"],[0.6666666666666666,\"#ed7953\"],[0.7777777777777778,\"#fb9f3a\"],[0.8888888888888888,\"#fdca26\"],[1.0,\"#f0f921\"]],\"type\":\"histogram2d\"}],\"histogram2dcontour\":[{\"colorbar\":{\"outlinewidth\":0,\"ticks\":\"\"},\"colorscale\":[[0.0,\"#0d0887\"],[0.1111111111111111,\"#46039f\"],[0.2222222222222222,\"#7201a8\"],[0.3333333333333333,\"#9c179e\"],[0.4444444444444444,\"#bd3786\"],[0.5555555555555556,\"#d8576b\"],[0.6666666666666666,\"#ed7953\"],[0.7777777777777778,\"#fb9f3a\"],[0.8888888888888888,\"#fdca26\"],[1.0,\"#f0f921\"]],\"type\":\"histogram2dcontour\"}],\"mesh3d\":[{\"colorbar\":{\"outlinewidth\":0,\"ticks\":\"\"},\"type\":\"mesh3d\"}],\"parcoords\":[{\"line\":{\"colorbar\":{\"outlinewidth\":0,\"ticks\":\"\"}},\"type\":\"parcoords\"}],\"pie\":[{\"automargin\":true,\"type\":\"pie\"}],\"scatter\":[{\"marker\":{\"colorbar\":{\"outlinewidth\":0,\"ticks\":\"\"}},\"type\":\"scatter\"}],\"scatter3d\":[{\"line\":{\"colorbar\":{\"outlinewidth\":0,\"ticks\":\"\"}},\"marker\":{\"colorbar\":{\"outlinewidth\":0,\"ticks\":\"\"}},\"type\":\"scatter3d\"}],\"scattercarpet\":[{\"marker\":{\"colorbar\":{\"outlinewidth\":0,\"ticks\":\"\"}},\"type\":\"scattercarpet\"}],\"scattergeo\":[{\"marker\":{\"colorbar\":{\"outlinewidth\":0,\"ticks\":\"\"}},\"type\":\"scattergeo\"}],\"scattergl\":[{\"marker\":{\"colorbar\":{\"outlinewidth\":0,\"ticks\":\"\"}},\"type\":\"scattergl\"}],\"scattermapbox\":[{\"marker\":{\"colorbar\":{\"outlinewidth\":0,\"ticks\":\"\"}},\"type\":\"scattermapbox\"}],\"scatterpolar\":[{\"marker\":{\"colorbar\":{\"outlinewidth\":0,\"ticks\":\"\"}},\"type\":\"scatterpolar\"}],\"scatterpolargl\":[{\"marker\":{\"colorbar\":{\"outlinewidth\":0,\"ticks\":\"\"}},\"type\":\"scatterpolargl\"}],\"scatterternary\":[{\"marker\":{\"colorbar\":{\"outlinewidth\":0,\"ticks\":\"\"}},\"type\":\"scatterternary\"}],\"surface\":[{\"colorbar\":{\"outlinewidth\":0,\"ticks\":\"\"},\"colorscale\":[[0.0,\"#0d0887\"],[0.1111111111111111,\"#46039f\"],[0.2222222222222222,\"#7201a8\"],[0.3333333333333333,\"#9c179e\"],[0.4444444444444444,\"#bd3786\"],[0.5555555555555556,\"#d8576b\"],[0.6666666666666666,\"#ed7953\"],[0.7777777777777778,\"#fb9f3a\"],[0.8888888888888888,\"#fdca26\"],[1.0,\"#f0f921\"]],\"type\":\"surface\"}],\"table\":[{\"cells\":{\"fill\":{\"color\":\"#EBF0F8\"},\"line\":{\"color\":\"white\"}},\"header\":{\"fill\":{\"color\":\"#C8D4E3\"},\"line\":{\"color\":\"white\"}},\"type\":\"table\"}]},\"layout\":{\"annotationdefaults\":{\"arrowcolor\":\"#2a3f5f\",\"arrowhead\":0,\"arrowwidth\":1},\"autotypenumbers\":\"strict\",\"coloraxis\":{\"colorbar\":{\"outlinewidth\":0,\"ticks\":\"\"}},\"colorscale\":{\"diverging\":[[0,\"#8e0152\"],[0.1,\"#c51b7d\"],[0.2,\"#de77ae\"],[0.3,\"#f1b6da\"],[0.4,\"#fde0ef\"],[0.5,\"#f7f7f7\"],[0.6,\"#e6f5d0\"],[0.7,\"#b8e186\"],[0.8,\"#7fbc41\"],[0.9,\"#4d9221\"],[1,\"#276419\"]],\"sequential\":[[0.0,\"#0d0887\"],[0.1111111111111111,\"#46039f\"],[0.2222222222222222,\"#7201a8\"],[0.3333333333333333,\"#9c179e\"],[0.4444444444444444,\"#bd3786\"],[0.5555555555555556,\"#d8576b\"],[0.6666666666666666,\"#ed7953\"],[0.7777777777777778,\"#fb9f3a\"],[0.8888888888888888,\"#fdca26\"],[1.0,\"#f0f921\"]],\"sequentialminus\":[[0.0,\"#0d0887\"],[0.1111111111111111,\"#46039f\"],[0.2222222222222222,\"#7201a8\"],[0.3333333333333333,\"#9c179e\"],[0.4444444444444444,\"#bd3786\"],[0.5555555555555556,\"#d8576b\"],[0.6666666666666666,\"#ed7953\"],[0.7777777777777778,\"#fb9f3a\"],[0.8888888888888888,\"#fdca26\"],[1.0,\"#f0f921\"]]},\"colorway\":[\"#636efa\",\"#EF553B\",\"#00cc96\",\"#ab63fa\",\"#FFA15A\",\"#19d3f3\",\"#FF6692\",\"#B6E880\",\"#FF97FF\",\"#FECB52\"],\"font\":{\"color\":\"#2a3f5f\"},\"geo\":{\"bgcolor\":\"white\",\"lakecolor\":\"white\",\"landcolor\":\"#E5ECF6\",\"showlakes\":true,\"showland\":true,\"subunitcolor\":\"white\"},\"hoverlabel\":{\"align\":\"left\"},\"hovermode\":\"closest\",\"mapbox\":{\"style\":\"light\"},\"paper_bgcolor\":\"white\",\"plot_bgcolor\":\"#E5ECF6\",\"polar\":{\"angularaxis\":{\"gridcolor\":\"white\",\"linecolor\":\"white\",\"ticks\":\"\"},\"bgcolor\":\"#E5ECF6\",\"radialaxis\":{\"gridcolor\":\"white\",\"linecolor\":\"white\",\"ticks\":\"\"}},\"scene\":{\"xaxis\":{\"backgroundcolor\":\"#E5ECF6\",\"gridcolor\":\"white\",\"gridwidth\":2,\"linecolor\":\"white\",\"showbackground\":true,\"ticks\":\"\",\"zerolinecolor\":\"white\"},\"yaxis\":{\"backgroundcolor\":\"#E5ECF6\",\"gridcolor\":\"white\",\"gridwidth\":2,\"linecolor\":\"white\",\"showbackground\":true,\"ticks\":\"\",\"zerolinecolor\":\"white\"},\"zaxis\":{\"backgroundcolor\":\"#E5ECF6\",\"gridcolor\":\"white\",\"gridwidth\":2,\"linecolor\":\"white\",\"showbackground\":true,\"ticks\":\"\",\"zerolinecolor\":\"white\"}},\"shapedefaults\":{\"line\":{\"color\":\"#2a3f5f\"}},\"ternary\":{\"aaxis\":{\"gridcolor\":\"white\",\"linecolor\":\"white\",\"ticks\":\"\"},\"baxis\":{\"gridcolor\":\"white\",\"linecolor\":\"white\",\"ticks\":\"\"},\"bgcolor\":\"#E5ECF6\",\"caxis\":{\"gridcolor\":\"white\",\"linecolor\":\"white\",\"ticks\":\"\"}},\"title\":{\"x\":0.05},\"xaxis\":{\"automargin\":true,\"gridcolor\":\"white\",\"linecolor\":\"white\",\"ticks\":\"\",\"title\":{\"standoff\":15},\"zerolinecolor\":\"white\",\"zerolinewidth\":2},\"yaxis\":{\"automargin\":true,\"gridcolor\":\"white\",\"linecolor\":\"white\",\"ticks\":\"\",\"title\":{\"standoff\":15},\"zerolinecolor\":\"white\",\"zerolinewidth\":2}}},\"width\":700,\"xaxis\":{\"title\":{\"text\":\"Producing Days\"}},\"yaxis\":{\"title\":{\"text\":\"Cumulative Oil bbl\"}}},                        {\"responsive\": true}                    ).then(function(){\n",
       "                            \n",
       "var gd = document.getElementById('7246ae4b-9ce4-431d-b3af-cdc07015e07c');\n",
       "var x = new MutationObserver(function (mutations, observer) {{\n",
       "        var display = window.getComputedStyle(gd).display;\n",
       "        if (!display || display === 'none') {{\n",
       "            console.log([gd, 'removed!']);\n",
       "            Plotly.purge(gd);\n",
       "            observer.disconnect();\n",
       "        }}\n",
       "}});\n",
       "\n",
       "// Listen for the removal of the full notebook cells\n",
       "var notebookContainer = gd.closest('#notebook-container');\n",
       "if (notebookContainer) {{\n",
       "    x.observe(notebookContainer, {childList: true});\n",
       "}}\n",
       "\n",
       "// Listen for the clearing of the current output cell\n",
       "var outputEl = gd.closest('.output');\n",
       "if (outputEl) {{\n",
       "    x.observe(outputEl, {childList: true});\n",
       "}}\n",
       "\n",
       "                        })                };                });            </script>        </div>"
      ]
     },
     "metadata": {},
     "output_type": "display_data"
    }
   ],
   "source": [
    "df9 = df_header[df_header['Current_Operator'].str.contains('XTO')].sample(8)\n",
    "df_prod = df_production.copy()\n",
    "# ---------------------------------------------------------\n",
    "STREAM_PLOT(dataframe = df9, \n",
    "            production_dataframe = df_prod, \n",
    "            material = 'Oil', \n",
    "            cumulative = 1, \n",
    "            line_width = 2,\n",
    "            width = 700, height = 500 )"
   ]
  },
  {
   "cell_type": "markdown",
   "metadata": {},
   "source": [
    "## Water / Oil Ratio Plot"
   ]
  },
  {
   "cell_type": "code",
   "execution_count": 12,
   "metadata": {
    "collapsed": true,
    "jupyter": {
     "outputs_hidden": true
    },
    "tags": []
   },
   "outputs": [
    {
     "ename": "KeyError",
     "evalue": "'Vintage_Year'",
     "output_type": "error",
     "traceback": [
      "\u001b[0;31m---------------------------------------------------------------------------\u001b[0m",
      "\u001b[0;31mKeyError\u001b[0m                                  Traceback (most recent call last)",
      "\u001b[0;32m/opt/anaconda3/lib/python3.8/site-packages/pandas/core/indexes/base.py\u001b[0m in \u001b[0;36mget_loc\u001b[0;34m(self, key, method, tolerance)\u001b[0m\n\u001b[1;32m   3079\u001b[0m             \u001b[0;32mtry\u001b[0m\u001b[0;34m:\u001b[0m\u001b[0;34m\u001b[0m\u001b[0;34m\u001b[0m\u001b[0m\n\u001b[0;32m-> 3080\u001b[0;31m                 \u001b[0;32mreturn\u001b[0m \u001b[0mself\u001b[0m\u001b[0;34m.\u001b[0m\u001b[0m_engine\u001b[0m\u001b[0;34m.\u001b[0m\u001b[0mget_loc\u001b[0m\u001b[0;34m(\u001b[0m\u001b[0mcasted_key\u001b[0m\u001b[0;34m)\u001b[0m\u001b[0;34m\u001b[0m\u001b[0;34m\u001b[0m\u001b[0m\n\u001b[0m\u001b[1;32m   3081\u001b[0m             \u001b[0;32mexcept\u001b[0m \u001b[0mKeyError\u001b[0m \u001b[0;32mas\u001b[0m \u001b[0merr\u001b[0m\u001b[0;34m:\u001b[0m\u001b[0;34m\u001b[0m\u001b[0;34m\u001b[0m\u001b[0m\n",
      "\u001b[0;32mpandas/_libs/index.pyx\u001b[0m in \u001b[0;36mpandas._libs.index.IndexEngine.get_loc\u001b[0;34m()\u001b[0m\n",
      "\u001b[0;32mpandas/_libs/index.pyx\u001b[0m in \u001b[0;36mpandas._libs.index.IndexEngine.get_loc\u001b[0;34m()\u001b[0m\n",
      "\u001b[0;32mpandas/_libs/hashtable_class_helper.pxi\u001b[0m in \u001b[0;36mpandas._libs.hashtable.PyObjectHashTable.get_item\u001b[0;34m()\u001b[0m\n",
      "\u001b[0;32mpandas/_libs/hashtable_class_helper.pxi\u001b[0m in \u001b[0;36mpandas._libs.hashtable.PyObjectHashTable.get_item\u001b[0;34m()\u001b[0m\n",
      "\u001b[0;31mKeyError\u001b[0m: 'Vintage_Year'",
      "\nThe above exception was the direct cause of the following exception:\n",
      "\u001b[0;31mKeyError\u001b[0m                                  Traceback (most recent call last)",
      "\u001b[0;32m<ipython-input-12-e7c500b64a39>\u001b[0m in \u001b[0;36m<module>\u001b[0;34m\u001b[0m\n\u001b[0;32m----> 1\u001b[0;31m \u001b[0mdf9\u001b[0m \u001b[0;34m=\u001b[0m \u001b[0mdf_header\u001b[0m\u001b[0;34m[\u001b[0m\u001b[0mdf_header\u001b[0m\u001b[0;34m[\u001b[0m\u001b[0;34m'Vintage_Year'\u001b[0m\u001b[0;34m]\u001b[0m \u001b[0;34m>\u001b[0m \u001b[0;36m2008\u001b[0m\u001b[0;34m]\u001b[0m\u001b[0;34m.\u001b[0m\u001b[0msample\u001b[0m\u001b[0;34m(\u001b[0m\u001b[0;36m1500\u001b[0m\u001b[0;34m)\u001b[0m\u001b[0;34m\u001b[0m\u001b[0;34m\u001b[0m\u001b[0m\n\u001b[0m\u001b[1;32m      2\u001b[0m \u001b[0mdf_prod\u001b[0m \u001b[0;34m=\u001b[0m \u001b[0mdf_production\u001b[0m\u001b[0;34m[\u001b[0m\u001b[0mdf_production\u001b[0m\u001b[0;34m[\u001b[0m\u001b[0;34m'WOR'\u001b[0m\u001b[0;34m]\u001b[0m\u001b[0;34m.\u001b[0m\u001b[0mbetween\u001b[0m\u001b[0;34m(\u001b[0m\u001b[0;36m0\u001b[0m\u001b[0;34m,\u001b[0m\u001b[0;36m10\u001b[0m\u001b[0;34m)\u001b[0m\u001b[0;34m]\u001b[0m\u001b[0;34m\u001b[0m\u001b[0;34m\u001b[0m\u001b[0m\n\u001b[1;32m      3\u001b[0m \u001b[0;31m# ---------------------------------------------------------\u001b[0m\u001b[0;34m\u001b[0m\u001b[0;34m\u001b[0m\u001b[0;34m\u001b[0m\u001b[0m\n\u001b[1;32m      4\u001b[0m STREAM_PLOT(dataframe = df9, \n\u001b[1;32m      5\u001b[0m             \u001b[0mproduction_dataframe\u001b[0m \u001b[0;34m=\u001b[0m \u001b[0mdf_prod\u001b[0m\u001b[0;34m,\u001b[0m\u001b[0;34m\u001b[0m\u001b[0;34m\u001b[0m\u001b[0m\n",
      "\u001b[0;32m/opt/anaconda3/lib/python3.8/site-packages/pandas/core/frame.py\u001b[0m in \u001b[0;36m__getitem__\u001b[0;34m(self, key)\u001b[0m\n\u001b[1;32m   3022\u001b[0m             \u001b[0;32mif\u001b[0m \u001b[0mself\u001b[0m\u001b[0;34m.\u001b[0m\u001b[0mcolumns\u001b[0m\u001b[0;34m.\u001b[0m\u001b[0mnlevels\u001b[0m \u001b[0;34m>\u001b[0m \u001b[0;36m1\u001b[0m\u001b[0;34m:\u001b[0m\u001b[0;34m\u001b[0m\u001b[0;34m\u001b[0m\u001b[0m\n\u001b[1;32m   3023\u001b[0m                 \u001b[0;32mreturn\u001b[0m \u001b[0mself\u001b[0m\u001b[0;34m.\u001b[0m\u001b[0m_getitem_multilevel\u001b[0m\u001b[0;34m(\u001b[0m\u001b[0mkey\u001b[0m\u001b[0;34m)\u001b[0m\u001b[0;34m\u001b[0m\u001b[0;34m\u001b[0m\u001b[0m\n\u001b[0;32m-> 3024\u001b[0;31m             \u001b[0mindexer\u001b[0m \u001b[0;34m=\u001b[0m \u001b[0mself\u001b[0m\u001b[0;34m.\u001b[0m\u001b[0mcolumns\u001b[0m\u001b[0;34m.\u001b[0m\u001b[0mget_loc\u001b[0m\u001b[0;34m(\u001b[0m\u001b[0mkey\u001b[0m\u001b[0;34m)\u001b[0m\u001b[0;34m\u001b[0m\u001b[0;34m\u001b[0m\u001b[0m\n\u001b[0m\u001b[1;32m   3025\u001b[0m             \u001b[0;32mif\u001b[0m \u001b[0mis_integer\u001b[0m\u001b[0;34m(\u001b[0m\u001b[0mindexer\u001b[0m\u001b[0;34m)\u001b[0m\u001b[0;34m:\u001b[0m\u001b[0;34m\u001b[0m\u001b[0;34m\u001b[0m\u001b[0m\n\u001b[1;32m   3026\u001b[0m                 \u001b[0mindexer\u001b[0m \u001b[0;34m=\u001b[0m \u001b[0;34m[\u001b[0m\u001b[0mindexer\u001b[0m\u001b[0;34m]\u001b[0m\u001b[0;34m\u001b[0m\u001b[0;34m\u001b[0m\u001b[0m\n",
      "\u001b[0;32m/opt/anaconda3/lib/python3.8/site-packages/pandas/core/indexes/base.py\u001b[0m in \u001b[0;36mget_loc\u001b[0;34m(self, key, method, tolerance)\u001b[0m\n\u001b[1;32m   3080\u001b[0m                 \u001b[0;32mreturn\u001b[0m \u001b[0mself\u001b[0m\u001b[0;34m.\u001b[0m\u001b[0m_engine\u001b[0m\u001b[0;34m.\u001b[0m\u001b[0mget_loc\u001b[0m\u001b[0;34m(\u001b[0m\u001b[0mcasted_key\u001b[0m\u001b[0;34m)\u001b[0m\u001b[0;34m\u001b[0m\u001b[0;34m\u001b[0m\u001b[0m\n\u001b[1;32m   3081\u001b[0m             \u001b[0;32mexcept\u001b[0m \u001b[0mKeyError\u001b[0m \u001b[0;32mas\u001b[0m \u001b[0merr\u001b[0m\u001b[0;34m:\u001b[0m\u001b[0;34m\u001b[0m\u001b[0;34m\u001b[0m\u001b[0m\n\u001b[0;32m-> 3082\u001b[0;31m                 \u001b[0;32mraise\u001b[0m \u001b[0mKeyError\u001b[0m\u001b[0;34m(\u001b[0m\u001b[0mkey\u001b[0m\u001b[0;34m)\u001b[0m \u001b[0;32mfrom\u001b[0m \u001b[0merr\u001b[0m\u001b[0;34m\u001b[0m\u001b[0;34m\u001b[0m\u001b[0m\n\u001b[0m\u001b[1;32m   3083\u001b[0m \u001b[0;34m\u001b[0m\u001b[0m\n\u001b[1;32m   3084\u001b[0m         \u001b[0;32mif\u001b[0m \u001b[0mtolerance\u001b[0m \u001b[0;32mis\u001b[0m \u001b[0;32mnot\u001b[0m \u001b[0;32mNone\u001b[0m\u001b[0;34m:\u001b[0m\u001b[0;34m\u001b[0m\u001b[0;34m\u001b[0m\u001b[0m\n",
      "\u001b[0;31mKeyError\u001b[0m: 'Vintage_Year'"
     ]
    }
   ],
   "source": [
    "df9 = df_header[df_header['Vintage_Year'] > 2008].sample(1500)\n",
    "df_prod = df_production[df_production['WOR'].between(0,10)]\n",
    "# ---------------------------------------------------------\n",
    "STREAM_PLOT(dataframe = df9, \n",
    "            production_dataframe = df_prod, \n",
    "            material = 'WOR', \n",
    "            cumulative = 0, \n",
    "            variable = 'Vintage_Year', \n",
    "            variable_dict = {'2008-2012':'grey','2012-2014':'gold','2014-2016':'orange','2016-2018':'red','2018-2020':'blue'},\n",
    "            averages = 1,\n",
    "            all_streams = 0,\n",
    "            width = 800, height = 600 )"
   ]
  },
  {
   "cell_type": "markdown",
   "metadata": {},
   "source": [
    "## Production by ~Depth / Pressure"
   ]
  },
  {
   "cell_type": "code",
   "execution_count": null,
   "metadata": {},
   "outputs": [],
   "source": [
    "df9 = df_header.sample(5000)\n",
    "df_prod = df_production.copy()\n",
    "# ---------------------------------------------------------\n",
    "STREAM_PLOT(dataframe = df9, \n",
    "            production_dataframe = df_prod, \n",
    "            material = 'Oil', \n",
    "            cumulative =10, \n",
    "            variable = 'Top_Perf', \n",
    "            variable_dict = {'0-9000':'grey','9000-1000':'gold','10000-11000':'orange','11000-12000':'red','12000-13000':'blue'},\n",
    "            averages = 1,\n",
    "            all_streams = 0,\n",
    "            width = 800, height = 600 )"
   ]
  },
  {
   "cell_type": "markdown",
   "metadata": {},
   "source": [
    "## What areas have produced the most oil?"
   ]
  },
  {
   "cell_type": "code",
   "execution_count": null,
   "metadata": {},
   "outputs": [],
   "source": [
    "query = %sql SELECT p.UWI, h.Block, COUNT(DISTINCT p.UWI) AS 'Wells_Per_Block', SUM(p.Oil) AS 'Cumulative_Oil_Per_Block' FROM prod_table_clean p JOIN header_table_clean h ON p.UWI = h.UWI GROUP BY Block ORDER BY Cumulative_Oil_Per_Block desc\n",
    "\n",
    "df_block = query.DataFrame()\n",
    "df_block.drop(columns='UWI',inplace=True)\n",
    "df_block.set_index('Block',inplace=True)\n",
    "df_block['Cum_Oil_Per_Well_Block'] = df_block['Cumulative_Oil_Per_Block'] / df_block['Wells_Per_Block']\n",
    "print(len(df_block))\n",
    "df_block.head()"
   ]
  },
  {
   "cell_type": "code",
   "execution_count": 66,
   "metadata": {},
   "outputs": [
    {
     "data": {
      "text/html": [
       "<div>\n",
       "<style scoped>\n",
       "    .dataframe tbody tr th:only-of-type {\n",
       "        vertical-align: middle;\n",
       "    }\n",
       "\n",
       "    .dataframe tbody tr th {\n",
       "        vertical-align: top;\n",
       "    }\n",
       "\n",
       "    .dataframe thead th {\n",
       "        text-align: right;\n",
       "    }\n",
       "</style>\n",
       "<table border=\"1\" class=\"dataframe\">\n",
       "  <thead>\n",
       "    <tr style=\"text-align: right;\">\n",
       "      <th></th>\n",
       "      <th>File_Number</th>\n",
       "      <th>Well_Name</th>\n",
       "      <th>Well_Type</th>\n",
       "      <th>Well_Status</th>\n",
       "      <th>Location</th>\n",
       "      <th>Latitude</th>\n",
       "      <th>Longitude</th>\n",
       "      <th>Current_Operator</th>\n",
       "      <th>Completion_Date</th>\n",
       "      <th>Total_Depth</th>\n",
       "      <th>...</th>\n",
       "      <th>Perforated_Length</th>\n",
       "      <th>Direction</th>\n",
       "      <th>TRS</th>\n",
       "      <th>Section</th>\n",
       "      <th>Township</th>\n",
       "      <th>Range</th>\n",
       "      <th>Block</th>\n",
       "      <th>Wells_Per_Block</th>\n",
       "      <th>Cumulative_Oil_Per_Block</th>\n",
       "      <th>Cum_Oil_Per_Well_Block</th>\n",
       "    </tr>\n",
       "  </thead>\n",
       "  <tbody>\n",
       "    <tr>\n",
       "      <th>3627</th>\n",
       "      <td>20780</td>\n",
       "      <td>HENDERSON 1-28/33H</td>\n",
       "      <td>OG</td>\n",
       "      <td>A</td>\n",
       "      <td>NENE 28-150-95</td>\n",
       "      <td>47.8</td>\n",
       "      <td>-102.8</td>\n",
       "      <td>QEP ENERGY COMPANY</td>\n",
       "      <td>2012-01-17</td>\n",
       "      <td>20682</td>\n",
       "      <td>...</td>\n",
       "      <td>9452.0</td>\n",
       "      <td>NENE</td>\n",
       "      <td>28-150-95</td>\n",
       "      <td>28</td>\n",
       "      <td>150</td>\n",
       "      <td>95</td>\n",
       "      <td>15095</td>\n",
       "      <td>212</td>\n",
       "      <td>68701132</td>\n",
       "      <td>324061.9</td>\n",
       "    </tr>\n",
       "    <tr>\n",
       "      <th>3744</th>\n",
       "      <td>30583</td>\n",
       "      <td>TIPI V 1-24-25TH</td>\n",
       "      <td>OG</td>\n",
       "      <td>A</td>\n",
       "      <td>SESE 13-150-95</td>\n",
       "      <td>47.8</td>\n",
       "      <td>-102.8</td>\n",
       "      <td>QEP ENERGY COMPANY</td>\n",
       "      <td>2018-04-06</td>\n",
       "      <td>21349</td>\n",
       "      <td>...</td>\n",
       "      <td>10202.0</td>\n",
       "      <td>SESE</td>\n",
       "      <td>13-150-95</td>\n",
       "      <td>13</td>\n",
       "      <td>150</td>\n",
       "      <td>95</td>\n",
       "      <td>15095</td>\n",
       "      <td>212</td>\n",
       "      <td>68701132</td>\n",
       "      <td>324061.9</td>\n",
       "    </tr>\n",
       "    <tr>\n",
       "      <th>3731</th>\n",
       "      <td>30048</td>\n",
       "      <td>MARLENE 42X-20F2</td>\n",
       "      <td>OG</td>\n",
       "      <td>A</td>\n",
       "      <td>SENE 20-150-95</td>\n",
       "      <td>47.8</td>\n",
       "      <td>-102.9</td>\n",
       "      <td>XTO ENERGY INC</td>\n",
       "      <td>2015-07-25</td>\n",
       "      <td>20917</td>\n",
       "      <td>...</td>\n",
       "      <td>9780.0</td>\n",
       "      <td>SENE</td>\n",
       "      <td>20-150-95</td>\n",
       "      <td>20</td>\n",
       "      <td>150</td>\n",
       "      <td>95</td>\n",
       "      <td>15095</td>\n",
       "      <td>212</td>\n",
       "      <td>68701132</td>\n",
       "      <td>324061.9</td>\n",
       "    </tr>\n",
       "    <tr>\n",
       "      <th>3732</th>\n",
       "      <td>30049</td>\n",
       "      <td>MARLENE 42X-20C</td>\n",
       "      <td>OG</td>\n",
       "      <td>A</td>\n",
       "      <td>SENE 20-150-95</td>\n",
       "      <td>47.8</td>\n",
       "      <td>-102.9</td>\n",
       "      <td>XTO ENERGY INC</td>\n",
       "      <td>2015-08-04</td>\n",
       "      <td>20608</td>\n",
       "      <td>...</td>\n",
       "      <td>9651.0</td>\n",
       "      <td>SENE</td>\n",
       "      <td>20-150-95</td>\n",
       "      <td>20</td>\n",
       "      <td>150</td>\n",
       "      <td>95</td>\n",
       "      <td>15095</td>\n",
       "      <td>212</td>\n",
       "      <td>68701132</td>\n",
       "      <td>324061.9</td>\n",
       "    </tr>\n",
       "    <tr>\n",
       "      <th>3733</th>\n",
       "      <td>30214</td>\n",
       "      <td>MARLENE 42X-20CXD</td>\n",
       "      <td>OG</td>\n",
       "      <td>A</td>\n",
       "      <td>SENE 20-150-95</td>\n",
       "      <td>47.8</td>\n",
       "      <td>-102.9</td>\n",
       "      <td>XTO ENERGY INC</td>\n",
       "      <td>2015-07-07</td>\n",
       "      <td>20567</td>\n",
       "      <td>...</td>\n",
       "      <td>9583.0</td>\n",
       "      <td>SENE</td>\n",
       "      <td>20-150-95</td>\n",
       "      <td>20</td>\n",
       "      <td>150</td>\n",
       "      <td>95</td>\n",
       "      <td>15095</td>\n",
       "      <td>212</td>\n",
       "      <td>68701132</td>\n",
       "      <td>324061.9</td>\n",
       "    </tr>\n",
       "  </tbody>\n",
       "</table>\n",
       "<p>5 rows × 30 columns</p>\n",
       "</div>"
      ],
      "text/plain": [
       "      File_Number           Well_Name Well_Type Well_Status        Location  \\\n",
       "3627        20780  HENDERSON 1-28/33H        OG           A  NENE 28-150-95   \n",
       "3744        30583    TIPI V 1-24-25TH        OG           A  SESE 13-150-95   \n",
       "3731        30048    MARLENE 42X-20F2        OG           A  SENE 20-150-95   \n",
       "3732        30049     MARLENE 42X-20C        OG           A  SENE 20-150-95   \n",
       "3733        30214   MARLENE 42X-20CXD        OG           A  SENE 20-150-95   \n",
       "\n",
       "      Latitude  Longitude    Current_Operator Completion_Date Total_Depth  \\\n",
       "3627      47.8     -102.8  QEP ENERGY COMPANY      2012-01-17       20682   \n",
       "3744      47.8     -102.8  QEP ENERGY COMPANY      2018-04-06       21349   \n",
       "3731      47.8     -102.9      XTO ENERGY INC      2015-07-25       20917   \n",
       "3732      47.8     -102.9      XTO ENERGY INC      2015-08-04       20608   \n",
       "3733      47.8     -102.9      XTO ENERGY INC      2015-07-07       20567   \n",
       "\n",
       "      ... Perforated_Length Direction        TRS  Section  Township  Range  \\\n",
       "3627  ...            9452.0      NENE  28-150-95       28       150     95   \n",
       "3744  ...           10202.0      SESE  13-150-95       13       150     95   \n",
       "3731  ...            9780.0      SENE  20-150-95       20       150     95   \n",
       "3732  ...            9651.0      SENE  20-150-95       20       150     95   \n",
       "3733  ...            9583.0      SENE  20-150-95       20       150     95   \n",
       "\n",
       "      Block  Wells_Per_Block Cumulative_Oil_Per_Block Cum_Oil_Per_Well_Block  \n",
       "3627  15095              212                 68701132               324061.9  \n",
       "3744  15095              212                 68701132               324061.9  \n",
       "3731  15095              212                 68701132               324061.9  \n",
       "3732  15095              212                 68701132               324061.9  \n",
       "3733  15095              212                 68701132               324061.9  \n",
       "\n",
       "[5 rows x 30 columns]"
      ]
     },
     "execution_count": 66,
     "metadata": {},
     "output_type": "execute_result"
    }
   ],
   "source": [
    "df_header = df_header.merge(df_block[['Wells_Per_Block','Cumulative_Oil_Per_Block','Cum_Oil_Per_Well_Block']],left_on='Block',right_on='Block')\n",
    "df_header.sort_values('Cumulative_Oil_Per_Block',inplace=True,ascending=False)\n",
    "df_header.head()"
   ]
  },
  {
   "cell_type": "markdown",
   "metadata": {},
   "source": [
    "#### Map"
   ]
  },
  {
   "cell_type": "code",
   "execution_count": null,
   "metadata": {},
   "outputs": [],
   "source": [
    "df_sample = df_header[df_header['Top_Perf'].between(9000,11500)]\n",
    "\n",
    "fig = go.Figure(data=go.Scattergeo(\n",
    "    lon = df_sample['Longitude'],\n",
    "    lat = df_sample['Latitude'],\n",
    "    text = df_sample[['Well_Name','Top_Perf','Current_Operator','Block','Cumulative_Oil_Per_Block']],\n",
    "    marker = dict(\n",
    "        color = df_sample['Cumulative_Oil_Per_Block'],\n",
    "        colorscale = 'rainbow',\n",
    "        reversescale = True,\n",
    "        opacity = 0.7,\n",
    "        size = 7,\n",
    "        colorbar = dict(\n",
    "            titleside = \"right\",\n",
    "            outlinecolor = \"rgba(68, 68, 68, 0)\",\n",
    "            ticks = \"outside\",\n",
    "            showticksuffix = \"last\",\n",
    "            dtick = 0.1\n",
    "        )\n",
    "    )\n",
    "))\n",
    "\n",
    "fig.update_layout(\n",
    "        title = 'Williston Basin Wells',\n",
    "        geo_scope='usa',width = 1200, height = 800,\n",
    "    geo = dict()\n",
    "    )\n",
    "\n",
    "fig.update_geos(\n",
    "    center=dict(lon=df_sample['Longitude'].mean(), lat=df_sample['Latitude'].mean()),\n",
    "    lataxis_range=[df_sample['Latitude'].min(),df_sample['Latitude'].max()], lonaxis_range=[df_sample['Longitude'].min(),df_sample['Longitude'].max()]\n",
    "               )\n",
    "  \n",
    "fig.show()"
   ]
  },
  {
   "cell_type": "markdown",
   "metadata": {},
   "source": [
    "## What areas have produced the most oil per well?"
   ]
  },
  {
   "cell_type": "markdown",
   "metadata": {},
   "source": [
    "### Map"
   ]
  },
  {
   "cell_type": "code",
   "execution_count": null,
   "metadata": {},
   "outputs": [],
   "source": [
    "df_sample = df_header[df_header['Top_Perf'].between(9000,11500)]\n",
    "\n",
    "fig = go.Figure(data=go.Scattergeo(\n",
    "    lon = df_sample['Longitude'],\n",
    "    lat = df_sample['Latitude'],\n",
    "    text = df_sample[['Well_Name','Top_Perf','Current_Operator','Block','Cumulative_Oil_Per_Block','Cum_Oil_Per_Well_Block']],\n",
    "    marker = dict(\n",
    "        color = df_sample['Cum_Oil_Per_Well_Block'],\n",
    "        colorscale = 'rainbow',\n",
    "        reversescale = True,\n",
    "        opacity = 0.7,\n",
    "        size = 7,\n",
    "        colorbar = dict(\n",
    "            titleside = \"right\",\n",
    "            outlinecolor = \"rgba(68, 68, 68, 0)\",\n",
    "            ticks = \"outside\",\n",
    "            showticksuffix = \"last\",\n",
    "            dtick = 0.1\n",
    "        )\n",
    "    )\n",
    "))\n",
    "\n",
    "fig.update_layout(\n",
    "        title = 'Williston Basin Wells',\n",
    "        geo_scope='usa',width = 1200, height = 800,\n",
    "    geo = dict()\n",
    "    )\n",
    "\n",
    "fig.update_geos(\n",
    "    center=dict(lon=df_sample['Longitude'].mean(), lat=df_sample['Latitude'].mean()),\n",
    "    lataxis_range=[df_sample['Latitude'].min(),df_sample['Latitude'].max()], lonaxis_range=[df_sample['Longitude'].min(),df_sample['Longitude'].max()]\n",
    "               )\n",
    "  \n",
    "fig.show()"
   ]
  }
 ],
 "metadata": {
  "kernelspec": {
   "display_name": "Python 3",
   "language": "python",
   "name": "python3"
  },
  "language_info": {
   "codemirror_mode": {
    "name": "ipython",
    "version": 3
   },
   "file_extension": ".py",
   "mimetype": "text/x-python",
   "name": "python",
   "nbconvert_exporter": "python",
   "pygments_lexer": "ipython3",
   "version": "3.8.8"
  }
 },
 "nbformat": 4,
 "nbformat_minor": 4
}

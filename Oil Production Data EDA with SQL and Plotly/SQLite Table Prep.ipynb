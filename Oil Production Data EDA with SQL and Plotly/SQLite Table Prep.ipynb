{
 "cells": [
  {
   "cell_type": "markdown",
   "metadata": {},
   "source": [
    "# **<h1><center> Header and Production Data Cleaning </center></h1>**"
   ]
  },
  {
   "cell_type": "markdown",
   "metadata": {},
   "source": [
    "## Import Packages"
   ]
  },
  {
   "cell_type": "code",
   "execution_count": 1,
   "metadata": {},
   "outputs": [],
   "source": [
    "import pandas as pd\n",
    "import utm\n",
    "import sqlite3\n",
    "import random\n",
    "import numpy as np\n",
    "from statistics import mean \n",
    "import plotly.express as px\n",
    "import plotly.graph_objects as go\n",
    "pd.set_option(\"display.max_rows\",1000); pd.options.display.precision = 1\n",
    "import warnings\n",
    "warnings.filterwarnings(\"ignore\")"
   ]
  },
  {
   "cell_type": "markdown",
   "metadata": {},
   "source": [
    "### Connect to SQlite3 DataBase"
   ]
  },
  {
   "cell_type": "code",
   "execution_count": 2,
   "metadata": {},
   "outputs": [],
   "source": [
    "%load_ext sql\n",
    "%sql sqlite:////Users/john.odonnell/Python/Web_Scraping/NDIC/Well_DataBase.db"
   ]
  },
  {
   "cell_type": "markdown",
   "metadata": {},
   "source": [
    "### View Tables"
   ]
  },
  {
   "cell_type": "code",
   "execution_count": 3,
   "metadata": {},
   "outputs": [
    {
     "name": "stdout",
     "output_type": "stream",
     "text": [
      " * sqlite:////Users/john.odonnell/Python/Web_Scraping/NDIC/Well_DataBase.db\n",
      "Done.\n"
     ]
    },
    {
     "data": {
      "text/html": [
       "<table>\n",
       "    <tr>\n",
       "        <th>name</th>\n",
       "    </tr>\n",
       "    <tr>\n",
       "        <td>prod_table</td>\n",
       "    </tr>\n",
       "    <tr>\n",
       "        <td>header_table</td>\n",
       "    </tr>\n",
       "    <tr>\n",
       "        <td>prod_table_clean</td>\n",
       "    </tr>\n",
       "    <tr>\n",
       "        <td>header_table_clean</td>\n",
       "    </tr>\n",
       "</table>"
      ],
      "text/plain": [
       "[('prod_table',),\n",
       " ('header_table',),\n",
       " ('prod_table_clean',),\n",
       " ('header_table_clean',)]"
      ]
     },
     "execution_count": 3,
     "metadata": {},
     "output_type": "execute_result"
    }
   ],
   "source": [
    "%%sql \n",
    "\n",
    "SELECT \n",
    "    name \n",
    "FROM sqlite_master \n",
    "WHERE type ='table';"
   ]
  },
  {
   "cell_type": "markdown",
   "metadata": {},
   "source": [
    "# <center> -------------------------------------------------------- </center>"
   ]
  },
  {
   "cell_type": "markdown",
   "metadata": {},
   "source": [
    "## Import Header data"
   ]
  },
  {
   "cell_type": "code",
   "execution_count": 4,
   "metadata": {},
   "outputs": [
    {
     "name": "stdout",
     "output_type": "stream",
     "text": [
      " * sqlite:////Users/john.odonnell/Python/Web_Scraping/NDIC/Well_DataBase.db\n",
      "Done.\n"
     ]
    }
   ],
   "source": [
    "query = %sql SELECT * FROM header_table\n",
    "df_header = query.DataFrame()\n",
    "df_header.set_index('UWI',inplace=True)"
   ]
  },
  {
   "cell_type": "markdown",
   "metadata": {},
   "source": [
    "### Get utm X and Y for lat / long for each well"
   ]
  },
  {
   "cell_type": "code",
   "execution_count": 5,
   "metadata": {
    "tags": []
   },
   "outputs": [
    {
     "name": "stdout",
     "output_type": "stream",
     "text": [
      "Done                 Latitude  Longitude     SHL_X    SHL_Y\n",
      "UWI                                                   \n",
      "33105022610000      48.3     -103.5  614133.7  5.3e+06\n",
      "33105051280000      48.0     -103.9  583843.3  5.3e+06\n",
      "33053041210000      48.0     -103.3  625312.9  5.3e+06\n",
      "33053054960000      48.0     -102.9  656883.4  5.3e+06\n",
      "33053078800000      47.8     -103.0  648323.8  5.3e+06\n"
     ]
    }
   ],
   "source": [
    "for uwi in df_header.index.tolist():\n",
    "    x,y,z,z = utm.from_latlon(df_header.loc[uwi,'Latitude'], df_header.loc[uwi,'Longitude'])\n",
    "    df_header.loc[uwi,'SHL_X'] = x\n",
    "    df_header.loc[uwi,'SHL_Y'] = y\n",
    "print('Done',df_header[['Latitude','Longitude','SHL_X','SHL_Y']].sample(5))"
   ]
  },
  {
   "cell_type": "markdown",
   "metadata": {},
   "source": [
    "### Feature Manipulation and Cleaning\n",
    "- Cast Completion and Spud date to datetime\n",
    "- Calculate vintage year\n",
    "- Get top perf and bottom perf\n",
    "- Get Perforated Length\n",
    "- Get Township, Range, Section, and Block"
   ]
  },
  {
   "cell_type": "code",
   "execution_count": 6,
   "metadata": {},
   "outputs": [],
   "source": [
    "df_header[['Completion_Date','Spud_Date']] = df_header[['Completion_Date','Spud_Date']].apply(pd.to_datetime, errors='coerce')\n",
    "df_header['Vintage_Year'] = pd.DatetimeIndex(df_header['Completion_Date']).year\n",
    "# Get top and bottom perf\n",
    "df_header[['Top_Perf','Bottom_Perf']] = df_header['Perf_Interval'].str.split('-',n=1,expand=True)\n",
    "df_header['Top_Perf'] = df_header['Top_Perf'].str.replace('[^0-9]','').replace('',np.nan)\n",
    "df_header['Bottom_Perf'] = df_header['Bottom_Perf'].str.replace('[^0-9]','').replace('',np.nan)\n",
    "df_header[['Operator','delete']] = df_header['Current_Operator'].str.split(\" \",n=1,expand=True).replace(',','')\n",
    "\n",
    "# Clean\n",
    "df_header[['Top_Perf','Bottom_Perf']] = df_header[['Top_Perf','Bottom_Perf']].astype(float)\n",
    "df_header = df_header[df_header['Top_Perf'].between(5000,13000)]\n",
    "\n",
    "# Get perforated length\n",
    "df_header['Perforated_Length'] = df_header['Bottom_Perf'] - df_header['Top_Perf']\n",
    "\n",
    "# Get the Township/Range/Section Identifiers\n",
    "df_header[['Direction','TRS']] = df_header['Location'].str.split(\" \",n=1,expand=True)\n",
    "df_header[['Section','Township','Range']] = df_header['TRS'].str.split(\"-\",n=2,expand=True)\n",
    "df_header['Block'] = (df_header['Township'] + df_header['Range']).astype(int)\n",
    "df_header.drop(columns=['delete'],inplace=True)"
   ]
  },
  {
   "cell_type": "code",
   "execution_count": 7,
   "metadata": {},
   "outputs": [],
   "source": [
    "cnx = sqlite3.connect(r\"/Users/john.odonnell/Python/Web_Scraping/NDIC/Well_DataBase.db\")\n",
    "df_header.to_sql(\"header_table_clean\",cnx, if_exists='replace')"
   ]
  },
  {
   "cell_type": "markdown",
   "metadata": {},
   "source": [
    "# <center> -------------------------------------------------------- </center>"
   ]
  },
  {
   "cell_type": "markdown",
   "metadata": {},
   "source": [
    "## Import Production data"
   ]
  },
  {
   "cell_type": "code",
   "execution_count": 8,
   "metadata": {},
   "outputs": [
    {
     "name": "stdout",
     "output_type": "stream",
     "text": [
      " * sqlite:////Users/john.odonnell/Python/Web_Scraping/NDIC/Well_DataBase.db\n",
      "Done.\n"
     ]
    }
   ],
   "source": [
    "query = %sql SELECT UWI,Date,Days,Oil,Water,Gas FROM prod_table\n",
    "\n",
    "df_production = query.DataFrame()\n",
    "df_production.set_index('UWI',inplace=True)"
   ]
  },
  {
   "cell_type": "markdown",
   "metadata": {},
   "source": [
    "## Prepare Production Data\n",
    "- Cast `Date` to datetime\n",
    "- Sort data by date\n",
    "- Calculate total fluid, WOR, GOR"
   ]
  },
  {
   "cell_type": "code",
   "execution_count": 9,
   "metadata": {},
   "outputs": [
    {
     "name": "stdout",
     "output_type": "stream",
     "text": [
      "(1250870, 8)\n"
     ]
    },
    {
     "data": {
      "text/html": [
       "<div>\n",
       "<style scoped>\n",
       "    .dataframe tbody tr th:only-of-type {\n",
       "        vertical-align: middle;\n",
       "    }\n",
       "\n",
       "    .dataframe tbody tr th {\n",
       "        vertical-align: top;\n",
       "    }\n",
       "\n",
       "    .dataframe thead th {\n",
       "        text-align: right;\n",
       "    }\n",
       "</style>\n",
       "<table border=\"1\" class=\"dataframe\">\n",
       "  <thead>\n",
       "    <tr style=\"text-align: right;\">\n",
       "      <th></th>\n",
       "      <th>count</th>\n",
       "      <th>mean</th>\n",
       "      <th>std</th>\n",
       "      <th>min</th>\n",
       "      <th>25%</th>\n",
       "      <th>50%</th>\n",
       "      <th>75%</th>\n",
       "      <th>max</th>\n",
       "    </tr>\n",
       "  </thead>\n",
       "  <tbody>\n",
       "    <tr>\n",
       "      <th>Days</th>\n",
       "      <td>1.2e+06</td>\n",
       "      <td>26.0</td>\n",
       "      <td>8.9</td>\n",
       "      <td>0.0</td>\n",
       "      <td>27.0</td>\n",
       "      <td>30.0</td>\n",
       "      <td>31.0</td>\n",
       "      <td>3.1e+01</td>\n",
       "    </tr>\n",
       "    <tr>\n",
       "      <th>Oil</th>\n",
       "      <td>1.2e+06</td>\n",
       "      <td>3026.7</td>\n",
       "      <td>4615.6</td>\n",
       "      <td>-1.0</td>\n",
       "      <td>761.0</td>\n",
       "      <td>1588.0</td>\n",
       "      <td>3269.0</td>\n",
       "      <td>1.4e+05</td>\n",
       "    </tr>\n",
       "    <tr>\n",
       "      <th>Water</th>\n",
       "      <td>1.2e+06</td>\n",
       "      <td>2805.4</td>\n",
       "      <td>5373.5</td>\n",
       "      <td>-53.0</td>\n",
       "      <td>498.0</td>\n",
       "      <td>1297.0</td>\n",
       "      <td>2883.0</td>\n",
       "      <td>6.5e+05</td>\n",
       "    </tr>\n",
       "    <tr>\n",
       "      <th>Gas</th>\n",
       "      <td>1.2e+06</td>\n",
       "      <td>4938.2</td>\n",
       "      <td>8549.1</td>\n",
       "      <td>0.0</td>\n",
       "      <td>928.0</td>\n",
       "      <td>2275.0</td>\n",
       "      <td>4986.0</td>\n",
       "      <td>2.0e+05</td>\n",
       "    </tr>\n",
       "    <tr>\n",
       "      <th>Fluid</th>\n",
       "      <td>1.2e+06</td>\n",
       "      <td>5832.1</td>\n",
       "      <td>9095.8</td>\n",
       "      <td>-53.0</td>\n",
       "      <td>1575.0</td>\n",
       "      <td>3113.0</td>\n",
       "      <td>6228.0</td>\n",
       "      <td>6.5e+05</td>\n",
       "    </tr>\n",
       "    <tr>\n",
       "      <th>WOR</th>\n",
       "      <td>1.2e+06</td>\n",
       "      <td>NaN</td>\n",
       "      <td>NaN</td>\n",
       "      <td>-inf</td>\n",
       "      <td>0.4</td>\n",
       "      <td>0.8</td>\n",
       "      <td>1.5</td>\n",
       "      <td>inf</td>\n",
       "    </tr>\n",
       "    <tr>\n",
       "      <th>GOR</th>\n",
       "      <td>1.2e+06</td>\n",
       "      <td>inf</td>\n",
       "      <td>NaN</td>\n",
       "      <td>0.0</td>\n",
       "      <td>0.9</td>\n",
       "      <td>1.4</td>\n",
       "      <td>2.2</td>\n",
       "      <td>inf</td>\n",
       "    </tr>\n",
       "  </tbody>\n",
       "</table>\n",
       "</div>"
      ],
      "text/plain": [
       "         count    mean     std   min     25%     50%     75%      max\n",
       "Days   1.2e+06    26.0     8.9   0.0    27.0    30.0    31.0  3.1e+01\n",
       "Oil    1.2e+06  3026.7  4615.6  -1.0   761.0  1588.0  3269.0  1.4e+05\n",
       "Water  1.2e+06  2805.4  5373.5 -53.0   498.0  1297.0  2883.0  6.5e+05\n",
       "Gas    1.2e+06  4938.2  8549.1   0.0   928.0  2275.0  4986.0  2.0e+05\n",
       "Fluid  1.2e+06  5832.1  9095.8 -53.0  1575.0  3113.0  6228.0  6.5e+05\n",
       "WOR    1.2e+06     NaN     NaN  -inf     0.4     0.8     1.5      inf\n",
       "GOR    1.2e+06     inf     NaN   0.0     0.9     1.4     2.2      inf"
      ]
     },
     "execution_count": 9,
     "metadata": {},
     "output_type": "execute_result"
    }
   ],
   "source": [
    "df_production['Date'] = pd.to_datetime(df_production['Date'], infer_datetime_format=True)\n",
    "df_production.sort_values('Date',inplace=True)\n",
    "df_production['Fluid'] = df_production['Oil'] + df_production['Water']\n",
    "df_production['WOR'] = round(df_production['Water'] / df_production['Oil'],3)\n",
    "df_production['GOR'] = round(df_production['Gas'] / df_production['Oil'],3)\n",
    "print(df_production.shape)\n",
    "df_production.describe().transpose()"
   ]
  },
  {
   "cell_type": "markdown",
   "metadata": {},
   "source": [
    "### Bring in lateral length, normalize volumes"
   ]
  },
  {
   "cell_type": "code",
   "execution_count": 10,
   "metadata": {},
   "outputs": [
    {
     "data": {
      "text/html": [
       "<div>\n",
       "<style scoped>\n",
       "    .dataframe tbody tr th:only-of-type {\n",
       "        vertical-align: middle;\n",
       "    }\n",
       "\n",
       "    .dataframe tbody tr th {\n",
       "        vertical-align: top;\n",
       "    }\n",
       "\n",
       "    .dataframe thead th {\n",
       "        text-align: right;\n",
       "    }\n",
       "</style>\n",
       "<table border=\"1\" class=\"dataframe\">\n",
       "  <thead>\n",
       "    <tr style=\"text-align: right;\">\n",
       "      <th></th>\n",
       "      <th>Days</th>\n",
       "      <th>Oil</th>\n",
       "      <th>Water</th>\n",
       "      <th>Gas</th>\n",
       "      <th>Fluid</th>\n",
       "      <th>WOR</th>\n",
       "      <th>GOR</th>\n",
       "      <th>Perforated_Length</th>\n",
       "      <th>Oil_nrm</th>\n",
       "      <th>Water_nrm</th>\n",
       "      <th>Gas_nrm</th>\n",
       "    </tr>\n",
       "  </thead>\n",
       "  <tbody>\n",
       "    <tr>\n",
       "      <th>count</th>\n",
       "      <td>1.2e+06</td>\n",
       "      <td>1.2e+06</td>\n",
       "      <td>1.2e+06</td>\n",
       "      <td>1.2e+06</td>\n",
       "      <td>1.2e+06</td>\n",
       "      <td>1.2e+06</td>\n",
       "      <td>1.2e+06</td>\n",
       "      <td>1.2e+06</td>\n",
       "      <td>1.2e+06</td>\n",
       "      <td>1.2e+06</td>\n",
       "      <td>1.2e+06</td>\n",
       "    </tr>\n",
       "    <tr>\n",
       "      <th>mean</th>\n",
       "      <td>2.6e+01</td>\n",
       "      <td>3.0e+03</td>\n",
       "      <td>2.8e+03</td>\n",
       "      <td>4.9e+03</td>\n",
       "      <td>5.8e+03</td>\n",
       "      <td>NaN</td>\n",
       "      <td>inf</td>\n",
       "      <td>8.9e+03</td>\n",
       "      <td>3.4e+03</td>\n",
       "      <td>3.0e+03</td>\n",
       "      <td>5.5e+03</td>\n",
       "    </tr>\n",
       "    <tr>\n",
       "      <th>std</th>\n",
       "      <td>8.9e+00</td>\n",
       "      <td>4.6e+03</td>\n",
       "      <td>5.3e+03</td>\n",
       "      <td>8.5e+03</td>\n",
       "      <td>9.0e+03</td>\n",
       "      <td>NaN</td>\n",
       "      <td>NaN</td>\n",
       "      <td>2.0e+03</td>\n",
       "      <td>9.7e+03</td>\n",
       "      <td>9.5e+03</td>\n",
       "      <td>2.6e+04</td>\n",
       "    </tr>\n",
       "    <tr>\n",
       "      <th>min</th>\n",
       "      <td>0.0e+00</td>\n",
       "      <td>-1.0e+00</td>\n",
       "      <td>-5.3e+01</td>\n",
       "      <td>0.0e+00</td>\n",
       "      <td>-5.3e+01</td>\n",
       "      <td>-inf</td>\n",
       "      <td>0.0e+00</td>\n",
       "      <td>-1.0e+04</td>\n",
       "      <td>-1.5e+06</td>\n",
       "      <td>-2.6e+06</td>\n",
       "      <td>-2.4e+06</td>\n",
       "    </tr>\n",
       "    <tr>\n",
       "      <th>25%</th>\n",
       "      <td>2.7e+01</td>\n",
       "      <td>7.6e+02</td>\n",
       "      <td>5.0e+02</td>\n",
       "      <td>9.3e+02</td>\n",
       "      <td>1.6e+03</td>\n",
       "      <td>4.2e-01</td>\n",
       "      <td>8.7e-01</td>\n",
       "      <td>9.0e+03</td>\n",
       "      <td>8.9e+02</td>\n",
       "      <td>6.0e+02</td>\n",
       "      <td>1.1e+03</td>\n",
       "    </tr>\n",
       "    <tr>\n",
       "      <th>50%</th>\n",
       "      <td>3.0e+01</td>\n",
       "      <td>1.6e+03</td>\n",
       "      <td>1.3e+03</td>\n",
       "      <td>2.3e+03</td>\n",
       "      <td>3.1e+03</td>\n",
       "      <td>8.4e-01</td>\n",
       "      <td>1.4e+00</td>\n",
       "      <td>9.5e+03</td>\n",
       "      <td>1.8e+03</td>\n",
       "      <td>1.5e+03</td>\n",
       "      <td>2.6e+03</td>\n",
       "    </tr>\n",
       "    <tr>\n",
       "      <th>75%</th>\n",
       "      <td>3.1e+01</td>\n",
       "      <td>3.3e+03</td>\n",
       "      <td>2.9e+03</td>\n",
       "      <td>5.0e+03</td>\n",
       "      <td>6.2e+03</td>\n",
       "      <td>1.5e+00</td>\n",
       "      <td>2.2e+00</td>\n",
       "      <td>9.8e+03</td>\n",
       "      <td>3.7e+03</td>\n",
       "      <td>3.2e+03</td>\n",
       "      <td>5.7e+03</td>\n",
       "    </tr>\n",
       "    <tr>\n",
       "      <th>max</th>\n",
       "      <td>3.1e+01</td>\n",
       "      <td>1.4e+05</td>\n",
       "      <td>6.5e+05</td>\n",
       "      <td>2.0e+05</td>\n",
       "      <td>6.5e+05</td>\n",
       "      <td>inf</td>\n",
       "      <td>inf</td>\n",
       "      <td>1.8e+04</td>\n",
       "      <td>3.4e+06</td>\n",
       "      <td>1.7e+06</td>\n",
       "      <td>7.4e+06</td>\n",
       "    </tr>\n",
       "  </tbody>\n",
       "</table>\n",
       "</div>"
      ],
      "text/plain": [
       "          Days      Oil    Water      Gas    Fluid      WOR      GOR  \\\n",
       "count  1.2e+06  1.2e+06  1.2e+06  1.2e+06  1.2e+06  1.2e+06  1.2e+06   \n",
       "mean   2.6e+01  3.0e+03  2.8e+03  4.9e+03  5.8e+03      NaN      inf   \n",
       "std    8.9e+00  4.6e+03  5.3e+03  8.5e+03  9.0e+03      NaN      NaN   \n",
       "min    0.0e+00 -1.0e+00 -5.3e+01  0.0e+00 -5.3e+01     -inf  0.0e+00   \n",
       "25%    2.7e+01  7.6e+02  5.0e+02  9.3e+02  1.6e+03  4.2e-01  8.7e-01   \n",
       "50%    3.0e+01  1.6e+03  1.3e+03  2.3e+03  3.1e+03  8.4e-01  1.4e+00   \n",
       "75%    3.1e+01  3.3e+03  2.9e+03  5.0e+03  6.2e+03  1.5e+00  2.2e+00   \n",
       "max    3.1e+01  1.4e+05  6.5e+05  2.0e+05  6.5e+05      inf      inf   \n",
       "\n",
       "       Perforated_Length  Oil_nrm  Water_nrm  Gas_nrm  \n",
       "count            1.2e+06  1.2e+06    1.2e+06  1.2e+06  \n",
       "mean             8.9e+03  3.4e+03    3.0e+03  5.5e+03  \n",
       "std              2.0e+03  9.7e+03    9.5e+03  2.6e+04  \n",
       "min             -1.0e+04 -1.5e+06   -2.6e+06 -2.4e+06  \n",
       "25%              9.0e+03  8.9e+02    6.0e+02  1.1e+03  \n",
       "50%              9.5e+03  1.8e+03    1.5e+03  2.6e+03  \n",
       "75%              9.8e+03  3.7e+03    3.2e+03  5.7e+03  \n",
       "max              1.8e+04  3.4e+06    1.7e+06  7.4e+06  "
      ]
     },
     "execution_count": 10,
     "metadata": {},
     "output_type": "execute_result"
    }
   ],
   "source": [
    "df_production = df_production.merge(df_header[['Perforated_Length']], left_index= True, right_index= True)\n",
    "\n",
    "for stream in ['Oil','Water','Gas']:\n",
    "    df_production[f'{stream}_nrm'] = (df_production[stream]/df_production['Perforated_Length'])*10000\n",
    "    \n",
    "df_production.describe()"
   ]
  },
  {
   "cell_type": "markdown",
   "metadata": {},
   "source": [
    "## Create Clean Production Table"
   ]
  },
  {
   "cell_type": "code",
   "execution_count": 11,
   "metadata": {},
   "outputs": [],
   "source": [
    "cnx = sqlite3.connect(r\"/Users/john.odonnell/Python/Web_Scraping/NDIC/Well_DataBase.db\")\n",
    "df_production.to_sql(\"prod_table_clean\", cnx, if_exists='replace')"
   ]
  }
 ],
 "metadata": {
  "kernelspec": {
   "display_name": "Python 3",
   "language": "python",
   "name": "python3"
  },
  "language_info": {
   "codemirror_mode": {
    "name": "ipython",
    "version": 3
   },
   "file_extension": ".py",
   "mimetype": "text/x-python",
   "name": "python",
   "nbconvert_exporter": "python",
   "pygments_lexer": "ipython3",
   "version": "3.8.8"
  }
 },
 "nbformat": 4,
 "nbformat_minor": 4
}

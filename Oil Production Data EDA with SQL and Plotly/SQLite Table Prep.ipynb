{
 "cells": [
  {
   "cell_type": "markdown",
   "metadata": {},
   "source": [
    "# **<h1><center> Production EDA </center></h1>**"
   ]
  },
  {
   "cell_type": "markdown",
   "metadata": {},
   "source": [
    "## Import Packages"
   ]
  },
  {
   "cell_type": "code",
   "execution_count": 4,
   "metadata": {},
   "outputs": [],
   "source": [
    "import pandas as pd\n",
    "import utm\n",
    "import sqlite3\n",
    "import random\n",
    "import numpy as np\n",
    "from statistics import mean \n",
    "import plotly.express as px\n",
    "import plotly.graph_objects as go\n",
    "pd.set_option(\"display.max_rows\",1000); pd.options.display.precision = 1\n",
    "import warnings\n",
    "warnings.filterwarnings(\"ignore\")"
   ]
  },
  {
   "cell_type": "markdown",
   "metadata": {},
   "source": [
    "### Connect to SQlite3 DataBase"
   ]
  },
  {
   "cell_type": "code",
   "execution_count": 5,
   "metadata": {},
   "outputs": [],
   "source": [
    "%load_ext sql\n",
    "%sql sqlite:////Users/john.odonnell/Python/Web_Scraping/NDIC/Well_DataBase.db"
   ]
  },
  {
   "cell_type": "markdown",
   "metadata": {},
   "source": [
    "### View Tables"
   ]
  },
  {
   "cell_type": "code",
   "execution_count": 15,
   "metadata": {},
   "outputs": [
    {
     "name": "stdout",
     "output_type": "stream",
     "text": [
      " * sqlite:////Users/john.odonnell/Python/Web_Scraping/NDIC/Well_DataBase.db\n",
      "Done.\n"
     ]
    },
    {
     "data": {
      "text/html": [
       "<table>\n",
       "    <tr>\n",
       "        <th>name</th>\n",
       "    </tr>\n",
       "    <tr>\n",
       "        <td>prod_table</td>\n",
       "    </tr>\n",
       "    <tr>\n",
       "        <td>header_table</td>\n",
       "    </tr>\n",
       "    <tr>\n",
       "        <td>prod_table_clean</td>\n",
       "    </tr>\n",
       "    <tr>\n",
       "        <td>header_table_clean</td>\n",
       "    </tr>\n",
       "</table>"
      ],
      "text/plain": [
       "[('prod_table',),\n",
       " ('header_table',),\n",
       " ('prod_table_clean',),\n",
       " ('header_table_clean',)]"
      ]
     },
     "execution_count": 15,
     "metadata": {},
     "output_type": "execute_result"
    }
   ],
   "source": [
    "%%sql \n",
    "\n",
    "SELECT \n",
    "    name \n",
    "FROM sqlite_master \n",
    "WHERE type ='table';"
   ]
  },
  {
   "cell_type": "markdown",
   "metadata": {},
   "source": [
    "## Import Production data"
   ]
  },
  {
   "cell_type": "code",
   "execution_count": 7,
   "metadata": {},
   "outputs": [
    {
     "name": "stdout",
     "output_type": "stream",
     "text": [
      " * sqlite:////Users/john.odonnell/Python/Web_Scraping/NDIC/Well_DataBase.db\n",
      "Done.\n"
     ]
    }
   ],
   "source": [
    "query = %sql SELECT UWI,Date,Days,Oil,Water,Gas FROM prod_table\n",
    "\n",
    "df_production = query.DataFrame()\n",
    "df_production.set_index('UWI',inplace=True)"
   ]
  },
  {
   "cell_type": "markdown",
   "metadata": {},
   "source": [
    "## Prepare Production Data\n",
    "- Cast `Date` to datetime\n",
    "- Sort data by date\n",
    "- Calculate total fluid, WOR, GOR"
   ]
  },
  {
   "cell_type": "code",
   "execution_count": 8,
   "metadata": {},
   "outputs": [
    {
     "name": "stdout",
     "output_type": "stream",
     "text": [
      "(1250870, 8)\n"
     ]
    },
    {
     "data": {
      "text/html": [
       "<div>\n",
       "<style scoped>\n",
       "    .dataframe tbody tr th:only-of-type {\n",
       "        vertical-align: middle;\n",
       "    }\n",
       "\n",
       "    .dataframe tbody tr th {\n",
       "        vertical-align: top;\n",
       "    }\n",
       "\n",
       "    .dataframe thead th {\n",
       "        text-align: right;\n",
       "    }\n",
       "</style>\n",
       "<table border=\"1\" class=\"dataframe\">\n",
       "  <thead>\n",
       "    <tr style=\"text-align: right;\">\n",
       "      <th></th>\n",
       "      <th>count</th>\n",
       "      <th>mean</th>\n",
       "      <th>std</th>\n",
       "      <th>min</th>\n",
       "      <th>25%</th>\n",
       "      <th>50%</th>\n",
       "      <th>75%</th>\n",
       "      <th>max</th>\n",
       "    </tr>\n",
       "  </thead>\n",
       "  <tbody>\n",
       "    <tr>\n",
       "      <th>Days</th>\n",
       "      <td>1.2e+06</td>\n",
       "      <td>26.0</td>\n",
       "      <td>8.9</td>\n",
       "      <td>0.0</td>\n",
       "      <td>27.0</td>\n",
       "      <td>30.0</td>\n",
       "      <td>31.0</td>\n",
       "      <td>3.1e+01</td>\n",
       "    </tr>\n",
       "    <tr>\n",
       "      <th>Oil</th>\n",
       "      <td>1.2e+06</td>\n",
       "      <td>3026.7</td>\n",
       "      <td>4615.6</td>\n",
       "      <td>-1.0</td>\n",
       "      <td>761.0</td>\n",
       "      <td>1588.0</td>\n",
       "      <td>3269.0</td>\n",
       "      <td>1.4e+05</td>\n",
       "    </tr>\n",
       "    <tr>\n",
       "      <th>Water</th>\n",
       "      <td>1.2e+06</td>\n",
       "      <td>2805.4</td>\n",
       "      <td>5373.5</td>\n",
       "      <td>-53.0</td>\n",
       "      <td>498.0</td>\n",
       "      <td>1297.0</td>\n",
       "      <td>2883.0</td>\n",
       "      <td>6.5e+05</td>\n",
       "    </tr>\n",
       "    <tr>\n",
       "      <th>Gas</th>\n",
       "      <td>1.2e+06</td>\n",
       "      <td>4938.2</td>\n",
       "      <td>8549.1</td>\n",
       "      <td>0.0</td>\n",
       "      <td>928.0</td>\n",
       "      <td>2275.0</td>\n",
       "      <td>4986.0</td>\n",
       "      <td>2.0e+05</td>\n",
       "    </tr>\n",
       "    <tr>\n",
       "      <th>Fluid</th>\n",
       "      <td>1.2e+06</td>\n",
       "      <td>5832.1</td>\n",
       "      <td>9095.8</td>\n",
       "      <td>-53.0</td>\n",
       "      <td>1575.0</td>\n",
       "      <td>3113.0</td>\n",
       "      <td>6228.0</td>\n",
       "      <td>6.5e+05</td>\n",
       "    </tr>\n",
       "    <tr>\n",
       "      <th>WOR</th>\n",
       "      <td>1.2e+06</td>\n",
       "      <td>NaN</td>\n",
       "      <td>NaN</td>\n",
       "      <td>-inf</td>\n",
       "      <td>0.4</td>\n",
       "      <td>0.8</td>\n",
       "      <td>1.5</td>\n",
       "      <td>inf</td>\n",
       "    </tr>\n",
       "    <tr>\n",
       "      <th>GOR</th>\n",
       "      <td>1.2e+06</td>\n",
       "      <td>inf</td>\n",
       "      <td>NaN</td>\n",
       "      <td>0.0</td>\n",
       "      <td>0.9</td>\n",
       "      <td>1.4</td>\n",
       "      <td>2.2</td>\n",
       "      <td>inf</td>\n",
       "    </tr>\n",
       "  </tbody>\n",
       "</table>\n",
       "</div>"
      ],
      "text/plain": [
       "         count    mean     std   min     25%     50%     75%      max\n",
       "Days   1.2e+06    26.0     8.9   0.0    27.0    30.0    31.0  3.1e+01\n",
       "Oil    1.2e+06  3026.7  4615.6  -1.0   761.0  1588.0  3269.0  1.4e+05\n",
       "Water  1.2e+06  2805.4  5373.5 -53.0   498.0  1297.0  2883.0  6.5e+05\n",
       "Gas    1.2e+06  4938.2  8549.1   0.0   928.0  2275.0  4986.0  2.0e+05\n",
       "Fluid  1.2e+06  5832.1  9095.8 -53.0  1575.0  3113.0  6228.0  6.5e+05\n",
       "WOR    1.2e+06     NaN     NaN  -inf     0.4     0.8     1.5      inf\n",
       "GOR    1.2e+06     inf     NaN   0.0     0.9     1.4     2.2      inf"
      ]
     },
     "execution_count": 8,
     "metadata": {},
     "output_type": "execute_result"
    }
   ],
   "source": [
    "df_production['Date'] = pd.to_datetime(df_production['Date'], infer_datetime_format=True)\n",
    "df_production.sort_values('Date',inplace=True)\n",
    "df_production['Fluid'] = df_production['Oil'] + df_production['Water']\n",
    "df_production['WOR'] = round(df_production['Water'] / df_production['Oil'],3)\n",
    "df_production['GOR'] = round(df_production['Gas'] / df_production['Oil'],3)\n",
    "print(df_production.shape)\n",
    "df_production.describe().transpose()"
   ]
  },
  {
   "cell_type": "markdown",
   "metadata": {},
   "source": [
    "## Create Clean Production Table"
   ]
  },
  {
   "cell_type": "code",
   "execution_count": 10,
   "metadata": {},
   "outputs": [],
   "source": [
    "cnx = sqlite3.connect(r\"/Users/john.odonnell/Python/Web_Scraping/NDIC/Well_DataBase.db\")\n",
    "df_production.to_sql(\"prod_table_clean\", cnx, if_exists='replace')"
   ]
  },
  {
   "cell_type": "markdown",
   "metadata": {},
   "source": [
    "## Import Header data"
   ]
  },
  {
   "cell_type": "code",
   "execution_count": 11,
   "metadata": {},
   "outputs": [
    {
     "name": "stdout",
     "output_type": "stream",
     "text": [
      " * sqlite:////Users/john.odonnell/Python/Web_Scraping/NDIC/Well_DataBase.db\n",
      "Done.\n"
     ]
    }
   ],
   "source": [
    "query = %sql SELECT * FROM header_table\n",
    "df_header = query.DataFrame()\n",
    "df_header.set_index('UWI',inplace=True)"
   ]
  },
  {
   "cell_type": "markdown",
   "metadata": {},
   "source": [
    "### Get utm X and Y for lat / long for each well"
   ]
  },
  {
   "cell_type": "code",
   "execution_count": 12,
   "metadata": {
    "tags": []
   },
   "outputs": [
    {
     "name": "stdout",
     "output_type": "stream",
     "text": [
      "Done                 Latitude  Longitude     SHL_X    SHL_Y\n",
      "UWI                                                   \n",
      "33053066570000      47.7     -103.0  653080.9  5.3e+06\n",
      "33053028850000      47.8     -102.8  665439.6  5.3e+06\n",
      "33105028570000      48.3     -103.6  606529.9  5.3e+06\n",
      "33105026870000      48.3     -103.0  650134.8  5.4e+06\n",
      "33061033100000      48.2     -102.7  673102.2  5.3e+06\n"
     ]
    }
   ],
   "source": [
    "for uwi in df_header.index.tolist():\n",
    "    x,y,z,z = utm.from_latlon(df_header.loc[uwi,'Latitude'], df_header.loc[uwi,'Longitude'])\n",
    "    df_header.loc[uwi,'SHL_X'] = x\n",
    "    df_header.loc[uwi,'SHL_Y'] = y\n",
    "print('Done',df_header[['Latitude','Longitude','SHL_X','SHL_Y']].sample(5))"
   ]
  },
  {
   "cell_type": "markdown",
   "metadata": {},
   "source": [
    "### Feature Manipulation and Cleaning\n",
    "- Cast Completion and Spud date to datetime\n",
    "- Calculate vintage year\n",
    "- Get top perf and bottom perf\n",
    "- Get Perforated Length\n",
    "- Get Township, Range, Section, and Block"
   ]
  },
  {
   "cell_type": "code",
   "execution_count": 13,
   "metadata": {},
   "outputs": [],
   "source": [
    "df_header[['Completion_Date','Spud_Date']] = df_header[['Completion_Date','Spud_Date']].apply(pd.to_datetime, errors='coerce')\n",
    "df_header['Vintage_Year'] = pd.DatetimeIndex(df_header['Completion_Date']).year\n",
    "# Get top and bottom perf\n",
    "df_header[['Top_Perf','Bottom_Perf']] = df_header['Perf_Interval'].str.split('-',n=1,expand=True)\n",
    "df_header['Top_Perf'] = df_header['Top_Perf'].str.replace('[^0-9]','').replace('',np.nan)\n",
    "df_header['Bottom_Perf'] = df_header['Bottom_Perf'].str.replace('[^0-9]','').replace('',np.nan)\n",
    "df_header[['Operator','delete']] = df_header['Current_Operator'].str.split(\" \",n=1,expand=True).replace(',','')\n",
    "\n",
    "# Clean\n",
    "df_header[['Top_Perf','Bottom_Perf']] = df_header[['Top_Perf','Bottom_Perf']].astype(float)\n",
    "df_header = df_header[df_header['Top_Perf'].between(5000,13000)]\n",
    "\n",
    "# Get perforated length\n",
    "df_header['Perforated_Length'] = df_header['Bottom_Perf'] - df_header['Top_Perf']\n",
    "\n",
    "# Get the Township/Range/Section Identifiers\n",
    "df_header[['Direction','TRS']] = df_header['Location'].str.split(\" \",n=1,expand=True)\n",
    "df_header[['Section','Township','Range']] = df_header['TRS'].str.split(\"-\",n=2,expand=True)\n",
    "df_header['Block'] = (df_header['Township'] + df_header['Range']).astype(int)"
   ]
  },
  {
   "cell_type": "code",
   "execution_count": 14,
   "metadata": {},
   "outputs": [],
   "source": [
    "cnx = sqlite3.connect(r\"/Users/john.odonnell/Python/Web_Scraping/NDIC/Well_DataBase.db\")\n",
    "df_header.to_sql(\"header_table_clean\",cnx, if_exists='replace')"
   ]
  }
 ],
 "metadata": {
  "kernelspec": {
   "display_name": "Python 3",
   "language": "python",
   "name": "python3"
  },
  "language_info": {
   "codemirror_mode": {
    "name": "ipython",
    "version": 3
   },
   "file_extension": ".py",
   "mimetype": "text/x-python",
   "name": "python",
   "nbconvert_exporter": "python",
   "pygments_lexer": "ipython3",
   "version": "3.8.8"
  }
 },
 "nbformat": 4,
 "nbformat_minor": 4
}

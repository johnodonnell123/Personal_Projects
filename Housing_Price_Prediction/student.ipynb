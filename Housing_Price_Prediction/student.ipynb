{
 "cells": [
  {
   "cell_type": "markdown",
   "metadata": {},
   "source": [
    "# <center> Housing Price Prediction with Linear Regression </center>"
   ]
  },
  {
   "cell_type": "markdown",
   "metadata": {},
   "source": [
    "# Overview:\n"
   ]
  },
  {
   "cell_type": "markdown",
   "metadata": {},
   "source": [
    "- #### **The Data**\n",
    "    - This datasets contains features for ~ 23k houses in Kings County in Seattle, Washington\n",
    "    - These features include sale price, number of bed/bathrooms, living/lot square footage, condition/grade, age, and location\n",
    "- #### **The Goal**\n",
    "    - The aim is to predict the sale price of a home given the other features using Linear Regression\n",
    "    - The focus of this project will not be on advanced modelling techniques nor hyperparameter tuning, but instead on....\n",
    "        - Handling NaNs, Duplicates, Dtypes\n",
    "        - Data Cleaning\n",
    "        - Exploratory Data Analysis\n",
    "        - Feature Engineering\n",
    "        - Understanding the output of the linear regression model for decision making"
   ]
  },
  {
   "cell_type": "markdown",
   "metadata": {},
   "source": [
    "# Notebook Outline"
   ]
  },
  {
   "cell_type": "markdown",
   "metadata": {},
   "source": [
    "- #### **Part 1: Cleaning and EDA**\n",
    "    - Handle duplicates, NaN's, dtypes, and minimal feature engineering\n",
    "    - Each feature's distribution is viewed as its relationship with our dependent variable\n",
    "- #### **Part 2: Feature Engineering and EDA:**\n",
    "    - Create new features from the original features\n",
    "    - View distributions and relationship with dependent variable\n",
    "- #### **Part 3: Modelling and Evaluation**\n",
    "    - Determine which model was the most successful in prediction\n",
    "    - Determine which methods were most impactful on model performance (feature engineering vs transforming etc)"
   ]
  },
  {
   "cell_type": "markdown",
   "metadata": {},
   "source": [
    "##### \n",
    "##### <center>-------------------------------------------------------------------------------------------------------------------------------------------------------------------------------------</center>\n",
    "##### "
   ]
  },
  {
   "cell_type": "markdown",
   "metadata": {},
   "source": [
    "# <center><u> Part 1: Data Cleaning </u></center>"
   ]
  },
  {
   "cell_type": "markdown",
   "metadata": {},
   "source": [
    "### Import Packages"
   ]
  },
  {
   "cell_type": "code",
   "execution_count": 1,
   "metadata": {},
   "outputs": [],
   "source": [
    "import warnings\n",
    "import numpy as np\n",
    "import pandas as pd\n",
    "import seaborn as sns\n",
    "import folium\n",
    "import branca.colormap as cm\n",
    "import plotly.express as px\n",
    "import matplotlib.pyplot as plt\n",
    "import plotly.graph_objects as go\n",
    "warnings.simplefilter(action='ignore')\n",
    "import seaborn as sns\n",
    "import matplotlib.pyplot as plt\n",
    "pd.set_option('display.max_columns', None)\n",
    "from sklearn.preprocessing import StandardScaler\n",
    "from sklearn.linear_model import LinearRegression\n",
    "from sklearn.model_selection import train_test_split\n",
    "pd.set_option('display.float_format', lambda x: '%.4f' % x)"
   ]
  },
  {
   "cell_type": "markdown",
   "metadata": {},
   "source": [
    "### Define custom functions"
   ]
  },
  {
   "cell_type": "code",
   "execution_count": 2,
   "metadata": {},
   "outputs": [],
   "source": [
    "def hist_box(data, xlabel = None, title = None, font_scale=2, figsize=(9,8), bins = None, x_lim = []):\n",
    "    sns.set(font_scale=font_scale)\n",
    "    f2, (ax_box2, ax_hist2) = plt.subplots(2, sharex=True, gridspec_kw={\"height_ratios\": (.15, .85)}, figsize=figsize)\n",
    "    sns.boxplot(data, ax=ax_box2)\n",
    "    sns.distplot(data, ax=ax_hist2, bins=bins) if bins else sns.distplot(data, ax=ax_hist2)\n",
    "    ax_hist2.ticklabel_format(useOffset=False, style='plain')\n",
    "    if x_lim != []:\n",
    "        ax_hist2.set_xlim(x_lim[0],x_lim[1])\n",
    "    if xlabel: ax_hist2.set(xlabel=xlabel)\n",
    "    if title: ax_box2.set(title=title)\n",
    "    plt.show()"
   ]
  },
  {
   "cell_type": "markdown",
   "metadata": {},
   "source": [
    "### Import Data and Inspect"
   ]
  },
  {
   "cell_type": "code",
   "execution_count": 3,
   "metadata": {},
   "outputs": [
    {
     "data": {
      "text/plain": [
       "(21597, 21)"
      ]
     },
     "metadata": {},
     "output_type": "display_data"
    },
    {
     "data": {
      "text/html": [
       "<div>\n",
       "<style scoped>\n",
       "    .dataframe tbody tr th:only-of-type {\n",
       "        vertical-align: middle;\n",
       "    }\n",
       "\n",
       "    .dataframe tbody tr th {\n",
       "        vertical-align: top;\n",
       "    }\n",
       "\n",
       "    .dataframe thead th {\n",
       "        text-align: right;\n",
       "    }\n",
       "</style>\n",
       "<table border=\"1\" class=\"dataframe\">\n",
       "  <thead>\n",
       "    <tr style=\"text-align: right;\">\n",
       "      <th></th>\n",
       "      <th>sale_id</th>\n",
       "      <th>sale_date</th>\n",
       "      <th>sale_price</th>\n",
       "      <th>bedrooms</th>\n",
       "      <th>bathrooms</th>\n",
       "      <th>sqft_living</th>\n",
       "      <th>sqft_lot</th>\n",
       "      <th>floors</th>\n",
       "      <th>waterfront</th>\n",
       "      <th>has_been_viewed</th>\n",
       "      <th>condition</th>\n",
       "      <th>grade</th>\n",
       "      <th>sqft_no_basement</th>\n",
       "      <th>sqft_basement</th>\n",
       "      <th>yr_built</th>\n",
       "      <th>yr_renovated</th>\n",
       "      <th>zipcode</th>\n",
       "      <th>lat</th>\n",
       "      <th>long</th>\n",
       "      <th>sqft_living_15_nn</th>\n",
       "      <th>sqft_lot_15_nn</th>\n",
       "    </tr>\n",
       "    <tr>\n",
       "      <th>unique_id</th>\n",
       "      <th></th>\n",
       "      <th></th>\n",
       "      <th></th>\n",
       "      <th></th>\n",
       "      <th></th>\n",
       "      <th></th>\n",
       "      <th></th>\n",
       "      <th></th>\n",
       "      <th></th>\n",
       "      <th></th>\n",
       "      <th></th>\n",
       "      <th></th>\n",
       "      <th></th>\n",
       "      <th></th>\n",
       "      <th></th>\n",
       "      <th></th>\n",
       "      <th></th>\n",
       "      <th></th>\n",
       "      <th></th>\n",
       "      <th></th>\n",
       "      <th></th>\n",
       "    </tr>\n",
       "  </thead>\n",
       "  <tbody>\n",
       "    <tr>\n",
       "      <th>663</th>\n",
       "      <td>6798100662</td>\n",
       "      <td>5/27/2014</td>\n",
       "      <td>312000.0000</td>\n",
       "      <td>3</td>\n",
       "      <td>1.5000</td>\n",
       "      <td>1255</td>\n",
       "      <td>1374</td>\n",
       "      <td>3.0000</td>\n",
       "      <td>0.0000</td>\n",
       "      <td>0.0000</td>\n",
       "      <td>3</td>\n",
       "      <td>7</td>\n",
       "      <td>1255</td>\n",
       "      <td>0.0</td>\n",
       "      <td>2004</td>\n",
       "      <td>0.0000</td>\n",
       "      <td>98125</td>\n",
       "      <td>47.7145</td>\n",
       "      <td>-122.3110</td>\n",
       "      <td>1307</td>\n",
       "      <td>1232</td>\n",
       "    </tr>\n",
       "    <tr>\n",
       "      <th>11817</th>\n",
       "      <td>4139420640</td>\n",
       "      <td>10/30/2014</td>\n",
       "      <td>1790000.0000</td>\n",
       "      <td>4</td>\n",
       "      <td>3.5000</td>\n",
       "      <td>5490</td>\n",
       "      <td>14300</td>\n",
       "      <td>1.0000</td>\n",
       "      <td>0.0000</td>\n",
       "      <td>4.0000</td>\n",
       "      <td>3</td>\n",
       "      <td>12</td>\n",
       "      <td>2910</td>\n",
       "      <td>2580.0</td>\n",
       "      <td>1996</td>\n",
       "      <td>0.0000</td>\n",
       "      <td>98006</td>\n",
       "      <td>47.5511</td>\n",
       "      <td>-122.1140</td>\n",
       "      <td>4290</td>\n",
       "      <td>13822</td>\n",
       "    </tr>\n",
       "  </tbody>\n",
       "</table>\n",
       "</div>"
      ],
      "text/plain": [
       "              sale_id   sale_date   sale_price  bedrooms  bathrooms  \\\n",
       "unique_id                                                             \n",
       "663        6798100662   5/27/2014  312000.0000         3     1.5000   \n",
       "11817      4139420640  10/30/2014 1790000.0000         4     3.5000   \n",
       "\n",
       "           sqft_living  sqft_lot  floors  waterfront  has_been_viewed  \\\n",
       "unique_id                                                               \n",
       "663               1255      1374  3.0000      0.0000           0.0000   \n",
       "11817             5490     14300  1.0000      0.0000           4.0000   \n",
       "\n",
       "           condition  grade  sqft_no_basement sqft_basement  yr_built  \\\n",
       "unique_id                                                               \n",
       "663                3      7              1255           0.0      2004   \n",
       "11817              3     12              2910        2580.0      1996   \n",
       "\n",
       "           yr_renovated  zipcode     lat      long  sqft_living_15_nn  \\\n",
       "unique_id                                                               \n",
       "663              0.0000    98125 47.7145 -122.3110               1307   \n",
       "11817            0.0000    98006 47.5511 -122.1140               4290   \n",
       "\n",
       "           sqft_lot_15_nn  \n",
       "unique_id                  \n",
       "663                  1232  \n",
       "11817               13822  "
      ]
     },
     "execution_count": 3,
     "metadata": {},
     "output_type": "execute_result"
    }
   ],
   "source": [
    "# Import .csv file into DataFrame\n",
    "df = pd.read_csv(r'kc_house_data.csv')\n",
    "\n",
    "# Rename columns and index for interpretability\n",
    "new_names = {'id':'sale_id','date':'sale_date','price':'sale_price','view':'has_been_viewed','sqft_above':'sqft_no_basement',\n",
    "             'sqft_living15':'sqft_living_15_nn','sqft_lot15':'sqft_lot_15_nn'}\n",
    "\n",
    "df.rename(columns = new_names, inplace=True)\n",
    "df.index.name = 'unique_id'\n",
    "\n",
    "# View sample of DataFrame\n",
    "display(df.shape)\n",
    "df.sample(2)"
   ]
  },
  {
   "cell_type": "markdown",
   "metadata": {},
   "source": [
    "# <center> ----------------------------------------------------------------------------------------------------------- </center>"
   ]
  },
  {
   "cell_type": "markdown",
   "metadata": {},
   "source": [
    "# Duplicates and Missing Data"
   ]
  },
  {
   "cell_type": "markdown",
   "metadata": {},
   "source": [
    "## Duplicates\n",
    "- The `sale_id` column does have duplicates, but they appear to be unique sales for the same house"
   ]
  },
  {
   "cell_type": "code",
   "execution_count": 4,
   "metadata": {},
   "outputs": [
    {
     "data": {
      "text/plain": [
       "False    21420\n",
       "True       177\n",
       "Name: sale_id, dtype: int64"
      ]
     },
     "execution_count": 4,
     "metadata": {},
     "output_type": "execute_result"
    }
   ],
   "source": [
    "df['sale_id'].duplicated().value_counts()"
   ]
  },
  {
   "cell_type": "code",
   "execution_count": 5,
   "metadata": {},
   "outputs": [
    {
     "data": {
      "text/plain": [
       "False    21597\n",
       "dtype: int64"
      ]
     },
     "execution_count": 5,
     "metadata": {},
     "output_type": "execute_result"
    }
   ],
   "source": [
    "df.duplicated().value_counts()"
   ]
  },
  {
   "cell_type": "markdown",
   "metadata": {},
   "source": [
    "## Missing Data"
   ]
  },
  {
   "cell_type": "code",
   "execution_count": 6,
   "metadata": {},
   "outputs": [
    {
     "data": {
      "text/html": [
       "<div>\n",
       "<style scoped>\n",
       "    .dataframe tbody tr th:only-of-type {\n",
       "        vertical-align: middle;\n",
       "    }\n",
       "\n",
       "    .dataframe tbody tr th {\n",
       "        vertical-align: top;\n",
       "    }\n",
       "\n",
       "    .dataframe thead th {\n",
       "        text-align: right;\n",
       "    }\n",
       "</style>\n",
       "<table border=\"1\" class=\"dataframe\">\n",
       "  <thead>\n",
       "    <tr style=\"text-align: right;\">\n",
       "      <th></th>\n",
       "      <th>Count</th>\n",
       "      <th>Percent</th>\n",
       "    </tr>\n",
       "  </thead>\n",
       "  <tbody>\n",
       "    <tr>\n",
       "      <th>waterfront</th>\n",
       "      <td>2376</td>\n",
       "      <td>11.0000</td>\n",
       "    </tr>\n",
       "    <tr>\n",
       "      <th>has_been_viewed</th>\n",
       "      <td>63</td>\n",
       "      <td>0.3000</td>\n",
       "    </tr>\n",
       "    <tr>\n",
       "      <th>yr_renovated</th>\n",
       "      <td>3842</td>\n",
       "      <td>17.8000</td>\n",
       "    </tr>\n",
       "  </tbody>\n",
       "</table>\n",
       "</div>"
      ],
      "text/plain": [
       "                 Count  Percent\n",
       "waterfront        2376  11.0000\n",
       "has_been_viewed     63   0.3000\n",
       "yr_renovated      3842  17.8000"
      ]
     },
     "execution_count": 6,
     "metadata": {},
     "output_type": "execute_result"
    }
   ],
   "source": [
    "df_nans = pd.DataFrame()\n",
    "df_nans['Count'] = df.isna().sum()\n",
    "df_nans['Percent'] = round(df.isna().mean()*100,1)\n",
    "df_nans[df_nans['Count'] > 0]"
   ]
  },
  {
   "cell_type": "markdown",
   "metadata": {},
   "source": [
    "### The following columns are missing data\n",
    "- **`waterfront`** : Missing 2376 values **(11%)**\n",
    "    - This could be fixed by looking at a map view\n",
    "    - On average ~ 0.05% of houses are waterfront, so that would mean hand picking only ~12 houses, the rest can be labeled 0\n",
    "- **`has_been_viewed`** : Missing 63 values **(<1%)**\n",
    "    - This is such a small subset its likely okay to just drop\n",
    "- **`yr_renovated`** : Missing 3842 values **(17%)**\n",
    "    - 96% of homes have not been renovated, so filling with 0 is likely appropriate\n",
    "    - Might be a good idea testing model with it filled with 0 vs dropped\n",
    "- **`sqft_basement`** : Has 454 value set to \"?\" **(2%)** and is the wrong dtype\n",
    "    - This is such a small subset its likely okay to just drop"
   ]
  },
  {
   "cell_type": "markdown",
   "metadata": {},
   "source": [
    "#### Waterfront Map\n",
    "- Plot houses missing `waterfront` data"
   ]
  },
  {
   "cell_type": "raw",
   "metadata": {},
   "source": [
    "# Create map\n",
    "map_visual = folium.Map(location=(df['lat'].mean(), df['long'].mean()), zoom_star = 9, width = 500, height = 500)\n",
    "\n",
    "# Specify feature to color by\n",
    "color_by = 'waterfront'\n",
    "\n",
    "# Create color map\n",
    "colormap = cm.LinearColormap(colors=['black','red','green'], vmin=0, vmax= 2)\n",
    "\n",
    "# Loop through each home in set, create circle, add to map.\n",
    "for idx in df[df['waterfront'].isna()].index:\n",
    "    folium.Circle(\n",
    "        location=[df.loc[idx]['lat'], df.loc[idx]['long']],\n",
    "        radius = 150,\n",
    "        fill = True,\n",
    "        popup = df.loc[idx]['sale_id'],\n",
    "        color = [color_by],\n",
    "        fill_opacity = 0.5\n",
    "    ).add_to(map_visual)\n",
    "    \n",
    "# View\n",
    "map_visual"
   ]
  },
  {
   "cell_type": "code",
   "execution_count": 7,
   "metadata": {},
   "outputs": [],
   "source": [
    "# Get hand picked list\n",
    "actually_waterfront = [3577000116,1568100920,2726049034,3761700053,825059178,7129303070,2579500110,1724069060,9201300020,573000685]\n",
    "\n",
    "# Use list to fill with 1s, then fill the rest with 0s\n",
    "df.loc[df['sale_id'].isin(actually_waterfront), 'waterfront'] = 1\n",
    "df['waterfront'] = df['waterfront'].fillna(0)"
   ]
  },
  {
   "cell_type": "code",
   "execution_count": 8,
   "metadata": {},
   "outputs": [],
   "source": [
    "# Fill with 0s\n",
    "df['yr_renovated'] = df['yr_renovated'].fillna(0)"
   ]
  },
  {
   "cell_type": "code",
   "execution_count": 9,
   "metadata": {},
   "outputs": [],
   "source": [
    "# Replace \"?\" with nan\n",
    "df['sqft_basement'].replace(\"?\", np.nan, inplace = True)\n",
    "\n",
    "# Drop NaNs\n",
    "df = df.dropna()"
   ]
  },
  {
   "cell_type": "markdown",
   "metadata": {},
   "source": [
    "# <center> ----------------------------------------------------------------------------------------------------------- </center>"
   ]
  },
  {
   "cell_type": "markdown",
   "metadata": {},
   "source": [
    "# Data Cleaning & EDA"
   ]
  },
  {
   "cell_type": "markdown",
   "metadata": {},
   "source": [
    "## 1) Sale Price: \n",
    "- Target/Dependent Variable\n",
    "- String Positive Skew\n",
    "- Likely need to transform"
   ]
  },
  {
   "cell_type": "code",
   "execution_count": 60,
   "metadata": {},
   "outputs": [
    {
     "data": {
      "image/png": "[encoded data removed]",
      "text/plain": [
       "<Figure size 576x432 with 2 Axes>"
      ]
     },
     "metadata": {},
     "output_type": "display_data"
    }
   ],
   "source": [
    "hist_box(df['sale_price'], \n",
    "         figsize=(8,6), \n",
    "         bins = 100, \n",
    "         font_scale=1, \n",
    "         xlabel=\"Sale Price\", \n",
    "         #x_lim= [-100000,8000000]\n",
    "        )"
   ]
  },
  {
   "cell_type": "markdown",
   "metadata": {},
   "source": [
    "## 2) Sale Date: \n",
    "- Cast to proper data type\n",
    "- Extract year/month"
   ]
  },
  {
   "cell_type": "code",
   "execution_count": 30,
   "metadata": {},
   "outputs": [],
   "source": [
    "# Convert to dt\n",
    "df['sale_date'] = pd.to_datetime(df['sale_date'])\n",
    "\n",
    "# Get month & year together\n",
    "df['sale_date_trim'] = df['sale_date'].dt.to_period('M')\n",
    "\n",
    "# Get year\n",
    "df['sale_year'] = df['sale_date'].dt.year\n",
    "\n",
    "# Get month\n",
    "df['sale_month'] = df['sale_date'].dt.month"
   ]
  },
  {
   "cell_type": "markdown",
   "metadata": {},
   "source": [
    "- View stats by month"
   ]
  },
  {
   "cell_type": "code",
   "execution_count": 31,
   "metadata": {},
   "outputs": [
    {
     "data": {
      "text/html": [
       "<div>\n",
       "<style scoped>\n",
       "    .dataframe tbody tr th:only-of-type {\n",
       "        vertical-align: middle;\n",
       "    }\n",
       "\n",
       "    .dataframe tbody tr th {\n",
       "        vertical-align: top;\n",
       "    }\n",
       "\n",
       "    .dataframe thead th {\n",
       "        text-align: right;\n",
       "    }\n",
       "</style>\n",
       "<table border=\"1\" class=\"dataframe\">\n",
       "  <thead>\n",
       "    <tr style=\"text-align: right;\">\n",
       "      <th></th>\n",
       "      <th>num_sales</th>\n",
       "      <th>mean_sale_price</th>\n",
       "      <th>n_days</th>\n",
       "    </tr>\n",
       "    <tr>\n",
       "      <th>sale_date_trim</th>\n",
       "      <th></th>\n",
       "      <th></th>\n",
       "      <th></th>\n",
       "    </tr>\n",
       "  </thead>\n",
       "  <tbody>\n",
       "    <tr>\n",
       "      <th>2014-05</th>\n",
       "      <td>1724</td>\n",
       "      <td>545803</td>\n",
       "      <td>30</td>\n",
       "    </tr>\n",
       "    <tr>\n",
       "      <th>2014-06</th>\n",
       "      <td>2126</td>\n",
       "      <td>558882</td>\n",
       "      <td>30</td>\n",
       "    </tr>\n",
       "    <tr>\n",
       "      <th>2014-07</th>\n",
       "      <td>2163</td>\n",
       "      <td>544584</td>\n",
       "      <td>31</td>\n",
       "    </tr>\n",
       "    <tr>\n",
       "      <th>2014-08</th>\n",
       "      <td>1894</td>\n",
       "      <td>536062</td>\n",
       "      <td>31</td>\n",
       "    </tr>\n",
       "    <tr>\n",
       "      <th>2014-09</th>\n",
       "      <td>1717</td>\n",
       "      <td>528538</td>\n",
       "      <td>30</td>\n",
       "    </tr>\n",
       "    <tr>\n",
       "      <th>2014-10</th>\n",
       "      <td>1831</td>\n",
       "      <td>539036</td>\n",
       "      <td>31</td>\n",
       "    </tr>\n",
       "    <tr>\n",
       "      <th>2014-11</th>\n",
       "      <td>1375</td>\n",
       "      <td>523796</td>\n",
       "      <td>29</td>\n",
       "    </tr>\n",
       "    <tr>\n",
       "      <th>2014-12</th>\n",
       "      <td>1442</td>\n",
       "      <td>525191</td>\n",
       "      <td>29</td>\n",
       "    </tr>\n",
       "    <tr>\n",
       "      <th>2015-01</th>\n",
       "      <td>947</td>\n",
       "      <td>526844</td>\n",
       "      <td>26</td>\n",
       "    </tr>\n",
       "    <tr>\n",
       "      <th>2015-02</th>\n",
       "      <td>1215</td>\n",
       "      <td>508130</td>\n",
       "      <td>26</td>\n",
       "    </tr>\n",
       "    <tr>\n",
       "      <th>2015-03</th>\n",
       "      <td>1833</td>\n",
       "      <td>545142</td>\n",
       "      <td>31</td>\n",
       "    </tr>\n",
       "    <tr>\n",
       "      <th>2015-04</th>\n",
       "      <td>2174</td>\n",
       "      <td>561321</td>\n",
       "      <td>30</td>\n",
       "    </tr>\n",
       "    <tr>\n",
       "      <th>2015-05</th>\n",
       "      <td>641</td>\n",
       "      <td>560398</td>\n",
       "      <td>17</td>\n",
       "    </tr>\n",
       "  </tbody>\n",
       "</table>\n",
       "</div>"
      ],
      "text/plain": [
       "                num_sales  mean_sale_price  n_days\n",
       "sale_date_trim                                    \n",
       "2014-05              1724           545803      30\n",
       "2014-06              2126           558882      30\n",
       "2014-07              2163           544584      31\n",
       "2014-08              1894           536062      31\n",
       "2014-09              1717           528538      30\n",
       "2014-10              1831           539036      31\n",
       "2014-11              1375           523796      29\n",
       "2014-12              1442           525191      29\n",
       "2015-01               947           526844      26\n",
       "2015-02              1215           508130      26\n",
       "2015-03              1833           545142      31\n",
       "2015-04              2174           561321      30\n",
       "2015-05               641           560398      17"
      ]
     },
     "execution_count": 31,
     "metadata": {},
     "output_type": "execute_result"
    }
   ],
   "source": [
    "date_df = pd.DataFrame()\n",
    "date_df['num_sales'] = df.groupby('sale_date_trim')['sale_id'].count()\n",
    "date_df['mean_sale_price'] = df.groupby('sale_date_trim')['sale_price'].mean().astype(int)\n",
    "date_df['n_days'] = df.groupby('sale_date_trim')['sale_date'].nunique()\n",
    "date_df"
   ]
  },
  {
   "cell_type": "markdown",
   "metadata": {},
   "source": [
    "- There appears to be a strong linear relationship between the number of houses sold in a month and the mean sale price\n",
    "    - There is one outlier (2015-05), however this month has incomplete data"
   ]
  },
  {
   "cell_type": "code",
   "execution_count": 32,
   "metadata": {},
   "outputs": [
    {
     "data": {
      "image/png": "[encoded data removed]",
      "text/plain": [
       "<Figure size 432x288 with 1 Axes>"
      ]
     },
     "metadata": {
      "needs_background": "light"
     },
     "output_type": "display_data"
    }
   ],
   "source": [
    "date_df.plot.scatter(x='num_sales',y='mean_sale_price');"
   ]
  },
  {
   "cell_type": "markdown",
   "metadata": {},
   "source": [
    "- There appears to be a trend in sale price by month\n",
    "    - Peak = summer/fall\n",
    "    - Trough = winter/spring"
   ]
  },
  {
   "cell_type": "code",
   "execution_count": 55,
   "metadata": {},
   "outputs": [
    {
     "data": {
      "image/png": "[encoded data removed]",
      "text/plain": [
       "<Figure size 720x360 with 1 Axes>"
      ]
     },
     "metadata": {
      "needs_background": "light"
     },
     "output_type": "display_data"
    }
   ],
   "source": [
    "df.hist('sale_date', bins=50, figsize = (10,5));"
   ]
  },
  {
   "cell_type": "markdown",
   "metadata": {},
   "source": [
    "## 3) Bedrooms: \n",
    "- One outlier with 30+ bedrooms (dropped)"
   ]
  },
  {
   "cell_type": "code",
   "execution_count": 67,
   "metadata": {},
   "outputs": [],
   "source": [
    "df = df[df['bedrooms'] < 15]"
   ]
  },
  {
   "cell_type": "markdown",
   "metadata": {},
   "source": [
    "- Most homes have between 2 and 5 bedrooms"
   ]
  },
  {
   "cell_type": "code",
   "execution_count": 69,
   "metadata": {},
   "outputs": [
    {
     "data": {
      "image/png": "[encoded data removed]",
      "text/plain": [
       "<Figure size 576x432 with 2 Axes>"
      ]
     },
     "metadata": {},
     "output_type": "display_data"
    }
   ],
   "source": [
    "hist_box(df['bedrooms'], \n",
    "         figsize=(8,6), \n",
    "         bins = 100, \n",
    "         font_scale=1, \n",
    "         xlabel=\"Sale Price\", \n",
    "         #x_lim= [-100000,8000000]\n",
    "        )"
   ]
  },
  {
   "cell_type": "markdown",
   "metadata": {},
   "source": [
    "- There appears to be a linear relationship between bedrooms and sale price\n",
    "    - This trend weakens after adding more then 5 bedrooms"
   ]
  },
  {
   "cell_type": "code",
   "execution_count": 75,
   "metadata": {},
   "outputs": [
    {
     "data": {
      "text/plain": [
       "(-10000.0, 4000000.0)"
      ]
     },
     "execution_count": 75,
     "metadata": {},
     "output_type": "execute_result"
    },
    {
     "data": {
      "image/png": "[encoded data removed]",
      "text/plain": [
       "<Figure size 720x360 with 1 Axes>"
      ]
     },
     "metadata": {},
     "output_type": "display_data"
    }
   ],
   "source": [
    "df[['sale_price','bedrooms']].boxplot('sale_price', \n",
    "                                      by='bedrooms', \n",
    "                                      figsize=(10,5)\n",
    "                                     ).set_ylim(-10000,4000000)"
   ]
  },
  {
   "cell_type": "markdown",
   "metadata": {},
   "source": [
    "## 4) Bathrooms: \n",
    "- Most houses have between 1 and 3.5 bathrooms"
   ]
  },
  {
   "cell_type": "code",
   "execution_count": 76,
   "metadata": {},
   "outputs": [
    {
     "data": {
      "image/png": "[encoded data removed]",
      "text/plain": [
       "<Figure size 576x432 with 2 Axes>"
      ]
     },
     "metadata": {},
     "output_type": "display_data"
    }
   ],
   "source": [
    "hist_box(df['bathrooms'], \n",
    "         figsize=(8,6), \n",
    "         bins = 100, \n",
    "         font_scale=1, \n",
    "         xlabel=\"Sale Price\", \n",
    "         #x_lim= [-100000,8000000]\n",
    "        )"
   ]
  },
  {
   "cell_type": "markdown",
   "metadata": {},
   "source": [
    "- There appears to be a strong relationship between bathrooms and sale price\n",
    "    - The tightness of the trend weakens at higher bathroom counts due to data density, but still exists"
   ]
  },
  {
   "cell_type": "code",
   "execution_count": 80,
   "metadata": {},
   "outputs": [
    {
     "data": {
      "text/plain": [
       "(-10000.0, 8000000.0)"
      ]
     },
     "execution_count": 80,
     "metadata": {},
     "output_type": "execute_result"
    },
    {
     "data": {
      "image/png": "[encoded data removed]",
      "text/plain": [
       "<Figure size 1080x360 with 1 Axes>"
      ]
     },
     "metadata": {},
     "output_type": "display_data"
    }
   ],
   "source": [
    "df[['sale_price','bathrooms']].boxplot('sale_price', \n",
    "                                      by='bathrooms', \n",
    "                                      figsize=(15,5)\n",
    "                                     ).set_ylim(-10000,8000000)"
   ]
  },
  {
   "cell_type": "markdown",
   "metadata": {},
   "source": [
    "## 5) Sqft Living: \n",
    "- Most houses have between 1 and 3.5 bathrooms\n",
    "- Positive Skew\n",
    "- Likely needs a transform for normality"
   ]
  },
  {
   "cell_type": "code",
   "execution_count": 82,
   "metadata": {},
   "outputs": [
    {
     "data": {
      "image/png": "[encoded data removed]",
      "text/plain": [
       "<Figure size 576x432 with 2 Axes>"
      ]
     },
     "metadata": {},
     "output_type": "display_data"
    }
   ],
   "source": [
    "hist_box(df['sqft_living'], \n",
    "         figsize=(8,6), \n",
    "         bins = 100, \n",
    "         font_scale=1, \n",
    "         xlabel=\"Sale Price\" \n",
    "        )"
   ]
  },
  {
   "cell_type": "markdown",
   "metadata": {},
   "source": [
    "- There appears to be a positive relationship between living sqft and sale price\n",
    "    - The trend is noisy, try boxplot view"
   ]
  },
  {
   "cell_type": "code",
   "execution_count": 113,
   "metadata": {},
   "outputs": [
    {
     "name": "stderr",
     "output_type": "stream",
     "text": [
      "*c* argument looks like a single numeric RGB or RGBA sequence, which should be avoided as value-mapping will have precedence in case its length matches with *x* & *y*.  Please use the *color* keyword-argument or provide a 2-D array with a single row if you intend to specify the same RGB or RGBA value for all points.\n"
     ]
    },
    {
     "data": {
      "image/png": "[encoded data removed]",
      "text/plain": [
       "<Figure size 360x288 with 1 Axes>"
      ]
     },
     "metadata": {},
     "output_type": "display_data"
    }
   ],
   "source": [
    "df.plot.scatter(x='sqft_living', y='sale_price', figsize=(5,4));"
   ]
  },
  {
   "cell_type": "markdown",
   "metadata": {},
   "source": [
    "- This is a more clear view of the relationship"
   ]
  },
  {
   "cell_type": "code",
   "execution_count": 110,
   "metadata": {},
   "outputs": [
    {
     "data": {
      "image/png": "[encoded data removed]",
      "text/plain": [
       "<Figure size 720x360 with 1 Axes>"
      ]
     },
     "metadata": {},
     "output_type": "display_data"
    }
   ],
   "source": [
    "df_temp = df[['sale_price','sqft_living']]\n",
    "df_temp['sqft_living'] = pd.cut(df['sqft_living'], bins=5)\n",
    "df_temp[['sale_price','sqft_living']].boxplot('sale_price', \n",
    "                                                by='sqft_living', \n",
    "                                                figsize=(10,5)\n",
    "                                                );"
   ]
  },
  {
   "cell_type": "markdown",
   "metadata": {},
   "source": [
    "### Thoughts on Features:\n",
    "- **`sale_date`** \n",
    "    - Convert to Pandas Datetime object\n",
    "    - Distribution shows trend (less home sales in 2015)\n",
    "        - Feature Engineer \n",
    "- **`sale_price`** \n",
    "    - Logarithmic, outliers\n",
    "- **`bedrooms`** \n",
    "    - Logarithmic, one outlier\n",
    "    - Non-linear relationship with sales_price\n",
    "- **`bathrooms`** \n",
    "    - Few outliers\n",
    "    - Positive correlation with sales_price on high end (probably worth keeping)\n",
    "- **`sqft_living`** \n",
    "    - Logarithmic, outliers\n",
    "    - Strong correlation with sales_price except for last data point\n",
    "- **`sqft_lot`** \n",
    "    - Logarithmic, tons of outliers\n",
    "- **`floors`**\n",
    "    - OK\n",
    "- **`has_been_viewed`**\n",
    "    - OK\n",
    "- **`condition`**\n",
    "    - OK\n",
    "- **`grade`**\n",
    "    - OK\n",
    "    - Strong correlation with sales price\n",
    "- **`sqft_no_basement`** :\n",
    "    - Logarithmic, outliers\n",
    "- **`sqft_basement`**\n",
    "    - Convert to float\n",
    "    - Logarithmic, outliers\n",
    "- **`yr_built`** \n",
    "    - OK\n",
    "- **`yr_renovated`** \n",
    "    - Many zero values, may need to bump\n",
    "    - Feature engineer binary?\n",
    "    - Logarithmic\n",
    "- **`zipcode`** \n",
    "    - Need to make categorical\n",
    "    - Feature engineer\n",
    "        - Calculate metrics by zip code\n",
    "- **`lat/long`** \n",
    "    - Possible feature engineer\n",
    "- **`sqft_living_15_nn`** \n",
    "    - Logarithmic, outliers\n",
    "- **`sqft_lot_15_nn`** \n",
    "    - Logarithmic, outliers"
   ]
  },
  {
   "cell_type": "markdown",
   "metadata": {},
   "source": [
    "### Typecast and engineer **`sqft_basement`**"
   ]
  },
  {
   "cell_type": "code",
   "execution_count": null,
   "metadata": {},
   "outputs": [],
   "source": [
    "# Typecast to float\n",
    "df['sqft_basement'] = df['sqft_basement'].astype(float)\n",
    "\n",
    "# Create new column and assign zero\n",
    "df['has_basement'] = 0\n",
    "\n",
    "# Denote all houses that have a sqft_basement > 0 as having a basement\n",
    "df.loc[df['sqft_basement'] > 1,'has_basement'] = 1\n",
    "\n",
    "# Drop old feature\n",
    "df = df.drop(columns=['sqft_basement','sqft_no_basement'])"
   ]
  },
  {
   "cell_type": "markdown",
   "metadata": {},
   "source": [
    "### Manipulate **`yr_renovated`**"
   ]
  },
  {
   "cell_type": "code",
   "execution_count": null,
   "metadata": {},
   "outputs": [],
   "source": [
    "# Create new column and assign zero\n",
    "df['is_renovated'] = 0\n",
    "\n",
    "# Denote all houses that have a renovation date as renovated\n",
    "df.loc[df['yr_renovated'] > 1,'is_renovated'] = 1\n",
    "\n",
    "# Drop old feature\n",
    "df = df.drop(columns=['yr_renovated'])\n",
    "df.sample(2)"
   ]
  },
  {
   "cell_type": "markdown",
   "metadata": {},
   "source": [
    "# Declare cleaned DataFrame for EDA"
   ]
  },
  {
   "cell_type": "code",
   "execution_count": null,
   "metadata": {},
   "outputs": [],
   "source": [
    "# Drop unwanted columns\n",
    "df_cleaned = df.loc[:,~df.columns.str.contains('sale_date|sale_id')]\n",
    "df_cleaned.sample()"
   ]
  },
  {
   "cell_type": "markdown",
   "metadata": {},
   "source": [
    "##### \n",
    "##### <center>-------------------------------------------------------------------------------------------------------------------------------------------------------------------------------------</center>\n",
    "##### "
   ]
  },
  {
   "cell_type": "markdown",
   "metadata": {},
   "source": [
    "##### \n",
    "##### <center>-------------------------------------------------------------------------------------------------------------------------------------------------------------------------------------</center>\n",
    "##### "
   ]
  },
  {
   "cell_type": "markdown",
   "metadata": {},
   "source": [
    "# <center><u> Part 2: Questions </u></center>"
   ]
  },
  {
   "cell_type": "markdown",
   "metadata": {},
   "source": [
    "## Question #1: Does the housing market have a seasonal trend in sale volume?"
   ]
  },
  {
   "cell_type": "code",
   "execution_count": null,
   "metadata": {},
   "outputs": [],
   "source": [
    "# Create figure\n",
    "fig = px.histogram(df, \n",
    "                   x=\"sale_date\", width=1000, height=400,\n",
    "             title = \"Number of Houses Sold Over Time\",\n",
    "             labels = {'sale_date':'Date of Sale'\n",
    "                     })\n",
    "fig.show()"
   ]
  },
  {
   "cell_type": "markdown",
   "metadata": {},
   "source": [
    "### Interpretation:\n",
    "- There does appear to be a trend in volume of houses sold through time\n",
    "    - There is a gradual decline from July through January, then a recovery through May\n",
    "    - Possible Interpretation: More homes may sell in the summer than in the winter, may also be macro-economic driven (need more data)\n",
    "- It might be worth trying to feature engineer month and year from our data\n",
    "    - These trends might hint at the supply/demand dynamic that can cause homes to sell above/below market value"
   ]
  },
  {
   "cell_type": "markdown",
   "metadata": {},
   "source": [
    "##### \n",
    "##### <center>-------------------------------------------------------------------------------------------------------------------------------------------------------------------------------------</center>\n",
    "##### "
   ]
  },
  {
   "cell_type": "markdown",
   "metadata": {},
   "source": [
    "## Question #2: Is there any one feature on a map that appears to drive prices higher?"
   ]
  },
  {
   "cell_type": "code",
   "execution_count": null,
   "metadata": {},
   "outputs": [],
   "source": [
    "# Create map\n",
    "map_visual = folium.Map(location=(df['lat'].mean(), df['long'].mean()), zoom_star = 9, width = 500, height = 500)\n",
    "\n",
    "# Specify feature to color by\n",
    "color_by = 'sale_price'\n",
    "\n",
    "# Create color map\n",
    "colormap = cm.LinearColormap(colors=['black','gray','green','yellow','orange','red'], vmin=200000, vmax= 1250000)\n",
    "\n",
    "# Loop through each home in set, create circle, add to map.\n",
    "for idx in df_cleaned.index:\n",
    "    folium.Circle(\n",
    "        location=[df_cleaned.loc[idx]['lat'], df_cleaned.loc[idx]['long']],\n",
    "        radius = 8,\n",
    "        fill = True,\n",
    "        color = colormap(df_cleaned.loc[idx][color_by]),\n",
    "        fill_opacity = 0.2\n",
    "    ).add_to(map_visual)\n",
    "    \n",
    "# Add colorbar\n",
    "colormap.caption = 'Sale Price'\n",
    "map_visual.add_child(colormap)\n",
    "\n",
    "# View\n",
    "map_visual"
   ]
  },
  {
   "cell_type": "markdown",
   "metadata": {},
   "source": [
    "### Interpretation:\n",
    "- Houses that are closer to the two primary lakes (Washington and Sammamish) tend to have higher prices\n",
    "- There are high value homes that lie away from these areas, but they are a minority"
   ]
  },
  {
   "cell_type": "markdown",
   "metadata": {},
   "source": [
    "##### \n",
    "##### <center>-------------------------------------------------------------------------------------------------------------------------------------------------------------------------------------</center>\n",
    "##### "
   ]
  },
  {
   "cell_type": "markdown",
   "metadata": {},
   "source": [
    "## Question #3: Do any of our variables show a non-linear relationship with **`sales_price`**?"
   ]
  },
  {
   "cell_type": "code",
   "execution_count": null,
   "metadata": {},
   "outputs": [],
   "source": [
    "# Create Plot\n",
    "fig = px.box(x=df['floors'],\n",
    "             y=df['sale_price'],\n",
    "             points = 'all',\n",
    "             title = \"Number of Floors vs. Sales Price\",\n",
    "             labels = {'x':'Number of Floors',\n",
    "                     \"y\": \"Sales Price ($MM)\"\n",
    "                     },\n",
    "            height = 550,\n",
    "            width = 800)\n",
    "\n",
    "# Set y-limit\n",
    "fig.update_layout(yaxis_range=[0,2750000])\n",
    "\n",
    "fig.show()"
   ]
  },
  {
   "cell_type": "markdown",
   "metadata": {},
   "source": [
    "### Interpretation:\n",
    "- The amount of floors the home has appears to have an almost quadratic relationship with sales price\n",
    "- It appears people value homes with 2-2.5 floors the most, adding additional floors beyond this threshold translates to *lower* prices\n",
    "- Further Questions: Would our model perform better by dropping this varaible, or by removing data points with > 2.5 floors?"
   ]
  },
  {
   "cell_type": "markdown",
   "metadata": {},
   "source": [
    "##### \n",
    "##### <center>-------------------------------------------------------------------------------------------------------------------------------------------------------------------------------------</center>\n",
    "##### "
   ]
  },
  {
   "cell_type": "markdown",
   "metadata": {},
   "source": [
    "# <center><u> Part 3: Modelling </u></center>"
   ]
  },
  {
   "cell_type": "markdown",
   "metadata": {},
   "source": [
    "## Define Function to feature engineer with **`zipcode`**\n",
    "- This function does the following:\n",
    "    - Creates a test/train split\n",
    "    - Conditional upon an argument, it will perform feature engineering\n",
    "        - A summary statistic is calculated for features grouped by zipcodes ***from the training data*** to prevent data leakage\n",
    "    - It returns a DataFrame, and the train/test splits. The indexes of these splits are then used to define our splits for the final model"
   ]
  },
  {
   "cell_type": "code",
   "execution_count": null,
   "metadata": {},
   "outputs": [],
   "source": [
    "def feature_engineer(dataframe, engineer = 1):\n",
    "    ''' \n",
    "    - Accepts a DataFrame object and a boolean value.\n",
    "        - If the boolean value is 1:\n",
    "            The function will create a train/test split, then perform feature engineering by calculating new features grouped by zipcode\n",
    "        - If the boolean value is 0:\n",
    "            The funciton will create a train/test split, it will not perform any feature engineering\n",
    "    - Returns a DataFrame, and the train/test splits for the X and y\n",
    "    '''\n",
    "    \n",
    "    if engineer == 1:\n",
    "        \n",
    "        # Create our X and y\n",
    "        y0 = dataframe['sale_price']\n",
    "        X0 = dataframe.drop(columns=['sale_price'])\n",
    "        \n",
    "        # Train/Test Split\n",
    "        X_train0, X_test0, y_train0, y_test0 = train_test_split(X0, y0, test_size = 0.25, random_state = 42)\n",
    "\n",
    "        # Create DataFrame of training data only\n",
    "        train_data0 = pd.merge(X_train0, y_train0, left_index = True , right_index = True)\n",
    "\n",
    "        # Create DataFrame to populate with GroupBy data\n",
    "        zipcode_dataframe = pd.DataFrame()\n",
    "\n",
    "        # Create a column in the new DataFrame for each feature grouped by zipcode\n",
    "        # We are adding data to our primary DataFrame \"dataframe\", but only extracting data from our train set\n",
    "        for col in ['sale_price','sqft_living','grade','yr_built','sqft_lot','condition','has_been_viewed','bedrooms','waterfront']:                \n",
    "            zipcode_dataframe[f'median_{col}_in_zip'] = train_data0.groupby('zipcode')[col].median()\n",
    "\n",
    "        # Add column to original DataFrame\n",
    "        dataframe = dataframe.merge(zipcode_dataframe, left_on = 'zipcode', right_index = True)\n",
    "                        \n",
    "        return dataframe, X_train0, X_test0, y_train0, y_test0 \n",
    "    \n",
    "    else:\n",
    "        \n",
    "        # Perform same steps as above, omitting the feature engineering\n",
    "        y0 = dataframe['sale_price']\n",
    "        X0 = dataframe.drop(columns=['sale_price'])\n",
    "        X_train0, X_test0, y_train0, y_test0 = train_test_split(X0, y0, test_size = 0.25, random_state = 42)\n",
    "\n",
    "        train_data0 = pd.merge(X_train0, y_train0, left_index = True , right_index = True)\n",
    "\n",
    "        return dataframe, X_train0, X_test0, y_train0, y_test0 "
   ]
  },
  {
   "cell_type": "markdown",
   "metadata": {},
   "source": [
    "## Modelling\n",
    "- Define function to test/train split and build linear regression model for a given DataFrame"
   ]
  },
  {
   "cell_type": "code",
   "execution_count": null,
   "metadata": {},
   "outputs": [],
   "source": [
    "def split_and_model(dataframe, X_train0, X_test0, y_train0, y_test0):\n",
    "    ''' \n",
    "    - Accepts a DataFrame as well as train/test splits passed from a previously defined feature_engineering function:\n",
    "    - This function defines the dependent variable, recreates train/test splits using the indexes of the provided splits,\n",
    "      tests to ensure that they are the same, then creates a linear regression model from the data.\n",
    "    - Returns a R-Squared, Adjusted R-Squared, and a dictionary with the features and coefficients\n",
    "    '''\n",
    "    # Define our dependent variable based on the provided columns in our DataFrame\n",
    "    # Due to the iterative nature of the model building, sometimes our dependent varible will be log-transformed, sometimes not\n",
    "    dep_var = 'sale_price' if 'sale_price_log' not in dataframe.columns else 'sale_price_log'\n",
    "            \n",
    "    # Define X and y\n",
    "    y = dataframe[dep_var]\n",
    "    X = dataframe.drop(columns=[dep_var])\n",
    "    \n",
    "    # Create splits using the indexes from the previously defined splits to ensure they are identical\n",
    "    X_train = dataframe[dataframe.index.isin(X_train0.index)].drop(columns=[dep_var])\n",
    "    X_test = dataframe[dataframe.index.isin(X_test0.index)].drop(columns=[dep_var])\n",
    "    y_train = dataframe[dataframe.index.isin(y_train0.index)][dep_var]\n",
    "    y_test = dataframe[dataframe.index.isin(y_test0.index)][dep_var]\n",
    "\n",
    "    # Test to ensure that our splits are the same as before\n",
    "    test1 = set(X_train.index) == set(X_train0.index)\n",
    "    test2 = set(X_test.index) == set(X_test0.index)\n",
    "    test3 = set(y_train.index) == set(y_train0.index)\n",
    "    test4 = set(y_test.index) == set(y_test0.index)\n",
    "\n",
    "    if np.all([test1, test2, test3, test4]):\n",
    "        \n",
    "        # Create linear model\n",
    "        reg = LinearRegression().fit(X_train, y_train)\n",
    "\n",
    "        # Evaluate Model\n",
    "        # Calculate R-Squared\n",
    "        R2 = round(reg.score(X_test, y_test), 3)\n",
    "\n",
    "        # Calculate Adjusted R-Squared\n",
    "        p = len(X.columns)\n",
    "        n = len(X)\n",
    "        adj_r2 = round(1-(1-R2)*(n-1)/(n-p-1),3)\n",
    "\n",
    "        # Create dictionary of features and their coefficients\n",
    "        results_dict = {X.columns[i]: abs(reg.coef_[i]) for i in range(len(X.columns))}\n",
    "        results_dict = dict(sorted(results_dict.items(), key=lambda item: item[1], reverse=True))\n",
    "\n",
    "        return R2, adj_r2, results_dict, reg\n",
    "    \n",
    "    else:\n",
    "        print('ERROR WITH TRAIN TEST SPLIT')"
   ]
  },
  {
   "cell_type": "markdown",
   "metadata": {},
   "source": [
    "## Log Transform Values\n",
    "- Define a function to log transform a list of provided columns, then drop the non-transformed columns"
   ]
  },
  {
   "cell_type": "code",
   "execution_count": null,
   "metadata": {},
   "outputs": [],
   "source": [
    "def log_transform_and_drop(dataframe):\n",
    "    ''' \n",
    "    - Accepts a DataFrame \n",
    "    - Log transforms predetermined columns in the DataFrame\n",
    "    - Drop the columns that have transformed versions from the DataFrame\n",
    "    - Returns the new DataFrame with transformed columns\n",
    "    '''\n",
    "    \n",
    "    for col in ['sale_price','bedrooms','sqft_living','sqft_lot','condition','sqft_living_15_nn','sqft_lot_15_nn']:\n",
    "        dataframe[f'{col}_log'] = np.log10(dataframe[col])\n",
    "        \n",
    "    dataframe = dataframe.drop(columns=[i for i in dataframe.columns if str(i) + '_log' in dataframe.columns])\n",
    "    \n",
    "    return dataframe"
   ]
  },
  {
   "cell_type": "markdown",
   "metadata": {},
   "source": [
    "## Feature Scaling\n",
    "- Define function to scale our features"
   ]
  },
  {
   "cell_type": "code",
   "execution_count": null,
   "metadata": {},
   "outputs": [],
   "source": [
    "def scale_features(dataframe):\n",
    "    ''' \n",
    "    - Accepts a DataFrame \n",
    "    - Scales all of the data in the DataFrame using StandardScaler()\n",
    "    - Returns the new DataFrame\n",
    "    '''\n",
    "    # Create Scalar\n",
    "    scaler = StandardScaler()\n",
    "\n",
    "    # Fit and transform the data, creating DataFrame with same index/columns as the original\n",
    "    scaled_dataframe = pd.DataFrame(scaler.fit_transform(dataframe), index = dataframe.index, columns = dataframe.columns)\n",
    "  \n",
    "    return scaled_dataframe"
   ]
  },
  {
   "cell_type": "markdown",
   "metadata": {},
   "source": [
    "## Iterate"
   ]
  },
  {
   "cell_type": "code",
   "execution_count": null,
   "metadata": {},
   "outputs": [],
   "source": [
    "# Create DataFrame to hold results\n",
    "results_df = pd.DataFrame()\n",
    "\n",
    "# Create variable to keep count of the number of iterations\n",
    "count = 0\n",
    "\n",
    "for feature_engineering in [0,1]:\n",
    "\n",
    "    df_cleaned_engineered, X_train0, X_test0, y_train0, y_test0 = feature_engineer(df_cleaned, feature_engineering)\n",
    "\n",
    "    for standardized in [0,1]:\n",
    "\n",
    "        for log in [0,1]:\n",
    "\n",
    "            df_temp = df_cleaned_engineered.copy()\n",
    "\n",
    "            if log == 1:\n",
    "                df_temp = log_transform_and_drop(df_temp)\n",
    "\n",
    "            if standardized == 1:\n",
    "                df_temp = scale_features(df_temp)                    \n",
    "\n",
    "            # Train Test Split\n",
    "            R2, adj_r2, results_dict, model = split_and_model(df_temp,X_train0, X_test0, y_train0, y_test0)\n",
    "\n",
    "            # Add results to the results_df\n",
    "            results_df.loc[count,'Adj_R2'] = adj_r2\n",
    "            results_df.loc[count,'R2'] = R2\n",
    "            results_df.loc[count,'Log_Transformed'] = log\n",
    "            results_df.loc[count,'Standardized'] = standardized\n",
    "            results_df.loc[count,'features_engineered'] = feature_engineering\n",
    "            results_df.loc[count,'1st_important_feature'] = list(results_dict.keys())[0]\n",
    "            results_df.loc[count,'2nd_important_feature'] = list(results_dict.keys())[1]\n",
    "            results_df.loc[count,'3rd_important_feature'] = list(results_dict.keys())[2]\n",
    "\n",
    "            count += 1\n",
    "\n",
    "            if count % 250 == 0:\n",
    "                print(count)\n",
    "\n",
    "results_df.sort_values('Adj_R2', ascending = False).head()"
   ]
  },
  {
   "cell_type": "markdown",
   "metadata": {},
   "source": [
    "##### \n",
    "##### <center>-------------------------------------------------------------------------------------------------------------------------------------------------------------------------------------</center>\n",
    "##### "
   ]
  },
  {
   "cell_type": "markdown",
   "metadata": {},
   "source": [
    "# <center><u> Part 4: Model Evaluation </u></center>"
   ]
  },
  {
   "cell_type": "markdown",
   "metadata": {},
   "source": [
    "### Does our Log Transform and/or Feature Engineering impact the Accuracy of the model?\n",
    "- It does appear that both of these workflows had a substantial impact on our models predictions\n",
    "    - Log Transformation improved performance by **~ 7%**\n",
    "    - Feature Engineering improved performance by **~ 10%** "
   ]
  },
  {
   "cell_type": "code",
   "execution_count": null,
   "metadata": {},
   "outputs": [],
   "source": [
    "fig = px.box(results_df,\n",
    "             x=\"features_engineered\",\n",
    "             y=\"Adj_R2\",\n",
    "             title = \"Model Performance Across Feature Engineering and Log Transformation\",\n",
    "             color='Log_Transformed', points = 'all',\n",
    "             height = 500, width = 700)\n",
    "fig"
   ]
  },
  {
   "cell_type": "markdown",
   "metadata": {},
   "source": [
    "### Does trimming outliers have a notable impact on our model?\n",
    "- Trimming the outliers for `lot_size` does have a *marginal* impact on the model results\n",
    "- As we start to trim the values the performance does creep higher, but the results become significantly less stable\n",
    "    - The results are more stable for the log-transformed values\n",
    "    - This leads me to believe these improvements are being driven by noise, not a real relationship\n",
    "    - A case could be make to trim values at ~350,000 for a ~1% increase"
   ]
  },
  {
   "cell_type": "code",
   "execution_count": null,
   "metadata": {},
   "outputs": [],
   "source": [
    "df_plot = results_df.copy()\n",
    "df_plot.sort_values(by='max_lot_size', inplace=True)\n",
    "\n",
    "fig = px.scatter(df_plot, \n",
    "             x = 'max_lot_size', \n",
    "             y = 'Adj_R2', \n",
    "             color='Log_Transformed',\n",
    "             color_continuous_scale='bluered',\n",
    "             title = \"Model Performance Across Different Max Lot Sizes\",\n",
    "             width = 700,\n",
    "             height = 500)\n",
    "\n",
    "fig.update_layout(yaxis_range=[0.65,0.9])\n",
    "\n",
    "fig.show()"
   ]
  },
  {
   "cell_type": "markdown",
   "metadata": {},
   "source": [
    "### Scaling"
   ]
  },
  {
   "cell_type": "markdown",
   "metadata": {},
   "source": [
    "- Scaling does not have an impact on the models accuracy\n",
    "- It does have a huge impact on the coefficients of the model parameters\n",
    "- This makes some features appear more/less impactful, and scaling the model is very important for interpretation"
   ]
  },
  {
   "cell_type": "markdown",
   "metadata": {},
   "source": [
    "### Statsmodels Linear Regression"
   ]
  },
  {
   "cell_type": "code",
   "execution_count": null,
   "metadata": {},
   "outputs": [],
   "source": [
    "from statsmodels.formula.api import ols\n",
    "\n",
    "# Define DataFrame\n",
    "final_df = df_cleaned.copy()\n",
    "# Feature Engineer\n",
    "final_df, X_train0, X_test0, y_train0, y_test0 = feature_engineer(final_df,1)\n",
    "# Log Transform\n",
    "final_df = log_transform_and_drop(final_df)\n",
    "# Scale\n",
    "final_df = scale_features(final_df)\n",
    "# Drop columns with low p-value (iterative)\n",
    "final_df = final_df.drop(columns=['zipcode','floors'])\n",
    "\n",
    "# Define dependent / indepenent variables \n",
    "outcome = 'sale_price_log'\n",
    "x_cols = final_df.drop(columns=[outcome]).columns\n",
    "\n",
    "# String together predictors\n",
    "predictors = '+'.join(x_cols)\n",
    "\n",
    "# Define formula\n",
    "formula = outcome + '~' + predictors\n",
    "\n",
    "# Create model\n",
    "model = ols(formula = formula, data = final_df).fit()\n",
    "\n",
    "# View Results\n",
    "model.summary()"
   ]
  },
  {
   "cell_type": "markdown",
   "metadata": {},
   "source": [
    "### Create dictionary to bind features to coefficients and sort"
   ]
  },
  {
   "cell_type": "code",
   "execution_count": null,
   "metadata": {},
   "outputs": [],
   "source": [
    "# Create dictionary with features for keys and coefficients for values\n",
    "results_dict = {x_cols[i]: model.params[i] for i in range(len(x_cols))}\n",
    "# Sort dictionary by absolute value of coefficient\n",
    "results_dict = dict(sorted(results_dict.items(), key=lambda item: abs(item[1]),reverse=True))"
   ]
  },
  {
   "cell_type": "markdown",
   "metadata": {},
   "source": [
    "### View Feature Importance"
   ]
  },
  {
   "cell_type": "code",
   "execution_count": null,
   "metadata": {},
   "outputs": [],
   "source": [
    "fig = px.bar(x=results_dict.keys(), y=results_dict.values())\n",
    "fig.show()"
   ]
  },
  {
   "cell_type": "markdown",
   "metadata": {},
   "source": [
    "### Effect Plot\n",
    "- Weights multiplied by features"
   ]
  },
  {
   "cell_type": "code",
   "execution_count": null,
   "metadata": {},
   "outputs": [],
   "source": [
    "fig = go.Figure(layout=go.Layout(height=500, width=1000))\n",
    "\n",
    "for feature, coef in results_dict.items():\n",
    "    fig.add_trace(\n",
    "        go.Box(\n",
    "               y=final_df[feature]*coef,\n",
    "               name=feature))\n",
    "\n",
    "fig.show()"
   ]
  },
  {
   "cell_type": "markdown",
   "metadata": {},
   "source": [
    "##### \n",
    "##### <center>-------------------------------------------------------------------------------------------------------------------------------------------------------------------------------------</center>\n",
    "##### "
   ]
  },
  {
   "cell_type": "markdown",
   "metadata": {},
   "source": [
    "## Model Explanation"
   ]
  },
  {
   "cell_type": "markdown",
   "metadata": {},
   "source": [
    "- The model created in this notebook has the ability to predict housing price with ~ 88% accuracy. It has interpreted that while certain properties of the home such as the age, size, and quality are indeed important, the quality and price of homes in the same general location are very important as well. This is intuitive to understand, as nicer homes are likely to be worth less when surrounded by homes that are of a lower quality. It also yields insight into the mentality of the buyer, people don't feel as if they are just purchasing homes, but communities. "
   ]
  },
  {
   "cell_type": "markdown",
   "metadata": {},
   "source": [
    "### Coefficient #1: **`median_sqft_living_in_zip`**\n",
    "- This was interpreted to be the most important feature and appears to have a *positive* impact on the price of a home\n",
    "- If a house is in a zipcode that doesn't have any extremely small homes, it tends to have a higher value"
   ]
  },
  {
   "cell_type": "markdown",
   "metadata": {},
   "source": [
    "### Coefficient #2: **`sqft_lot_log`**\n",
    "- This was interpreted to be the second most important feature and appears to have a *positive* impact on the price of a home\n",
    "- It is interesting that the lot size of the property is a better predictor of price than the square footage of the house"
   ]
  },
  {
   "cell_type": "markdown",
   "metadata": {},
   "source": [
    "### Coefficient #3: **`yr_built`**\n",
    "- This was interpreted to be the third most important feature and appears to have a *positive* impact on the price of a home\n",
    "- This is intuitive, newer houses appear to be worth more\n",
    "- When scatterplotting the year built vs sales price there does not appear to be a strong relationship\n",
    "    - The model was able to untangle the complex relationships and determine that newer houses are priced higher"
   ]
  },
  {
   "cell_type": "markdown",
   "metadata": {},
   "source": [
    "##### \n",
    "##### <center>-------------------------------------------------------------------------------------------------------------------------------------------------------------------------------------</center>\n",
    "##### "
   ]
  },
  {
   "cell_type": "markdown",
   "metadata": {},
   "source": [
    "# Further Insight: Possible Opporunity\n",
    "- Here the \"best\" model is recreated, and houses who appear to be severly undervalued are identified"
   ]
  },
  {
   "cell_type": "markdown",
   "metadata": {},
   "source": [
    "### Re-create \"best\" model calculate predictions, actuals, residuals"
   ]
  },
  {
   "cell_type": "code",
   "execution_count": null,
   "metadata": {},
   "outputs": [],
   "source": [
    "df_clean_clip = df_cleaned[df_cleaned['sqft_lot'] < 350000]\n",
    "df_clean_clip_engineered, X_train0, X_test0, y_train0, y_test0 = feature_engineer(df_clean_clip, 1)\n",
    "df_temp = log_transform_and_drop(df_clean_clip_engineered)\n",
    "R2, adj_r2, results_dict, model = split_and_model(df_temp,X_train0, X_test0, y_train0, y_test0)\n",
    "X = df_temp.drop(columns=['sale_price_log'])\n",
    "y = df_temp['sale_price_log']\n",
    "comparison_df = X.copy()\n",
    "comparison_df['Prediction'] = model.predict(comparison_df)\n",
    "comparison_df['Actual'] = y\n",
    "comparison_df['Residual'] = comparison_df['Prediction'] - comparison_df['Actual']"
   ]
  },
  {
   "cell_type": "markdown",
   "metadata": {},
   "source": [
    "### Plot predictions vs actuals"
   ]
  },
  {
   "cell_type": "code",
   "execution_count": null,
   "metadata": {},
   "outputs": [],
   "source": [
    "fig = px.scatter(comparison_df, \n",
    "                 x='Prediction', \n",
    "                 y='Actual', \n",
    "                 trendline=\"ols\",\n",
    "                 color='Residual',\n",
    "                 color_continuous_scale='portland',\n",
    "                 title='Model Prediction Price vs Actual Price',\n",
    "                 height = 400,\n",
    "                 width = 700\n",
    "                )\n",
    "fig.show()"
   ]
  },
  {
   "cell_type": "markdown",
   "metadata": {},
   "source": [
    "### Identify undervalued homes after visual inspection"
   ]
  },
  {
   "cell_type": "code",
   "execution_count": null,
   "metadata": {},
   "outputs": [],
   "source": [
    "df_opportunity = comparison_df[comparison_df['Residual'] > 0.20]\n",
    "display(df_opportunity.shape)\n",
    "df_opportunity.head()"
   ]
  },
  {
   "cell_type": "markdown",
   "metadata": {},
   "source": [
    "### Map Residuals"
   ]
  },
  {
   "cell_type": "code",
   "execution_count": null,
   "metadata": {},
   "outputs": [],
   "source": [
    "import folium\n",
    "import branca.colormap as cm\n",
    "\n",
    "# Create map\n",
    "map_visual = folium.Map(location=(df_opportunity['lat'].mean(), df_opportunity['long'].mean()), zoom_star = 9, width = 500, height = 500)\n",
    "\n",
    "# Specify feature to color by\n",
    "color_by = 'Residual'\n",
    "\n",
    "# Create color map\n",
    "colormap = cm.LinearColormap(colors=['black','gray','green','yellow','orange','red'], vmin=.15, vmax= .4)\n",
    "\n",
    "# Loop through each home in set, create circle, add to map.\n",
    "for idx in df_opportunity.index:\n",
    "    folium.Circle(\n",
    "        location=[df_opportunity.loc[idx]['lat'], df_opportunity.loc[idx]['long']],\n",
    "        radius = 100,\n",
    "        fill=True,\n",
    "        color = colormap(df_opportunity.loc[idx][color_by]),\n",
    "    \n",
    "    ).add_to(map_visual)\n",
    "    \n",
    "# Add colorbar\n",
    "colormap.caption = 'Sale Price'\n",
    "map_visual.add_child(colormap)\n",
    "\n",
    "# View\n",
    "map_visual"
   ]
  }
 ],
 "metadata": {
  "kernelspec": {
   "display_name": "Python 3",
   "language": "python",
   "name": "python3"
  },
  "language_info": {
   "codemirror_mode": {
    "name": "ipython",
    "version": 3
   },
   "file_extension": ".py",
   "mimetype": "text/x-python",
   "name": "python",
   "nbconvert_exporter": "python",
   "pygments_lexer": "ipython3",
   "version": "3.8.8"
  }
 },
 "nbformat": 4,
 "nbformat_minor": 4
}
